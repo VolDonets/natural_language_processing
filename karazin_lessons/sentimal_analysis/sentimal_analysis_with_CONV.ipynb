{
 "cells": [
  {
   "metadata": {},
   "cell_type": "markdown",
   "source": "# Import dependencies",
   "id": "cbc544ca487e6505"
  },
  {
   "metadata": {
    "ExecuteTime": {
     "end_time": "2024-11-08T08:02:43.783244Z",
     "start_time": "2024-11-08T08:02:37.023630Z"
    }
   },
   "cell_type": "code",
   "source": [
    "import glob\n",
    "import os\n",
    "\n",
    "import numpy as np\n",
    "from random import shuffle\n",
    "\n",
    "from tensorflow.keras import Sequential\n",
    "from tensorflow.keras.layers import Dense, Dropout, Activation\n",
    "from tensorflow.keras.layers import Conv1D, GlobalMaxPooling1D\n",
    "\n",
    "from nltk.tokenize import TreebankWordTokenizer\n",
    "from gensim.models.keyedvectors import KeyedVectors\n",
    "import gensim.downloader as gensim_api\n",
    "\n",
    "import matplotlib.pyplot as plt"
   ],
   "id": "b7fd6c37d984554b",
   "outputs": [],
   "execution_count": 1
  },
  {
   "metadata": {},
   "cell_type": "markdown",
   "source": "# Load word vectors",
   "id": "dc85d71038aaa14c"
  },
  {
   "metadata": {
    "ExecuteTime": {
     "end_time": "2024-11-08T08:03:25.630906Z",
     "start_time": "2024-11-08T08:02:43.784437Z"
    }
   },
   "cell_type": "code",
   "source": "word_vectors = gensim_api.load(\"word2vec-google-news-300\")  # 300-dimensional vectors",
   "id": "4557b0f01bb018e5",
   "outputs": [],
   "execution_count": 2
  },
  {
   "metadata": {
    "ExecuteTime": {
     "end_time": "2024-11-08T08:05:16.847338Z",
     "start_time": "2024-11-08T08:05:16.840325Z"
    }
   },
   "cell_type": "code",
   "source": [
    "def preprocess_data(filepath_):\n",
    "    positive_path_ = os.path.join(filepath_, 'pos')\n",
    "    negative_path_ = os.path.join(filepath_, 'neg')\n",
    "    pos_label_ = 1\n",
    "    neg_label_ = 0\n",
    "    dataset_ = []\n",
    "\n",
    "    for filename_ in glob.glob(os.path.join(positive_path_, '*.txt')):\n",
    "        try:\n",
    "            with open(filename_, 'r') as f_:\n",
    "                dataset_.append((pos_label_, f_.read()))\n",
    "        except UnicodeDecodeError:\n",
    "            pass\n",
    "\n",
    "    for filename_ in glob.glob(os.path.join(negative_path_, '*.txt')):\n",
    "        try:\n",
    "            with open(filename_, 'r') as f_:\n",
    "                dataset_.append((neg_label_, f_.read()))\n",
    "        except UnicodeDecodeError:\n",
    "            pass\n",
    "\n",
    "    shuffle(dataset_)\n",
    "    return dataset_"
   ],
   "id": "60aea84c663de6d7",
   "outputs": [],
   "execution_count": 3
  },
  {
   "metadata": {
    "ExecuteTime": {
     "end_time": "2024-11-08T08:05:17.461215Z",
     "start_time": "2024-11-08T08:05:17.456220Z"
    }
   },
   "cell_type": "code",
   "source": [
    "def tokenize_and_vectorize(dataset_):\n",
    "    tokenizer_ = TreebankWordTokenizer()\n",
    "    vectorized_data_ = []\n",
    "    expected_ = []\n",
    "    for sample_ in dataset_:\n",
    "        tokens_ = tokenizer_.tokenize(sample_[1])\n",
    "        sample_vecs_ = []\n",
    "        for token_ in tokens_:\n",
    "            try:\n",
    "                sample_vecs_.append(word_vectors[token_])\n",
    "            except KeyError:\n",
    "                pass\n",
    "        vectorized_data_.append(sample_vecs_)\n",
    "        expected_.append(sample_[0])\n",
    "    return vectorized_data_, expected_"
   ],
   "id": "2f2eba9819f5f097",
   "outputs": [],
   "execution_count": 4
  },
  {
   "metadata": {
    "ExecuteTime": {
     "end_time": "2024-11-08T08:09:02.087290Z",
     "start_time": "2024-11-08T08:06:29.864120Z"
    }
   },
   "cell_type": "code",
   "source": [
    "dataset = preprocess_data(\"../../src/part_6/stanford_sent_analysis_dataset/aclImdb/test\")\n",
    "print('Result of loading a training dataset:')\n",
    "print(dataset[0], '\\n\\n')\n",
    "print('Len dataset:', len(dataset))\n",
    "print(\"Because I don't have enough memory: I'll crop the dataset:\")\n",
    "dataset = dataset[:5000]\n",
    "print('Len new dataset:', len(dataset))"
   ],
   "id": "caf84ab38cd264b4",
   "outputs": [
    {
     "name": "stdout",
     "output_type": "stream",
     "text": [
      "Result of loading a training dataset:\n",
      "(0, 'This for one has nothing to do with the absolutely fantastic first flick. And of course us Americans just have to remake everything successful into English, because man reading subtitles is SOOOOO Hard isn\\'t it! From what I\\'ve see in the new trailers with the adorable now pregnant Jessica Alba (well that sure ruins every teenage boys fantasy everywhere doesn\\'t it!) It looks EXACTLY the same but probably w/double the budget. I thought the original was one of the best horror/suspense/mystery flicks I have seen in any language in quite a long while. I would recommend watching that one and skipping this one all together, there is no reason to watch this as there is no reason this even called \"The Eye 2\" except to capitalize on the excellence that was the first flick. Do yourself a favor watch \"The Eye\" with the volume turned up and get ready for some probable jumping. I watched it w/headphones on and was pleasantly surprised on the excellence that was the direction of the Pang brothers. If \"The Eye\" remake does well which I\\'m hoping it does for the sake of the Pang Brothers movie careers, but at the same time it seems a shame that people won\\'t/can\\'t see the original, because very often/almost always the remake isn\\'t as good as the original. Watch this one if one wants to be mildly kinda of boring flick, but the original is no comparison to this sequel in name only flick.') \n",
      "\n",
      "\n",
      "Len dataset: 24985\n",
      "Because I don't have enough memory: I'll crop the dataset:\n",
      "Len new dataset: 5000\n"
     ]
    }
   ],
   "execution_count": 5
  },
  {
   "metadata": {
    "ExecuteTime": {
     "end_time": "2024-11-08T08:09:53.334668Z",
     "start_time": "2024-11-08T08:09:48.148102Z"
    }
   },
   "cell_type": "code",
   "source": [
    "vectorized_data, expected = tokenize_and_vectorize(dataset)\n",
    "del dataset\n",
    "\n",
    "split_point = int(len(vectorized_data) * .8)\n",
    "x_train = vectorized_data[:split_point]\n",
    "y_train = expected[:split_point]\n",
    "x_test = vectorized_data[split_point:]\n",
    "y_test = expected[split_point:]"
   ],
   "id": "ac53b6aa814280c8",
   "outputs": [],
   "execution_count": 6
  },
  {
   "metadata": {
    "ExecuteTime": {
     "end_time": "2024-11-08T08:09:54.985217Z",
     "start_time": "2024-11-08T08:09:54.863630Z"
    }
   },
   "cell_type": "code",
   "source": [
    "del vectorized_data\n",
    "del expected\n",
    "del word_vectors"
   ],
   "id": "84c0101f54b25251",
   "outputs": [],
   "execution_count": 7
  },
  {
   "metadata": {
    "ExecuteTime": {
     "end_time": "2024-11-08T08:09:56.898969Z",
     "start_time": "2024-11-08T08:09:56.894571Z"
    }
   },
   "cell_type": "code",
   "source": [
    "print(\"Count train samples:\", len(x_train))\n",
    "print(\"Count test samples:\", len(x_test))"
   ],
   "id": "82e78d6fe6dbd38f",
   "outputs": [
    {
     "name": "stdout",
     "output_type": "stream",
     "text": [
      "Count train samples: 4000\n",
      "Count test samples: 1000\n"
     ]
    }
   ],
   "execution_count": 8
  },
  {
   "metadata": {
    "ExecuteTime": {
     "end_time": "2024-11-08T08:10:30.988696Z",
     "start_time": "2024-11-08T08:10:30.982984Z"
    }
   },
   "cell_type": "code",
   "source": [
    "# CNN parameters:\n",
    "maxlen = 400\n",
    "batch_size = 32         # how many samples to show the net before\n",
    "#                         backpropagation the error and updating the weights\n",
    "embedding_dims = 300    # Length of the token vectors to create for passing into the convnet\n",
    "filters = 250           # Number of filters for train\n",
    "kernel_size = 3         # The width of the filters (filter matrix = embedding_dims x kernel_size\n",
    "hidden_dims = 250       # Number of neurons in the plain feedforward net at the end of the chain\n",
    "epochs = 10             # Number of times for passing the entire training dataset through the net"
   ],
   "id": "d040ae76f8bd7abd",
   "outputs": [],
   "execution_count": 9
  },
  {
   "metadata": {
    "ExecuteTime": {
     "end_time": "2024-11-08T08:13:15.800058Z",
     "start_time": "2024-11-08T08:13:15.793790Z"
    }
   },
   "cell_type": "code",
   "source": [
    "# 'keras' has a preprocessing helper method, 'pad_sequences', that in theory could be used to pad\n",
    "# your input data, but it works only with sequences of scalars, not sequences of vectors.\n",
    "# So let's create own method for padding sequences of vectors:\n",
    "def pad_trunc(data_, maxlen_):\n",
    "    new_data_ = []\n",
    "    zero_vector_ = [0.0 for _ in range(len(data_[0][0]))]\n",
    "    for sample_ in data_:\n",
    "        if len(sample_) > maxlen_:\n",
    "            temp_ = sample_[:maxlen_]\n",
    "        elif len(sample_) < maxlen_:\n",
    "            temp_ = sample_\n",
    "            additional_elems_ = maxlen_ - len(sample_)\n",
    "            for _ in range(additional_elems_):\n",
    "                temp_.append(zero_vector_)\n",
    "        else:\n",
    "            temp_ = sample_\n",
    "        new_data_.append(temp_)\n",
    "    return new_data_"
   ],
   "id": "d8f1b7ec398db63d",
   "outputs": [],
   "execution_count": 10
  },
  {
   "metadata": {
    "ExecuteTime": {
     "end_time": "2024-11-08T08:13:31.607231Z",
     "start_time": "2024-11-08T08:13:16.333638Z"
    }
   },
   "cell_type": "code",
   "source": [
    "x_train = pad_trunc(x_train, maxlen)\n",
    "x_test = pad_trunc(x_test, maxlen)\n",
    "x_train = np.reshape(x_train, (len(x_train), maxlen, embedding_dims))\n",
    "y_train = np.array(y_train)\n",
    "x_test = np.reshape(x_test, (len(x_test), maxlen, embedding_dims))\n",
    "y_test = np.array(y_test)"
   ],
   "id": "cddeacb1b1faf600",
   "outputs": [],
   "execution_count": 11
  },
  {
   "metadata": {
    "ExecuteTime": {
     "end_time": "2024-11-08T08:14:31.926529Z",
     "start_time": "2024-11-08T08:14:31.821922Z"
    }
   },
   "cell_type": "code",
   "source": [
    "model = Sequential()\n",
    "\n",
    "model.add(Conv1D(\n",
    "    filters=filters,\n",
    "    kernel_size=kernel_size,\n",
    "    padding='valid',\n",
    "    activation='relu',\n",
    "    strides=1,\n",
    "    input_shape=(maxlen, embedding_dims)\n",
    "))\n",
    "\n",
    "# GlobalMaxPooping1D applies pooling to all feature map, not to a specific window\n",
    "model.add(GlobalMaxPooling1D())\n",
    "\n",
    "model.add(Dense(units=hidden_dims))\n",
    "model.add(Dropout(rate=0.2))\n",
    "model.add(Activation(activation='relu'))\n",
    "\n",
    "model.add(Dense(units=1,\n",
    "                activation='sigmoid'))\n",
    "\n",
    "model.summary()"
   ],
   "id": "1b7786ed8e97b342",
   "outputs": [
    {
     "name": "stderr",
     "output_type": "stream",
     "text": [
      "D:\\documents\\python_projects\\natural_language_processing\\.venv\\Lib\\site-packages\\keras\\src\\layers\\convolutional\\base_conv.py:107: UserWarning: Do not pass an `input_shape`/`input_dim` argument to a layer. When using Sequential models, prefer using an `Input(shape)` object as the first layer in the model instead.\n",
      "  super().__init__(activity_regularizer=activity_regularizer, **kwargs)\n"
     ]
    },
    {
     "data": {
      "text/plain": [
       "\u001B[1mModel: \"sequential_1\"\u001B[0m\n"
      ],
      "text/html": [
       "<pre style=\"white-space:pre;overflow-x:auto;line-height:normal;font-family:Menlo,'DejaVu Sans Mono',consolas,'Courier New',monospace\"><span style=\"font-weight: bold\">Model: \"sequential_1\"</span>\n",
       "</pre>\n"
      ]
     },
     "metadata": {},
     "output_type": "display_data"
    },
    {
     "data": {
      "text/plain": [
       "┏━━━━━━━━━━━━━━━━━━━━━━━━━━━━━━━━━┳━━━━━━━━━━━━━━━━━━━━━━━━┳━━━━━━━━━━━━━━━┓\n",
       "┃\u001B[1m \u001B[0m\u001B[1mLayer (type)                   \u001B[0m\u001B[1m \u001B[0m┃\u001B[1m \u001B[0m\u001B[1mOutput Shape          \u001B[0m\u001B[1m \u001B[0m┃\u001B[1m \u001B[0m\u001B[1m      Param #\u001B[0m\u001B[1m \u001B[0m┃\n",
       "┡━━━━━━━━━━━━━━━━━━━━━━━━━━━━━━━━━╇━━━━━━━━━━━━━━━━━━━━━━━━╇━━━━━━━━━━━━━━━┩\n",
       "│ conv1d (\u001B[38;5;33mConv1D\u001B[0m)                 │ (\u001B[38;5;45mNone\u001B[0m, \u001B[38;5;34m398\u001B[0m, \u001B[38;5;34m250\u001B[0m)       │       \u001B[38;5;34m225,250\u001B[0m │\n",
       "├─────────────────────────────────┼────────────────────────┼───────────────┤\n",
       "│ global_max_pooling1d            │ (\u001B[38;5;45mNone\u001B[0m, \u001B[38;5;34m250\u001B[0m)            │             \u001B[38;5;34m0\u001B[0m │\n",
       "│ (\u001B[38;5;33mGlobalMaxPooling1D\u001B[0m)            │                        │               │\n",
       "├─────────────────────────────────┼────────────────────────┼───────────────┤\n",
       "│ dense (\u001B[38;5;33mDense\u001B[0m)                   │ (\u001B[38;5;45mNone\u001B[0m, \u001B[38;5;34m250\u001B[0m)            │        \u001B[38;5;34m62,750\u001B[0m │\n",
       "├─────────────────────────────────┼────────────────────────┼───────────────┤\n",
       "│ dropout (\u001B[38;5;33mDropout\u001B[0m)               │ (\u001B[38;5;45mNone\u001B[0m, \u001B[38;5;34m250\u001B[0m)            │             \u001B[38;5;34m0\u001B[0m │\n",
       "├─────────────────────────────────┼────────────────────────┼───────────────┤\n",
       "│ activation (\u001B[38;5;33mActivation\u001B[0m)         │ (\u001B[38;5;45mNone\u001B[0m, \u001B[38;5;34m250\u001B[0m)            │             \u001B[38;5;34m0\u001B[0m │\n",
       "├─────────────────────────────────┼────────────────────────┼───────────────┤\n",
       "│ dense_1 (\u001B[38;5;33mDense\u001B[0m)                 │ (\u001B[38;5;45mNone\u001B[0m, \u001B[38;5;34m1\u001B[0m)              │           \u001B[38;5;34m251\u001B[0m │\n",
       "└─────────────────────────────────┴────────────────────────┴───────────────┘\n"
      ],
      "text/html": [
       "<pre style=\"white-space:pre;overflow-x:auto;line-height:normal;font-family:Menlo,'DejaVu Sans Mono',consolas,'Courier New',monospace\">┏━━━━━━━━━━━━━━━━━━━━━━━━━━━━━━━━━┳━━━━━━━━━━━━━━━━━━━━━━━━┳━━━━━━━━━━━━━━━┓\n",
       "┃<span style=\"font-weight: bold\"> Layer (type)                    </span>┃<span style=\"font-weight: bold\"> Output Shape           </span>┃<span style=\"font-weight: bold\">       Param # </span>┃\n",
       "┡━━━━━━━━━━━━━━━━━━━━━━━━━━━━━━━━━╇━━━━━━━━━━━━━━━━━━━━━━━━╇━━━━━━━━━━━━━━━┩\n",
       "│ conv1d (<span style=\"color: #0087ff; text-decoration-color: #0087ff\">Conv1D</span>)                 │ (<span style=\"color: #00d7ff; text-decoration-color: #00d7ff\">None</span>, <span style=\"color: #00af00; text-decoration-color: #00af00\">398</span>, <span style=\"color: #00af00; text-decoration-color: #00af00\">250</span>)       │       <span style=\"color: #00af00; text-decoration-color: #00af00\">225,250</span> │\n",
       "├─────────────────────────────────┼────────────────────────┼───────────────┤\n",
       "│ global_max_pooling1d            │ (<span style=\"color: #00d7ff; text-decoration-color: #00d7ff\">None</span>, <span style=\"color: #00af00; text-decoration-color: #00af00\">250</span>)            │             <span style=\"color: #00af00; text-decoration-color: #00af00\">0</span> │\n",
       "│ (<span style=\"color: #0087ff; text-decoration-color: #0087ff\">GlobalMaxPooling1D</span>)            │                        │               │\n",
       "├─────────────────────────────────┼────────────────────────┼───────────────┤\n",
       "│ dense (<span style=\"color: #0087ff; text-decoration-color: #0087ff\">Dense</span>)                   │ (<span style=\"color: #00d7ff; text-decoration-color: #00d7ff\">None</span>, <span style=\"color: #00af00; text-decoration-color: #00af00\">250</span>)            │        <span style=\"color: #00af00; text-decoration-color: #00af00\">62,750</span> │\n",
       "├─────────────────────────────────┼────────────────────────┼───────────────┤\n",
       "│ dropout (<span style=\"color: #0087ff; text-decoration-color: #0087ff\">Dropout</span>)               │ (<span style=\"color: #00d7ff; text-decoration-color: #00d7ff\">None</span>, <span style=\"color: #00af00; text-decoration-color: #00af00\">250</span>)            │             <span style=\"color: #00af00; text-decoration-color: #00af00\">0</span> │\n",
       "├─────────────────────────────────┼────────────────────────┼───────────────┤\n",
       "│ activation (<span style=\"color: #0087ff; text-decoration-color: #0087ff\">Activation</span>)         │ (<span style=\"color: #00d7ff; text-decoration-color: #00d7ff\">None</span>, <span style=\"color: #00af00; text-decoration-color: #00af00\">250</span>)            │             <span style=\"color: #00af00; text-decoration-color: #00af00\">0</span> │\n",
       "├─────────────────────────────────┼────────────────────────┼───────────────┤\n",
       "│ dense_1 (<span style=\"color: #0087ff; text-decoration-color: #0087ff\">Dense</span>)                 │ (<span style=\"color: #00d7ff; text-decoration-color: #00d7ff\">None</span>, <span style=\"color: #00af00; text-decoration-color: #00af00\">1</span>)              │           <span style=\"color: #00af00; text-decoration-color: #00af00\">251</span> │\n",
       "└─────────────────────────────────┴────────────────────────┴───────────────┘\n",
       "</pre>\n"
      ]
     },
     "metadata": {},
     "output_type": "display_data"
    },
    {
     "data": {
      "text/plain": [
       "\u001B[1m Total params: \u001B[0m\u001B[38;5;34m288,251\u001B[0m (1.10 MB)\n"
      ],
      "text/html": [
       "<pre style=\"white-space:pre;overflow-x:auto;line-height:normal;font-family:Menlo,'DejaVu Sans Mono',consolas,'Courier New',monospace\"><span style=\"font-weight: bold\"> Total params: </span><span style=\"color: #00af00; text-decoration-color: #00af00\">288,251</span> (1.10 MB)\n",
       "</pre>\n"
      ]
     },
     "metadata": {},
     "output_type": "display_data"
    },
    {
     "data": {
      "text/plain": [
       "\u001B[1m Trainable params: \u001B[0m\u001B[38;5;34m288,251\u001B[0m (1.10 MB)\n"
      ],
      "text/html": [
       "<pre style=\"white-space:pre;overflow-x:auto;line-height:normal;font-family:Menlo,'DejaVu Sans Mono',consolas,'Courier New',monospace\"><span style=\"font-weight: bold\"> Trainable params: </span><span style=\"color: #00af00; text-decoration-color: #00af00\">288,251</span> (1.10 MB)\n",
       "</pre>\n"
      ]
     },
     "metadata": {},
     "output_type": "display_data"
    },
    {
     "data": {
      "text/plain": [
       "\u001B[1m Non-trainable params: \u001B[0m\u001B[38;5;34m0\u001B[0m (0.00 B)\n"
      ],
      "text/html": [
       "<pre style=\"white-space:pre;overflow-x:auto;line-height:normal;font-family:Menlo,'DejaVu Sans Mono',consolas,'Courier New',monospace\"><span style=\"font-weight: bold\"> Non-trainable params: </span><span style=\"color: #00af00; text-decoration-color: #00af00\">0</span> (0.00 B)\n",
       "</pre>\n"
      ]
     },
     "metadata": {},
     "output_type": "display_data"
    }
   ],
   "execution_count": 13
  },
  {
   "metadata": {
    "ExecuteTime": {
     "end_time": "2024-11-08T08:17:07.653595Z",
     "start_time": "2024-11-08T08:15:38.489443Z"
    }
   },
   "cell_type": "code",
   "source": [
    "model.compile(loss='binary_crossentropy',\n",
    "              optimizer='adam',\n",
    "              metrics=['accuracy'])\n",
    "\n",
    "history = model.fit(x_train, y_train,\n",
    "          batch_size=batch_size,\n",
    "          epochs=epochs,\n",
    "          validation_data=(x_test, y_test))"
   ],
   "id": "87cc869ce2cf3e0d",
   "outputs": [
    {
     "name": "stdout",
     "output_type": "stream",
     "text": [
      "Epoch 1/10\n",
      "\u001B[1m125/125\u001B[0m \u001B[32m━━━━━━━━━━━━━━━━━━━━\u001B[0m\u001B[37m\u001B[0m \u001B[1m9s\u001B[0m 61ms/step - accuracy: 0.6071 - loss: 0.6462 - val_accuracy: 0.8310 - val_loss: 0.3641\n",
      "Epoch 2/10\n",
      "\u001B[1m125/125\u001B[0m \u001B[32m━━━━━━━━━━━━━━━━━━━━\u001B[0m\u001B[37m\u001B[0m \u001B[1m9s\u001B[0m 72ms/step - accuracy: 0.8769 - loss: 0.3014 - val_accuracy: 0.8530 - val_loss: 0.3179\n",
      "Epoch 3/10\n",
      "\u001B[1m125/125\u001B[0m \u001B[32m━━━━━━━━━━━━━━━━━━━━\u001B[0m\u001B[37m\u001B[0m \u001B[1m8s\u001B[0m 65ms/step - accuracy: 0.9637 - loss: 0.1399 - val_accuracy: 0.8620 - val_loss: 0.3014\n",
      "Epoch 4/10\n",
      "\u001B[1m125/125\u001B[0m \u001B[32m━━━━━━━━━━━━━━━━━━━━\u001B[0m\u001B[37m\u001B[0m \u001B[1m8s\u001B[0m 64ms/step - accuracy: 0.9950 - loss: 0.0420 - val_accuracy: 0.8740 - val_loss: 0.2930\n",
      "Epoch 5/10\n",
      "\u001B[1m125/125\u001B[0m \u001B[32m━━━━━━━━━━━━━━━━━━━━\u001B[0m\u001B[37m\u001B[0m \u001B[1m8s\u001B[0m 66ms/step - accuracy: 1.0000 - loss: 0.0081 - val_accuracy: 0.8750 - val_loss: 0.3112\n",
      "Epoch 6/10\n",
      "\u001B[1m125/125\u001B[0m \u001B[32m━━━━━━━━━━━━━━━━━━━━\u001B[0m\u001B[37m\u001B[0m \u001B[1m8s\u001B[0m 61ms/step - accuracy: 1.0000 - loss: 0.0029 - val_accuracy: 0.8760 - val_loss: 0.3303\n",
      "Epoch 7/10\n",
      "\u001B[1m125/125\u001B[0m \u001B[32m━━━━━━━━━━━━━━━━━━━━\u001B[0m\u001B[37m\u001B[0m \u001B[1m8s\u001B[0m 61ms/step - accuracy: 1.0000 - loss: 0.0017 - val_accuracy: 0.8740 - val_loss: 0.3422\n",
      "Epoch 8/10\n",
      "\u001B[1m125/125\u001B[0m \u001B[32m━━━━━━━━━━━━━━━━━━━━\u001B[0m\u001B[37m\u001B[0m \u001B[1m9s\u001B[0m 71ms/step - accuracy: 1.0000 - loss: 0.0010 - val_accuracy: 0.8680 - val_loss: 0.3515\n",
      "Epoch 9/10\n",
      "\u001B[1m125/125\u001B[0m \u001B[32m━━━━━━━━━━━━━━━━━━━━\u001B[0m\u001B[37m\u001B[0m \u001B[1m9s\u001B[0m 70ms/step - accuracy: 1.0000 - loss: 6.9354e-04 - val_accuracy: 0.8710 - val_loss: 0.3638\n",
      "Epoch 10/10\n",
      "\u001B[1m125/125\u001B[0m \u001B[32m━━━━━━━━━━━━━━━━━━━━\u001B[0m\u001B[37m\u001B[0m \u001B[1m11s\u001B[0m 88ms/step - accuracy: 1.0000 - loss: 4.6466e-04 - val_accuracy: 0.8690 - val_loss: 0.3806\n"
     ]
    }
   ],
   "execution_count": 14
  },
  {
   "metadata": {},
   "cell_type": "code",
   "outputs": [],
   "execution_count": null,
   "source": "",
   "id": "d3c16423d2d2423d"
  },
  {
   "metadata": {
    "ExecuteTime": {
     "end_time": "2024-11-08T08:20:11.338235Z",
     "start_time": "2024-11-08T08:20:11.140251Z"
    }
   },
   "cell_type": "code",
   "source": [
    "epoch_array = range(1, len(history.history['loss']) + 1)\n",
    "train_array_hist = history.history['loss']\n",
    "test_array_hist = history.history['val_loss']\n",
    "\n",
    "plt.plot(epoch_array, train_array_hist, label=\"loss\")\n",
    "plt.plot(epoch_array, test_array_hist, label=\"val_loss\")\n",
    "plt.xlabel(\"epochs\")\n",
    "plt.title(\"total loss\")\n",
    "\n",
    "plt.legend()\n",
    "plt.show()"
   ],
   "id": "98aa718747992b34",
   "outputs": [
    {
     "data": {
      "text/plain": [
       "<Figure size 640x480 with 1 Axes>"
      ],
      "image/png": "[encoded data removed]"
     },
     "metadata": {},
     "output_type": "display_data"
    }
   ],
   "execution_count": 16
  },
  {
   "metadata": {
    "ExecuteTime": {
     "end_time": "2024-11-08T08:21:03.221682Z",
     "start_time": "2024-11-08T08:21:03.094228Z"
    }
   },
   "cell_type": "code",
   "source": [
    "epoch_array = range(1, len(history.history['loss']) + 1)\n",
    "train_array_hist = history.history['accuracy']\n",
    "test_array_hist = history.history['val_accuracy']\n",
    "\n",
    "plt.plot(epoch_array, train_array_hist, label=\"accuracy\")\n",
    "plt.plot(epoch_array, test_array_hist, label=\"val_accuracy\")\n",
    "plt.xlabel(\"epochs\")\n",
    "plt.title(\"total accuracy\")\n",
    "\n",
    "plt.legend()\n",
    "plt.show()"
   ],
   "id": "ae6330b4773d7181",
   "outputs": [
    {
     "data": {
      "text/plain": [
       "<Figure size 640x480 with 1 Axes>"
      ],
      "image/png": "[encoded data removed]"
     },
     "metadata": {},
     "output_type": "display_data"
    }
   ],
   "execution_count": 18
  },
  {
   "metadata": {},
   "cell_type": "code",
   "outputs": [],
   "execution_count": null,
   "source": "",
   "id": "8d1a690ff1dce429"
  },
  {
   "metadata": {
    "ExecuteTime": {
     "end_time": "2024-11-08T08:23:29.066979Z",
     "start_time": "2024-11-08T08:23:29.013466Z"
    }
   },
   "cell_type": "code",
   "source": [
    "# save model to file:\n",
    "model_structure = model.to_json()\n",
    "with open('resulting_models/CONV_sentimal/cnn_model.json', 'w') as json_file:\n",
    "    json_file.write(model_structure)\n",
    "model.save_weights('resulting_models/CONV_sentimal/cnn_weights.weights.h5')"
   ],
   "id": "1890d0368014423e",
   "outputs": [],
   "execution_count": 20
  },
  {
   "metadata": {},
   "cell_type": "code",
   "outputs": [],
   "execution_count": null,
   "source": "",
   "id": "a73f14c0efa7b0b"
  }
 ],
 "metadata": {
  "kernelspec": {
   "display_name": "Python 3",
   "language": "python",
   "name": "python3"
  },
  "language_info": {
   "codemirror_mode": {
    "name": "ipython",
    "version": 2
   },
   "file_extension": ".py",
   "mimetype": "text/x-python",
   "name": "python",
   "nbconvert_exporter": "python",
   "pygments_lexer": "ipython2",
   "version": "2.7.6"
  }
 },
 "nbformat": 4,
 "nbformat_minor": 5
}
