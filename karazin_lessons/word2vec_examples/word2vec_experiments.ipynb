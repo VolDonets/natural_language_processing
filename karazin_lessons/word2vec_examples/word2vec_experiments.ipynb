{
 "cells": [
  {
   "metadata": {},
   "cell_type": "markdown",
   "source": "# Import the dependencies",
   "id": "6c9c1c739f607f2c"
  },
  {
   "metadata": {
    "ExecuteTime": {
     "end_time": "2024-11-08T06:47:02.924426Z",
     "start_time": "2024-11-08T06:47:01.776443Z"
    }
   },
   "cell_type": "code",
   "source": "import gensim.downloader as api",
   "id": "b0788f16237b0e0f",
   "outputs": [],
   "execution_count": 1
  },
  {
   "metadata": {},
   "cell_type": "markdown",
   "source": "# Load a Word2Vec model",
   "id": "d1714ada5ebf5c73"
  },
  {
   "metadata": {},
   "cell_type": "markdown",
   "source": "[slim Word2Vec](https://github.com/eyaler/word2vec-slim) -- there is a smaller version, might be usefull, if you have some RAM issues",
   "id": "bde023fb99eea1de"
  },
  {
   "metadata": {
    "ExecuteTime": {
     "end_time": "2024-11-08T06:47:42.845319Z",
     "start_time": "2024-11-08T06:47:04.739958Z"
    }
   },
   "cell_type": "code",
   "source": [
    "# Load a small pre-trained Word2Vec model\n",
    "model = api.load(\"word2vec-google-news-300\")  # 300-dimensional vectors"
   ],
   "id": "136cb6a504be366d",
   "outputs": [],
   "execution_count": 2
  },
  {
   "metadata": {},
   "cell_type": "markdown",
   "source": "# Find similar words",
   "id": "e47eca33773c8fda"
  },
  {
   "metadata": {
    "ExecuteTime": {
     "end_time": "2024-11-08T06:50:31.289019Z",
     "start_time": "2024-11-08T06:50:31.278532Z"
    }
   },
   "cell_type": "code",
   "source": [
    "# Access vector for a word\n",
    "word_vector = model[\"king\"]\n",
    "word_vector"
   ],
   "id": "958acf616846ca62",
   "outputs": [
    {
     "data": {
      "text/plain": [
       "array([ 1.25976562e-01,  2.97851562e-02,  8.60595703e-03,  1.39648438e-01,\n",
       "       -2.56347656e-02, -3.61328125e-02,  1.11816406e-01, -1.98242188e-01,\n",
       "        5.12695312e-02,  3.63281250e-01, -2.42187500e-01, -3.02734375e-01,\n",
       "       -1.77734375e-01, -2.49023438e-02, -1.67968750e-01, -1.69921875e-01,\n",
       "        3.46679688e-02,  5.21850586e-03,  4.63867188e-02,  1.28906250e-01,\n",
       "        1.36718750e-01,  1.12792969e-01,  5.95703125e-02,  1.36718750e-01,\n",
       "        1.01074219e-01, -1.76757812e-01, -2.51953125e-01,  5.98144531e-02,\n",
       "        3.41796875e-01, -3.11279297e-02,  1.04492188e-01,  6.17675781e-02,\n",
       "        1.24511719e-01,  4.00390625e-01, -3.22265625e-01,  8.39843750e-02,\n",
       "        3.90625000e-02,  5.85937500e-03,  7.03125000e-02,  1.72851562e-01,\n",
       "        1.38671875e-01, -2.31445312e-01,  2.83203125e-01,  1.42578125e-01,\n",
       "        3.41796875e-01, -2.39257812e-02, -1.09863281e-01,  3.32031250e-02,\n",
       "       -5.46875000e-02,  1.53198242e-02, -1.62109375e-01,  1.58203125e-01,\n",
       "       -2.59765625e-01,  2.01416016e-02, -1.63085938e-01,  1.35803223e-03,\n",
       "       -1.44531250e-01, -5.68847656e-02,  4.29687500e-02, -2.46582031e-02,\n",
       "        1.85546875e-01,  4.47265625e-01,  9.58251953e-03,  1.31835938e-01,\n",
       "        9.86328125e-02, -1.85546875e-01, -1.00097656e-01, -1.33789062e-01,\n",
       "       -1.25000000e-01,  2.83203125e-01,  1.23046875e-01,  5.32226562e-02,\n",
       "       -1.77734375e-01,  8.59375000e-02, -2.18505859e-02,  2.05078125e-02,\n",
       "       -1.39648438e-01,  2.51464844e-02,  1.38671875e-01, -1.05468750e-01,\n",
       "        1.38671875e-01,  8.88671875e-02, -7.51953125e-02, -2.13623047e-02,\n",
       "        1.72851562e-01,  4.63867188e-02, -2.65625000e-01,  8.91113281e-03,\n",
       "        1.49414062e-01,  3.78417969e-02,  2.38281250e-01, -1.24511719e-01,\n",
       "       -2.17773438e-01, -1.81640625e-01,  2.97851562e-02,  5.71289062e-02,\n",
       "       -2.89306641e-02,  1.24511719e-02,  9.66796875e-02, -2.31445312e-01,\n",
       "        5.81054688e-02,  6.68945312e-02,  7.08007812e-02, -3.08593750e-01,\n",
       "       -2.14843750e-01,  1.45507812e-01, -4.27734375e-01, -9.39941406e-03,\n",
       "        1.54296875e-01, -7.66601562e-02,  2.89062500e-01,  2.77343750e-01,\n",
       "       -4.86373901e-04, -1.36718750e-01,  3.24218750e-01, -2.46093750e-01,\n",
       "       -3.03649902e-03, -2.11914062e-01,  1.25000000e-01,  2.69531250e-01,\n",
       "        2.04101562e-01,  8.25195312e-02, -2.01171875e-01, -1.60156250e-01,\n",
       "       -3.78417969e-02, -1.20117188e-01,  1.15234375e-01, -4.10156250e-02,\n",
       "       -3.95507812e-02, -8.98437500e-02,  6.34765625e-03,  2.03125000e-01,\n",
       "        1.86523438e-01,  2.73437500e-01,  6.29882812e-02,  1.41601562e-01,\n",
       "       -9.81445312e-02,  1.38671875e-01,  1.82617188e-01,  1.73828125e-01,\n",
       "        1.73828125e-01, -2.37304688e-01,  1.78710938e-01,  6.34765625e-02,\n",
       "        2.36328125e-01, -2.08984375e-01,  8.74023438e-02, -1.66015625e-01,\n",
       "       -7.91015625e-02,  2.43164062e-01, -8.88671875e-02,  1.26953125e-01,\n",
       "       -2.16796875e-01, -1.73828125e-01, -3.59375000e-01, -8.25195312e-02,\n",
       "       -6.49414062e-02,  5.07812500e-02,  1.35742188e-01, -7.47070312e-02,\n",
       "       -1.64062500e-01,  1.15356445e-02,  4.45312500e-01, -2.15820312e-01,\n",
       "       -1.11328125e-01, -1.92382812e-01,  1.70898438e-01, -1.25000000e-01,\n",
       "        2.65502930e-03,  1.92382812e-01, -1.74804688e-01,  1.39648438e-01,\n",
       "        2.92968750e-01,  1.13281250e-01,  5.95703125e-02, -6.39648438e-02,\n",
       "        9.96093750e-02, -2.72216797e-02,  1.96533203e-02,  4.27246094e-02,\n",
       "       -2.46093750e-01,  6.39648438e-02, -2.25585938e-01, -1.68945312e-01,\n",
       "        2.89916992e-03,  8.20312500e-02,  3.41796875e-01,  4.32128906e-02,\n",
       "        1.32812500e-01,  1.42578125e-01,  7.61718750e-02,  5.98144531e-02,\n",
       "       -1.19140625e-01,  2.74658203e-03, -6.29882812e-02, -2.72216797e-02,\n",
       "       -4.82177734e-03, -8.20312500e-02, -2.49023438e-02, -4.00390625e-01,\n",
       "       -1.06933594e-01,  4.24804688e-02,  7.76367188e-02, -1.16699219e-01,\n",
       "        7.37304688e-02, -9.22851562e-02,  1.07910156e-01,  1.58203125e-01,\n",
       "        4.24804688e-02,  1.26953125e-01,  3.61328125e-02,  2.67578125e-01,\n",
       "       -1.01074219e-01, -3.02734375e-01, -5.76171875e-02,  5.05371094e-02,\n",
       "        5.26428223e-04, -2.07031250e-01, -1.38671875e-01, -8.97216797e-03,\n",
       "       -2.78320312e-02, -1.41601562e-01,  2.07031250e-01, -1.58203125e-01,\n",
       "        1.27929688e-01,  1.49414062e-01, -2.24609375e-02, -8.44726562e-02,\n",
       "        1.22558594e-01,  2.15820312e-01, -2.13867188e-01, -3.12500000e-01,\n",
       "       -3.73046875e-01,  4.08935547e-03,  1.07421875e-01,  1.06933594e-01,\n",
       "        7.32421875e-02,  8.97216797e-03, -3.88183594e-02, -1.29882812e-01,\n",
       "        1.49414062e-01, -2.14843750e-01, -1.83868408e-03,  9.91210938e-02,\n",
       "        1.57226562e-01, -1.14257812e-01, -2.05078125e-01,  9.91210938e-02,\n",
       "        3.69140625e-01, -1.97265625e-01,  3.54003906e-02,  1.09375000e-01,\n",
       "        1.31835938e-01,  1.66992188e-01,  2.35351562e-01,  1.04980469e-01,\n",
       "       -4.96093750e-01, -1.64062500e-01, -1.56250000e-01, -5.22460938e-02,\n",
       "        1.03027344e-01,  2.43164062e-01, -1.88476562e-01,  5.07812500e-02,\n",
       "       -9.37500000e-02, -6.68945312e-02,  2.27050781e-02,  7.61718750e-02,\n",
       "        2.89062500e-01,  3.10546875e-01, -5.37109375e-02,  2.28515625e-01,\n",
       "        2.51464844e-02,  6.78710938e-02, -1.21093750e-01, -2.15820312e-01,\n",
       "       -2.73437500e-01, -3.07617188e-02, -3.37890625e-01,  1.53320312e-01,\n",
       "        2.33398438e-01, -2.08007812e-01,  3.73046875e-01,  8.20312500e-02,\n",
       "        2.51953125e-01, -7.61718750e-02, -4.66308594e-02, -2.23388672e-02,\n",
       "        2.99072266e-02, -5.93261719e-02, -4.66918945e-03, -2.44140625e-01,\n",
       "       -2.09960938e-01, -2.87109375e-01, -4.54101562e-02, -1.77734375e-01,\n",
       "       -2.79296875e-01, -8.59375000e-02,  9.13085938e-02,  2.51953125e-01],\n",
       "      dtype=float32)"
      ]
     },
     "execution_count": 3,
     "metadata": {},
     "output_type": "execute_result"
    }
   ],
   "execution_count": 3
  },
  {
   "metadata": {
    "ExecuteTime": {
     "end_time": "2024-11-08T06:50:54.259539Z",
     "start_time": "2024-11-08T06:50:54.253222Z"
    }
   },
   "cell_type": "code",
   "source": "type(word_vector)",
   "id": "890991ad27d1ed9b",
   "outputs": [
    {
     "data": {
      "text/plain": [
       "numpy.ndarray"
      ]
     },
     "execution_count": 4,
     "metadata": {},
     "output_type": "execute_result"
    }
   ],
   "execution_count": 4
  },
  {
   "metadata": {
    "ExecuteTime": {
     "end_time": "2024-11-08T06:51:15.581912Z",
     "start_time": "2024-11-08T06:51:15.577595Z"
    }
   },
   "cell_type": "code",
   "source": "word_vector.shape",
   "id": "10f21c76349dbc8e",
   "outputs": [
    {
     "data": {
      "text/plain": [
       "(300,)"
      ]
     },
     "execution_count": 5,
     "metadata": {},
     "output_type": "execute_result"
    }
   ],
   "execution_count": 5
  },
  {
   "metadata": {
    "ExecuteTime": {
     "end_time": "2024-11-08T06:51:26.328194Z",
     "start_time": "2024-11-08T06:51:26.322357Z"
    }
   },
   "cell_type": "code",
   "source": "word_vector.round(2)",
   "id": "82938ce6e0da8efe",
   "outputs": [
    {
     "data": {
      "text/plain": [
       "array([ 0.13,  0.03,  0.01,  0.14, -0.03, -0.04,  0.11, -0.2 ,  0.05,\n",
       "        0.36, -0.24, -0.3 , -0.18, -0.02, -0.17, -0.17,  0.03,  0.01,\n",
       "        0.05,  0.13,  0.14,  0.11,  0.06,  0.14,  0.1 , -0.18, -0.25,\n",
       "        0.06,  0.34, -0.03,  0.1 ,  0.06,  0.12,  0.4 , -0.32,  0.08,\n",
       "        0.04,  0.01,  0.07,  0.17,  0.14, -0.23,  0.28,  0.14,  0.34,\n",
       "       -0.02, -0.11,  0.03, -0.05,  0.02, -0.16,  0.16, -0.26,  0.02,\n",
       "       -0.16,  0.  , -0.14, -0.06,  0.04, -0.02,  0.19,  0.45,  0.01,\n",
       "        0.13,  0.1 , -0.19, -0.1 , -0.13, -0.12,  0.28,  0.12,  0.05,\n",
       "       -0.18,  0.09, -0.02,  0.02, -0.14,  0.03,  0.14, -0.11,  0.14,\n",
       "        0.09, -0.08, -0.02,  0.17,  0.05, -0.27,  0.01,  0.15,  0.04,\n",
       "        0.24, -0.12, -0.22, -0.18,  0.03,  0.06, -0.03,  0.01,  0.1 ,\n",
       "       -0.23,  0.06,  0.07,  0.07, -0.31, -0.21,  0.15, -0.43, -0.01,\n",
       "        0.15, -0.08,  0.29,  0.28, -0.  , -0.14,  0.32, -0.25, -0.  ,\n",
       "       -0.21,  0.12,  0.27,  0.2 ,  0.08, -0.2 , -0.16, -0.04, -0.12,\n",
       "        0.12, -0.04, -0.04, -0.09,  0.01,  0.2 ,  0.19,  0.27,  0.06,\n",
       "        0.14, -0.1 ,  0.14,  0.18,  0.17,  0.17, -0.24,  0.18,  0.06,\n",
       "        0.24, -0.21,  0.09, -0.17, -0.08,  0.24, -0.09,  0.13, -0.22,\n",
       "       -0.17, -0.36, -0.08, -0.06,  0.05,  0.14, -0.07, -0.16,  0.01,\n",
       "        0.45, -0.22, -0.11, -0.19,  0.17, -0.12,  0.  ,  0.19, -0.17,\n",
       "        0.14,  0.29,  0.11,  0.06, -0.06,  0.1 , -0.03,  0.02,  0.04,\n",
       "       -0.25,  0.06, -0.23, -0.17,  0.  ,  0.08,  0.34,  0.04,  0.13,\n",
       "        0.14,  0.08,  0.06, -0.12,  0.  , -0.06, -0.03, -0.  , -0.08,\n",
       "       -0.02, -0.4 , -0.11,  0.04,  0.08, -0.12,  0.07, -0.09,  0.11,\n",
       "        0.16,  0.04,  0.13,  0.04,  0.27, -0.1 , -0.3 , -0.06,  0.05,\n",
       "        0.  , -0.21, -0.14, -0.01, -0.03, -0.14,  0.21, -0.16,  0.13,\n",
       "        0.15, -0.02, -0.08,  0.12,  0.22, -0.21, -0.31, -0.37,  0.  ,\n",
       "        0.11,  0.11,  0.07,  0.01, -0.04, -0.13,  0.15, -0.21, -0.  ,\n",
       "        0.1 ,  0.16, -0.11, -0.21,  0.1 ,  0.37, -0.2 ,  0.04,  0.11,\n",
       "        0.13,  0.17,  0.24,  0.1 , -0.5 , -0.16, -0.16, -0.05,  0.1 ,\n",
       "        0.24, -0.19,  0.05, -0.09, -0.07,  0.02,  0.08,  0.29,  0.31,\n",
       "       -0.05,  0.23,  0.03,  0.07, -0.12, -0.22, -0.27, -0.03, -0.34,\n",
       "        0.15,  0.23, -0.21,  0.37,  0.08,  0.25, -0.08, -0.05, -0.02,\n",
       "        0.03, -0.06, -0.  , -0.24, -0.21, -0.29, -0.05, -0.18, -0.28,\n",
       "       -0.09,  0.09,  0.25], dtype=float32)"
      ]
     },
     "execution_count": 6,
     "metadata": {},
     "output_type": "execute_result"
    }
   ],
   "execution_count": 6
  },
  {
   "metadata": {
    "ExecuteTime": {
     "end_time": "2024-11-08T06:52:42.322868Z",
     "start_time": "2024-11-08T06:52:40.833666Z"
    }
   },
   "cell_type": "code",
   "source": [
    "# Find similar words\n",
    "similar_words = model.most_similar(\"king\", topn=5)\n",
    "print(\"Top 5 similar words to 'king':\", similar_words)"
   ],
   "id": "ed3a67c64c65307e",
   "outputs": [
    {
     "name": "stdout",
     "output_type": "stream",
     "text": [
      "Top 5 similar words to 'king': [('kings', 0.7138045430183411), ('queen', 0.6510956883430481), ('monarch', 0.6413194537162781), ('crown_prince', 0.6204220056533813), ('prince', 0.6159993410110474)]\n"
     ]
    }
   ],
   "execution_count": 7
  },
  {
   "metadata": {
    "ExecuteTime": {
     "end_time": "2024-11-08T06:52:54.843173Z",
     "start_time": "2024-11-08T06:52:54.672914Z"
    }
   },
   "cell_type": "code",
   "source": [
    "word_to_search = \"cat\"\n",
    "\n",
    "similar_words = model.most_similar(word_to_search, topn=5)\n",
    "print(f\"Top 5 similar words to '{word_to_search}':\", similar_words)"
   ],
   "id": "ef75bd6666766f13",
   "outputs": [
    {
     "name": "stdout",
     "output_type": "stream",
     "text": [
      "Top 5 similar words to 'cat': [('cats', 0.8099379539489746), ('dog', 0.760945737361908), ('kitten', 0.7464985251426697), ('feline', 0.7326234579086304), ('beagle', 0.7150582671165466)]\n"
     ]
    }
   ],
   "execution_count": 8
  },
  {
   "metadata": {
    "ExecuteTime": {
     "end_time": "2024-11-08T06:53:11.866096Z",
     "start_time": "2024-11-08T06:53:11.685719Z"
    }
   },
   "cell_type": "code",
   "source": [
    "word_to_search = \"man\"\n",
    "\n",
    "similar_words = model.most_similar(word_to_search, topn=5)\n",
    "print(f\"Top 5 similar words to '{word_to_search}':\", similar_words)"
   ],
   "id": "a81cd313706526d",
   "outputs": [
    {
     "name": "stdout",
     "output_type": "stream",
     "text": [
      "Top 5 similar words to 'man': [('woman', 0.7664012908935547), ('boy', 0.6824871301651001), ('teenager', 0.6586930155754089), ('teenage_girl', 0.6147903203964233), ('girl', 0.5921714305877686)]\n"
     ]
    }
   ],
   "execution_count": 9
  },
  {
   "metadata": {
    "ExecuteTime": {
     "end_time": "2024-11-08T06:53:15.800376Z",
     "start_time": "2024-11-08T06:53:15.633370Z"
    }
   },
   "cell_type": "code",
   "source": [
    "word_to_search = \"alone\"\n",
    "\n",
    "similar_words = model.most_similar(word_to_search, topn=5)\n",
    "print(f\"Top 5 similar words to '{word_to_search}':\", similar_words)"
   ],
   "id": "ffe61709b837462b",
   "outputs": [
    {
     "name": "stdout",
     "output_type": "stream",
     "text": [
      "Top 5 similar words to 'alone': [('annie##_leave_lindsay', 0.5542675256729126), ('assigning_tiring', 0.4371609389781952), ('Leave_Dudus', 0.428184449672699), ('Players_Gone_Amok', 0.42348283529281616), ('Giovanditto_lived', 0.41885659098625183)]\n"
     ]
    }
   ],
   "execution_count": 10
  },
  {
   "metadata": {
    "ExecuteTime": {
     "end_time": "2024-11-08T06:53:18.993952Z",
     "start_time": "2024-11-08T06:53:18.812164Z"
    }
   },
   "cell_type": "code",
   "source": [
    "word_to_search = \"super\"\n",
    "\n",
    "similar_words = model.most_similar(word_to_search, topn=5)\n",
    "print(f\"Top 5 similar words to '{word_to_search}':\", similar_words)"
   ],
   "id": "a6bfe37c2f624429",
   "outputs": [
    {
     "name": "stdout",
     "output_type": "stream",
     "text": [
      "Top 5 similar words to 'super': [('super_duper', 0.6194837093353271), ('pyroclastic_flows_surging', 0.5681405663490295), ('uber', 0.5673124194145203), ('cold_liquid_propellant', 0.5415526628494263), ('thin_Macbook_Air', 0.509585976600647)]\n"
     ]
    }
   ],
   "execution_count": 11
  },
  {
   "metadata": {
    "ExecuteTime": {
     "end_time": "2024-11-08T06:53:20.608744Z",
     "start_time": "2024-11-08T06:53:20.434890Z"
    }
   },
   "cell_type": "code",
   "source": [
    "word_to_search = \"bob\"\n",
    "\n",
    "similar_words = model.most_similar(word_to_search, topn=5)\n",
    "print(f\"Top 5 similar words to '{word_to_search}':\", similar_words)"
   ],
   "id": "bb057fa51f8431a1",
   "outputs": [
    {
     "name": "stdout",
     "output_type": "stream",
     "text": [
      "Top 5 similar words to 'bob': [('bobs', 0.6185109615325928), ('bangs', 0.5067192912101746), ('backcombed', 0.5058960318565369), ('flicky', 0.5026658177375793), ('wavy_locks', 0.5014684200286865)]\n"
     ]
    }
   ],
   "execution_count": 12
  },
  {
   "metadata": {
    "ExecuteTime": {
     "end_time": "2024-11-08T06:53:26.433297Z",
     "start_time": "2024-11-08T06:53:26.263005Z"
    }
   },
   "cell_type": "code",
   "source": [
    "word_to_search = \"sponge\"\n",
    "\n",
    "similar_words = model.most_similar(word_to_search, topn=5)\n",
    "print(f\"Top 5 similar words to '{word_to_search}':\", similar_words)"
   ],
   "id": "52b4270ec34858e1",
   "outputs": [
    {
     "name": "stdout",
     "output_type": "stream",
     "text": [
      "Top 5 similar words to 'sponge': [('sponges', 0.6998162269592285), ('loofa', 0.5653605461120605), ('blotting_paper', 0.5609318614006042), ('goop', 0.5528113842010498), ('damp_sponge', 0.5429357886314392)]\n"
     ]
    }
   ],
   "execution_count": 13
  },
  {
   "metadata": {
    "ExecuteTime": {
     "end_time": "2024-11-08T07:06:20.601759Z",
     "start_time": "2024-11-08T07:06:20.433741Z"
    }
   },
   "cell_type": "code",
   "source": [
    "word_to_search = \"Sponge_Bob\"\n",
    "\n",
    "similar_words = model.most_similar(word_to_search, topn=5)\n",
    "print(f\"Top 5 similar words to '{word_to_search}':\", similar_words)"
   ],
   "id": "d6a5af13b4dbcf4f",
   "outputs": [
    {
     "name": "stdout",
     "output_type": "stream",
     "text": [
      "Top 5 similar words to 'Sponge_Bob': [('SpongeBob', 0.7425269484519958), ('Spongebob', 0.7138105630874634), ('Spongebob_Squarepants', 0.7050618529319763), ('Squarepants', 0.6845995783805847), ('SpongeBob_SquarePants', 0.680410623550415)]\n"
     ]
    }
   ],
   "execution_count": 28
  },
  {
   "metadata": {},
   "cell_type": "code",
   "outputs": [],
   "execution_count": null,
   "source": "",
   "id": "a466ef57b610012"
  },
  {
   "metadata": {},
   "cell_type": "markdown",
   "source": "# You work here",
   "id": "ccabc7587bd68f9e"
  },
  {
   "metadata": {},
   "cell_type": "code",
   "outputs": [],
   "execution_count": null,
   "source": "# TODO 1: find top 5 most similar words to your selected words",
   "id": "fbc946aa67c177ce"
  },
  {
   "metadata": {},
   "cell_type": "code",
   "outputs": [],
   "execution_count": null,
   "source": "",
   "id": "92f2b12124392522"
  },
  {
   "metadata": {},
   "cell_type": "code",
   "outputs": [],
   "execution_count": null,
   "source": "",
   "id": "e16f03f0ad34611"
  },
  {
   "metadata": {},
   "cell_type": "markdown",
   "source": "# Semantic Search with Word2Vec",
   "id": "f7bdb56641cc3be"
  },
  {
   "metadata": {
    "ExecuteTime": {
     "end_time": "2024-11-08T06:58:18.056251Z",
     "start_time": "2024-11-08T06:58:17.851450Z"
    }
   },
   "cell_type": "code",
   "source": [
    "similar_words = model.most_similar(\n",
    "    'French France woman famous scientist chemistry Nobel_Prize radiation physics name person human'.split(),\n",
    "    negative='man man man man school ecole place country'.split(),\n",
    "    topn=40,\n",
    ")\n",
    "\n",
    "for inx, sw in enumerate(similar_words):\n",
    "    print(f\"{inx}: {sw}\")"
   ],
   "id": "63fd4bd6adb95dab",
   "outputs": [
    {
     "name": "stdout",
     "output_type": "stream",
     "text": [
      "0: ('Pierre_Curie', 0.48349955677986145)\n",
      "1: ('Henri_Becquerel', 0.47997117042541504)\n",
      "2: ('Otto_Warburg', 0.4735907316207886)\n",
      "3: ('blackbody_radiation', 0.4725410044193268)\n",
      "4: ('Nobelist', 0.46358683705329895)\n",
      "5: ('Kary_Mullis', 0.4630543291568756)\n",
      "6: ('Seoul_Soongsil_University', 0.46133187413215637)\n",
      "7: ('George_Gamow', 0.45909202098846436)\n",
      "8: ('Nobel_Chemistry', 0.45735475420951843)\n",
      "9: ('Alivisatos', 0.45495474338531494)\n",
      "10: ('Patapoutian', 0.45271503925323486)\n",
      "11: ('Aaron_Ciechanover', 0.44992703199386597)\n",
      "12: ('Albert_Fert', 0.4489958882331848)\n",
      "13: ('Curies', 0.4488680362701416)\n",
      "14: ('Hans_Moravec', 0.4472632110118866)\n",
      "15: ('Christopher_Chyba', 0.44701898097991943)\n",
      "16: ('Christiane_Volhard', 0.44684478640556335)\n",
      "17: ('Nobel_Physics', 0.4467819035053253)\n",
      "18: ('Masaru_Emoto', 0.4459092915058136)\n",
      "19: ('Dariusz_Leszczynski', 0.4457385540008545)\n",
      "20: ('Jean_Marie_Lehn', 0.44281116127967834)\n",
      "21: ('Arun_Bhunia', 0.44278499484062195)\n",
      "22: ('Szent_Gyorgyi', 0.4416571259498596)\n",
      "23: ('Naomi_Halas', 0.44147342443466187)\n",
      "24: ('Harry_Kroto', 0.43956050276756287)\n",
      "25: ('mammalian_genetics', 0.43858417868614197)\n",
      "26: ('Grillmair', 0.4377969205379486)\n",
      "27: ('Masatoshi_Koshiba', 0.4368647336959839)\n",
      "28: ('Johan_Auwerx', 0.436363160610199)\n",
      "29: ('Eugene_Wigner', 0.43591082096099854)\n",
      "30: ('Eric_Kandel', 0.4352949559688568)\n",
      "31: ('Carolyn_Bertozzi', 0.4339359700679779)\n",
      "32: ('Raymond_Jeanloz', 0.43373534083366394)\n",
      "33: ('Prusiner', 0.43326473236083984)\n",
      "34: ('Markus_Buehler', 0.4331446588039398)\n",
      "35: ('William_Happer', 0.4324338138103485)\n",
      "36: ('Makiko_Sato', 0.432386189699173)\n",
      "37: ('Rolf_Halden', 0.4323630928993225)\n",
      "38: ('MRC_LMB', 0.43212321400642395)\n",
      "39: ('Angela_Belcher', 0.4317418038845062)\n"
     ]
    }
   ],
   "execution_count": 17
  },
  {
   "metadata": {
    "ExecuteTime": {
     "end_time": "2024-11-08T06:59:52.136021Z",
     "start_time": "2024-11-08T06:59:51.961399Z"
    }
   },
   "cell_type": "code",
   "source": [
    "similar_words = model.most_similar(\n",
    "    'Pierre_Curie Nobel_Prize famous smart French physics woman women person name'.split(),\n",
    "    negative='man male male geography city Pierre prize'.split(),\n",
    "    topn=5,\n",
    ")\n",
    "\n",
    "for inx, sw in enumerate(similar_words):\n",
    "    print(f\"{inx}: {sw}\")"
   ],
   "id": "a506770e22c1253d",
   "outputs": [
    {
     "name": "stdout",
     "output_type": "stream",
     "text": [
      "0: ('Madame_Curie', 0.441272497177124)\n",
      "1: ('Ada_Lovelace', 0.4309345781803131)\n",
      "2: ('economist_Franco_Modigliani', 0.42140284180641174)\n",
      "3: ('physicist_Niels_Bohr', 0.4198070168495178)\n",
      "4: ('Murray_Gell_Mann', 0.41829755902290344)\n"
     ]
    }
   ],
   "execution_count": 18
  },
  {
   "metadata": {
    "ExecuteTime": {
     "end_time": "2024-11-08T07:10:35.270011Z",
     "start_time": "2024-11-08T07:10:35.109575Z"
    }
   },
   "cell_type": "code",
   "source": [
    "similar_words = model.most_similar(\n",
    "    'fiction story man Bikini_Bottom burger Patrick sponge SquarePants'.split(),\n",
    "    negative='real woman food pans'.split(),\n",
    "    topn=20,\n",
    ")\n",
    "\n",
    "for inx, sw in enumerate(similar_words):\n",
    "    print(f\"{inx}: {sw}\")"
   ],
   "id": "c0889811bfe8c646",
   "outputs": [
    {
     "name": "stdout",
     "output_type": "stream",
     "text": [
      "0: ('Katzenjammer_Kids', 0.49258947372436523)\n",
      "1: ('SpongeBob', 0.49195829033851624)\n",
      "2: ('Joe_Palooka', 0.49097940325737)\n",
      "3: ('China_Mieville', 0.47877931594848633)\n",
      "4: ('Rick_Remender', 0.4722161889076233)\n",
      "5: ('Sub_Mariner', 0.4695882797241211)\n",
      "6: ('Newsarama.com', 0.4692865312099457)\n",
      "7: ('Judith_Krantz', 0.4651118218898773)\n",
      "8: ('Len_Wein', 0.46355050802230835)\n",
      "9: ('Kristin_Cashore', 0.462638258934021)\n",
      "10: ('graphic_novel', 0.46228116750717163)\n",
      "11: ('Billy_Batson', 0.45925670862197876)\n",
      "12: ('Kochalka', 0.4592294692993164)\n",
      "13: ('Carl_Barks', 0.45829570293426514)\n",
      "14: ('Gil_Thorp', 0.45772281289100647)\n",
      "15: ('Dr._Seuss', 0.457646906375885)\n",
      "16: ('Scary_Godmother', 0.45722734928131104)\n",
      "17: ('Doug_Moench', 0.4571211636066437)\n",
      "18: ('fictional_sleuth', 0.4569329023361206)\n",
      "19: ('Spook_Apprentice', 0.45688119530677795)\n"
     ]
    }
   ],
   "execution_count": 43
  },
  {
   "metadata": {
    "ExecuteTime": {
     "end_time": "2024-11-08T07:13:21.509312Z",
     "start_time": "2024-11-08T07:13:21.346679Z"
    }
   },
   "cell_type": "code",
   "source": [
    "similar_words = model.most_similar(\n",
    "    positive=['cooking', 'potatoes'],\n",
    "    topn=5,\n",
    ")\n",
    "\n",
    "for inx, sw in enumerate(similar_words):\n",
    "    print(f\"{inx}: {sw}\")"
   ],
   "id": "b7ed654bd78ccb6d",
   "outputs": [
    {
     "name": "stdout",
     "output_type": "stream",
     "text": [
      "0: ('cook', 0.6973530650138855)\n",
      "1: ('oven_roasting', 0.6754531264305115)\n",
      "2: ('Slow_cooker', 0.6742031574249268)\n",
      "3: ('sweet_potatoes', 0.6600280404090881)\n",
      "4: ('stir_fry_vegetables', 0.6548759341239929)\n"
     ]
    }
   ],
   "execution_count": 44
  },
  {
   "metadata": {
    "ExecuteTime": {
     "end_time": "2024-11-08T07:14:02.962460Z",
     "start_time": "2024-11-08T07:14:02.789423Z"
    }
   },
   "cell_type": "code",
   "source": [
    "similar_words = model.most_similar(\n",
    "    positive=['germany', 'france'],\n",
    "    topn=5,\n",
    ")\n",
    "\n",
    "for inx, sw in enumerate(similar_words):\n",
    "    print(f\"{inx}: {sw}\")"
   ],
   "id": "566c82c578847f2",
   "outputs": [
    {
     "name": "stdout",
     "output_type": "stream",
     "text": [
      "0: ('europe', 0.7222040295600891)\n",
      "1: ('spain', 0.701023519039154)\n",
      "2: ('european', 0.6962699294090271)\n",
      "3: ('german', 0.6810604333877563)\n",
      "4: ('italy', 0.6680153608322144)\n"
     ]
    }
   ],
   "execution_count": 45
  },
  {
   "metadata": {},
   "cell_type": "code",
   "outputs": [],
   "execution_count": null,
   "source": [
    "similar_words = model.most_similar(\n",
    "    positive=[],\n",
    "    topn=5,\n",
    ")\n",
    "\n",
    "for inx, sw in enumerate(similar_words):\n",
    "    print(f\"{inx}: {sw}\")"
   ],
   "id": "9caf4b22b51eea00"
  },
  {
   "metadata": {},
   "cell_type": "markdown",
   "source": "# Find the word which do not match others",
   "id": "fd4b848aff136040"
  },
  {
   "metadata": {
    "ExecuteTime": {
     "end_time": "2024-11-08T07:16:08.565225Z",
     "start_time": "2024-11-08T07:16:08.561627Z"
    }
   },
   "cell_type": "code",
   "source": [
    "doesnt_matched_word = model.doesnt_match(\n",
    "    'potatoes milk cake computer'.split(),\n",
    ")\n",
    "\n",
    "print(doesnt_matched_word)"
   ],
   "id": "9332c494e1590954",
   "outputs": [
    {
     "name": "stdout",
     "output_type": "stream",
     "text": [
      "computer\n"
     ]
    }
   ],
   "execution_count": 48
  },
  {
   "metadata": {
    "ExecuteTime": {
     "end_time": "2024-11-08T07:16:35.672543Z",
     "start_time": "2024-11-08T07:16:35.498614Z"
    }
   },
   "cell_type": "code",
   "source": [
    "calc = model.most_similar(positive=['king', 'woman'], negative=['man'], topn=5)\n",
    "print(\"\\nProcessing calculus for 'king' + 'woman' - 'man' = 'queen':\")\n",
    "print(calc)"
   ],
   "id": "f74614d28bc032e1",
   "outputs": [
    {
     "name": "stdout",
     "output_type": "stream",
     "text": [
      "\n",
      "Processing calculus for 'king' + 'woman' - 'man' = 'queen':\n",
      "[('queen', 0.7118193507194519), ('monarch', 0.6189674139022827), ('princess', 0.5902431011199951), ('crown_prince', 0.5499460697174072), ('prince', 0.5377321839332581)]\n"
     ]
    }
   ],
   "execution_count": 49
  },
  {
   "metadata": {},
   "cell_type": "markdown",
   "source": "# Calculate similarity between 2 words",
   "id": "565e58fbae0b836c"
  },
  {
   "metadata": {
    "ExecuteTime": {
     "end_time": "2024-11-08T07:17:28.431031Z",
     "start_time": "2024-11-08T07:17:28.426524Z"
    }
   },
   "cell_type": "code",
   "source": [
    "sim = model.similarity('princess', 'queen')\n",
    "print(\"\\nCalculating similarity: 'princess' & 'queen'\")\n",
    "print(sim)"
   ],
   "id": "7e5c3d4176206079",
   "outputs": [
    {
     "name": "stdout",
     "output_type": "stream",
     "text": [
      "\n",
      "Calculating similarity: 'princess' & 'queen'\n",
      "0.7070532\n"
     ]
    }
   ],
   "execution_count": 50
  },
  {
   "metadata": {},
   "cell_type": "code",
   "outputs": [],
   "execution_count": null,
   "source": "",
   "id": "30b280585beabfb9"
  },
  {
   "metadata": {},
   "cell_type": "code",
   "outputs": [],
   "execution_count": null,
   "source": "# TODO 2: repeat `most_similar`, `similarity`, `doesnt_match`",
   "id": "994ecf4e82c2c861"
  },
  {
   "metadata": {},
   "cell_type": "code",
   "outputs": [],
   "execution_count": null,
   "source": "",
   "id": "c1f18ce362d72365"
  },
  {
   "metadata": {},
   "cell_type": "code",
   "outputs": [],
   "execution_count": null,
   "source": "",
   "id": "43ea8decf8fb585d"
  },
  {
   "metadata": {},
   "cell_type": "code",
   "outputs": [],
   "execution_count": null,
   "source": "",
   "id": "d6e84eca1bd2489"
  },
  {
   "metadata": {},
   "cell_type": "code",
   "outputs": [],
   "execution_count": null,
   "source": "",
   "id": "64343ec3f9dc9711"
  }
 ],
 "metadata": {
  "kernelspec": {
   "display_name": "Python 3",
   "language": "python",
   "name": "python3"
  },
  "language_info": {
   "codemirror_mode": {
    "name": "ipython",
    "version": 2
   },
   "file_extension": ".py",
   "mimetype": "text/x-python",
   "name": "python",
   "nbconvert_exporter": "python",
   "pygments_lexer": "ipython2",
   "version": "2.7.6"
  }
 },
 "nbformat": 4,
 "nbformat_minor": 5
}
