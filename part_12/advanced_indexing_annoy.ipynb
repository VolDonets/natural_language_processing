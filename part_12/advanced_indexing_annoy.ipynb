{
 "cells": [
  {
   "cell_type": "markdown",
   "source": [
    "The approximate answer from the Annoy index is significantly faster than the gensim index that provides exact results. And you can use this Annoy index for any high-dimensional, continuous, dense vectors that you need to search, such as LSA document-topic vectors or doc2vec document embeddings (vectors)."
   ],
   "metadata": {
    "collapsed": false
   }
  },
  {
   "cell_type": "code",
   "execution_count": null,
   "outputs": [],
   "source": [
    "from nlpia.loaders import get_data"
   ],
   "metadata": {
    "collapsed": false
   }
  },
  {
   "cell_type": "code",
   "execution_count": null,
   "outputs": [],
   "source": [
    "wv = get_data(\"word2vec\")"
   ],
   "metadata": {
    "collapsed": false
   }
  },
  {
   "cell_type": "code",
   "execution_count": null,
   "outputs": [],
   "source": [
    "len(wv), wv.vector_size"
   ],
   "metadata": {
    "collapsed": false
   }
  },
  {
   "cell_type": "code",
   "execution_count": null,
   "outputs": [],
   "source": [
    "wv.vectors.shape"
   ],
   "metadata": {
    "collapsed": false
   }
  },
  {
   "cell_type": "code",
   "execution_count": null,
   "outputs": [],
   "source": [
    "# This code won't work under Windows env (WTF???), but under Linux it will.\n",
    "# The reason lib \"annoy\" doesn't compatible with Windows without ass penetration stuff.\n",
    "from annoy import AnnoyIndex\n",
    "\n",
    "\n",
    "num_words, num_dimensions = wv.vectors.shape\n",
    "index = AnnoyIndex(num_dimensions)"
   ],
   "metadata": {
    "collapsed": false
   }
  },
  {
   "cell_type": "code",
   "execution_count": null,
   "outputs": [],
   "source": [
    "from tqdm import tqdm\n",
    "\n",
    "\n",
    "for i, word in enumerate(tqdm(wv.index2word)):\n",
    "    index.add_item(i, wv[word])"
   ],
   "metadata": {
    "collapsed": false
   }
  },
  {
   "cell_type": "code",
   "execution_count": null,
   "outputs": [],
   "source": [
    "import numpy as np\n",
    "num_trees = int(np.log(num_words).round(0))\n",
    "print(num_trees)"
   ],
   "metadata": {
    "collapsed": false
   }
  },
  {
   "cell_type": "code",
   "execution_count": null,
   "outputs": [],
   "source": [
    "index.build(num_trees)\n",
    "index.save(\"Word2vec_euc_index.ann\")\n",
    "w2id = dict(zip(range(len(wv)), wv))"
   ],
   "metadata": {
    "collapsed": false
   }
  },
  {
   "cell_type": "markdown",
   "source": [
    "## Look up a word from the vocab"
   ],
   "metadata": {
    "collapsed": false
   }
  },
  {
   "cell_type": "code",
   "execution_count": null,
   "outputs": [],
   "source": [
    "wv['Harry_Potter'].index"
   ],
   "metadata": {
    "collapsed": false
   }
  },
  {
   "cell_type": "code",
   "execution_count": null,
   "outputs": [],
   "source": [
    "wv['Harry_Potter'].count"
   ],
   "metadata": {
    "collapsed": false
   }
  },
  {
   "cell_type": "code",
   "execution_count": null,
   "outputs": [],
   "source": [
    "w2id = dict(zip(wv, range(wv.vocab)))"
   ],
   "metadata": {
    "collapsed": false
   }
  },
  {
   "cell_type": "code",
   "execution_count": null,
   "outputs": [],
   "source": [
    "w2id[\"Harry_Potter\"]"
   ],
   "metadata": {
    "collapsed": false
   }
  },
  {
   "cell_type": "code",
   "execution_count": null,
   "outputs": [],
   "source": [
    "ids = index.get_nns_by_item(w2id[\"Harry_Potter\"], 11)\n",
    "print(ids)"
   ],
   "metadata": {
    "collapsed": false
   }
  },
  {
   "cell_type": "code",
   "execution_count": null,
   "outputs": [],
   "source": [
    "[wv[i] for i in ids]"
   ],
   "metadata": {
    "collapsed": false
   }
  },
  {
   "cell_type": "code",
   "execution_count": null,
   "outputs": [],
   "source": [
    "[wv.index2word[i] for i in ids]"
   ],
   "metadata": {
    "collapsed": false
   }
  },
  {
   "cell_type": "code",
   "execution_count": null,
   "outputs": [],
   "source": [
    "[word for word, similarity in wv.most_similar('Harry_Potter', topn=10)]"
   ],
   "metadata": {
    "collapsed": false
   }
  },
  {
   "cell_type": "markdown",
   "source": [
    "## Improve acc of annoy with using cosine (instead Euclidean) metric and more trees"
   ],
   "metadata": {
    "collapsed": false
   }
  },
  {
   "cell_type": "code",
   "execution_count": null,
   "outputs": [],
   "source": [
    "index_cos = AnnoyIndex(f=num_dimensions, metric=\"angular\")\n",
    "# metric=\"angular\" uses for angular (cosine) distance metric to compute your cluster and hashes\n",
    "# Your options are: \"angular\", \"euclidean\", \"manhattan\", or \"hamming\"\n",
    "\n",
    "for i, word in enumerate(wv.index2word):\n",
    "    if not i % 100_000:\n",
    "        print(f\"{i}: {word}\")\n",
    "    index_cos.add_item(i, wv[word])"
   ],
   "metadata": {
    "collapsed": false
   }
  },
  {
   "cell_type": "code",
   "execution_count": null,
   "outputs": [],
   "source": [
    "index_cos.build(30)\n",
    "index_cos.save(\"word2vec_cos_index.ann\")"
   ],
   "metadata": {
    "collapsed": false
   }
  },
  {
   "cell_type": "code",
   "execution_count": null,
   "outputs": [],
   "source": [
    "ids_cos = index_cos.get_nns_by_item(w2id['Harry_Potter'], 10)\n",
    "print(ids_cos)"
   ],
   "metadata": {
    "collapsed": false
   }
  },
  {
   "cell_type": "code",
   "execution_count": null,
   "outputs": [],
   "source": [
    "# You'll get a bit other results than in book\n",
    "# for repeatability use AnnoyIndex.set_seed()\n",
    "\n",
    "[wv.index2word[i] for i in ids_cos]"
   ],
   "metadata": {
    "collapsed": false
   }
  },
  {
   "cell_type": "code",
   "execution_count": null,
   "outputs": [],
   "source": [
    "import pandas as pd\n",
    "pd.DataFrame(annoy_top10, columns=['annoy_15trees', 'annoy_30trees'])"
   ],
   "metadata": {
    "collapsed": false
   }
  }
 ],
 "metadata": {
  "kernelspec": {
   "display_name": "Python 3",
   "language": "python",
   "name": "python3"
  },
  "language_info": {
   "codemirror_mode": {
    "name": "ipython",
    "version": 2
   },
   "file_extension": ".py",
   "mimetype": "text/x-python",
   "name": "python",
   "nbconvert_exporter": "python",
   "pygments_lexer": "ipython2",
   "version": "2.7.6"
  }
 },
 "nbformat": 4,
 "nbformat_minor": 0
}
