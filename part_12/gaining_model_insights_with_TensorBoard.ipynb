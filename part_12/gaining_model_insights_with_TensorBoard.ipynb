{
 "cells": [
  {
   "cell_type": "code",
   "execution_count": null,
   "metadata": {
    "collapsed": true
   },
   "outputs": [],
   "source": [
    "import os\n",
    "import tensorflow as tf\n",
    "import numpy as np\n",
    "from io import open\n",
    "from tensorboard.plugins import projector"
   ]
  },
  {
   "cell_type": "code",
   "execution_count": null,
   "outputs": [],
   "source": [
    "def create_projection(projection_data,\n",
    "                      projection_name=\"tensorboard_viz\",\n",
    "                      path=\"/tmp/\"):\n",
    "    meta_file = f\"{projection_name}.tsv\"\n",
    "    vector_dim = len(projection_data[0][1])\n",
    "    samples = len(projection_data)\n",
    "    projection_matrix = np.zeros((samples, vector_dim))\n",
    "\n",
    "    with open(os.path.join(path, meta_file), 'w') as file_metadata:\n",
    "         for i, row in enumerate(projection_data):\n",
    "            label, vector = row[0], row[1]\n",
    "            projection_matrix[i] = np.array(vector)\n",
    "            file_metadata.write(\"{}\\n\".format(label))\n",
    "\n",
    "    sess = tf.InteractiveSession()\n",
    "\n",
    "    embedding = tf.Variable(projection_matrix,\n",
    "    trainable=False,\n",
    "    name=projection_name)\n",
    "    tf.global_variables_initializer().run()\n",
    "\n",
    "    saver = tf.train.Saver()\n",
    "    writer = tf.summary.FileWriter(path, sess.graph)\n",
    "\n",
    "    config = projector.ProjectorConfig()\n",
    "    embed = config.embeddings.add()\n",
    "\n",
    "    embed.tensor_name =  f\"{projection_name}\"\n",
    "    embed.metadata_path = os.path.join(path, meta_file)\n",
    "\n",
    "    projector.visualize_embeddings(writer, config)\n",
    "    saver.save(sess, os.path.join(path, f\"{projection_name}.ckpt\"))\n",
    "    print(f\"Run `tensorboard --logdir={path}` to run visualize result on tensorboard\")"
   ],
   "metadata": {
    "collapsed": false
   }
  },
  {
   "cell_type": "code",
   "execution_count": null,
   "outputs": [],
   "source": [
    "projection_name = \"NLP_in_Action\"\n",
    "projection_data = [\n",
    "    ('car', [0.34, ..., -0.72]),\n",
    "    ...\n",
    "    ('toy', [0.46, ..., 0.39]),\n",
    "]\n",
    "create_projection(projection_data, projection_name)"
   ],
   "metadata": {
    "collapsed": false
   }
  }
 ],
 "metadata": {
  "kernelspec": {
   "display_name": "Python 3",
   "language": "python",
   "name": "python3"
  },
  "language_info": {
   "codemirror_mode": {
    "name": "ipython",
    "version": 2
   },
   "file_extension": ".py",
   "mimetype": "text/x-python",
   "name": "python",
   "nbconvert_exporter": "python",
   "pygments_lexer": "ipython2",
   "version": "2.7.6"
  }
 },
 "nbformat": 4,
 "nbformat_minor": 0
}
