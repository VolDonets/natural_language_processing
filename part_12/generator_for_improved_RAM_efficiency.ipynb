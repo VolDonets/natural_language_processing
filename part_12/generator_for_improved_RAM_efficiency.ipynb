{
 "cells": [
  {
   "cell_type": "code",
   "execution_count": null,
   "metadata": {
    "collapsed": true
   },
   "outputs": [],
   "source": [
    "import numpy as np\n",
    "\n",
    "\n",
    "def training_set_generator(data_store, batch_size=32):\n",
    "    X, Y = [], []\n",
    "    # This endless loop provides training batches forever;\n",
    "    # Keras stops requesting more training examples when an epoch ends\n",
    "    while True:\n",
    "        with open(data_store) as f:\n",
    "            for i, line in enumerate(f):\n",
    "                if i % batch_size == 0 and X and Y:\n",
    "                    # if you gathered enough training data samples, return the training data and\n",
    "                    # the expected training output via a function \"yield\"\n",
    "                    # python jumps back after the \"yield\" statement after the data is served to\n",
    "                    # the model fit method\n",
    "                    yield np.array(X), np.array(Y)\n",
    "                    X, Y = [], []\n",
    "                x, y = line.split(\"|\")\n",
    "                X.append(x)\n",
    "                Y.append(y)\n",
    "\n",
    "\n",
    "data_store_path = \"path/to/your/data.csv\"\n",
    "training_set = training_set_generator(data_store_path)"
   ]
  },
  {
   "cell_type": "code",
   "execution_count": null,
   "outputs": [],
   "source": [
    "# Disadvantage of the generator is that it doesn't return any information about the training data array,\n",
    "# so you should use a bit different \"fit\", \"predict\" and \"evaluate\"\n",
    "# instead of:\n",
    "model.fit(x=X, y=Y,\n",
    "          batch_size=32, epochs=10,\n",
    "          verbose=1, validation_split=0.2)\n",
    "\n",
    "# you have to kick off the training of your model with:\n",
    "data_path = \"path/to/your/data.csv\"\n",
    "model.fit_generator(generator=training_set_generator(data_path, batch_size=32),\n",
    "                    steps_per_epoch=100, epochs=10,\n",
    "                    verbose=1, validation_data=[X_val, Y_val])\n",
    "# also you need to update your evaluate method\n",
    "model.evaluage_generator(generator=your_eval_generator(eval_data_path, batch_size=32), steps=10)\n",
    "# and your predict method\n",
    "model.predict_generator(generator=your_predict_generator(prediction_data_path, batch_size=32), steps=10)"
   ],
   "metadata": {
    "collapsed": false
   }
  }
 ],
 "metadata": {
  "kernelspec": {
   "display_name": "Python 3",
   "language": "python",
   "name": "python3"
  },
  "language_info": {
   "codemirror_mode": {
    "name": "ipython",
    "version": 2
   },
   "file_extension": ".py",
   "mimetype": "text/x-python",
   "name": "python",
   "nbconvert_exporter": "python",
   "pygments_lexer": "ipython2",
   "version": "2.7.6"
  }
 },
 "nbformat": 4,
 "nbformat_minor": 0
}
