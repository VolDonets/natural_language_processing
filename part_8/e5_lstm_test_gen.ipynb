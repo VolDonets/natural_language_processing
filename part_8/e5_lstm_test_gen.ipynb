{
 "cells": [
  {
   "cell_type": "code",
   "execution_count": 1,
   "metadata": {
    "collapsed": true
   },
   "outputs": [
    {
     "name": "stderr",
     "output_type": "stream",
     "text": [
      "[nltk_data] Downloading package gutenberg to\n",
      "[nltk_data]     C:\\Users\\voldo\\AppData\\Roaming\\nltk_data...\n",
      "[nltk_data]   Package gutenberg is already up-to-date!\n"
     ]
    },
    {
     "data": {
      "text/plain": "['austen-emma.txt',\n 'austen-persuasion.txt',\n 'austen-sense.txt',\n 'bible-kjv.txt',\n 'blake-poems.txt',\n 'bryant-stories.txt',\n 'burgess-busterbrown.txt',\n 'carroll-alice.txt',\n 'chesterton-ball.txt',\n 'chesterton-brown.txt',\n 'chesterton-thursday.txt',\n 'edgeworth-parents.txt',\n 'melville-moby_dick.txt',\n 'milton-paradise.txt',\n 'shakespeare-caesar.txt',\n 'shakespeare-hamlet.txt',\n 'shakespeare-macbeth.txt',\n 'whitman-leaves.txt']"
     },
     "execution_count": 1,
     "metadata": {},
     "output_type": "execute_result"
    }
   ],
   "source": [
    "import nltk\n",
    "import numpy as np\n",
    "\n",
    "nltk.download('gutenberg')\n",
    "from nltk.corpus import gutenberg\n",
    "\n",
    "gutenberg.fileids()"
   ]
  },
  {
   "cell_type": "code",
   "execution_count": 2,
   "outputs": [
    {
     "name": "stdout",
     "output_type": "stream",
     "text": [
      "Corpus length: 375542\n",
      "Total chars: 50\n",
      "\n"
     ]
    }
   ],
   "source": [
    "text = ''\n",
    "\n",
    "for txt in gutenberg.fileids():\n",
    "    if 'shakespeare' in txt:\n",
    "        text += gutenberg.raw(txt).lower()\n",
    "\n",
    "chars = sorted(list(set(text)))\n",
    "char_indices = dict((c, i) for i, c in enumerate(chars))\n",
    "indices_char = dict((i, c) for i, c in enumerate(chars))\n",
    "\n",
    "print('Corpus length: {}\\nTotal chars: {}\\n'.format(len(text), len(chars)))"
   ],
   "metadata": {
    "collapsed": false
   }
  },
  {
   "cell_type": "code",
   "execution_count": 3,
   "outputs": [
    {
     "name": "stdout",
     "output_type": "stream",
     "text": [
      "[the tragedie of julius caesar by william shakespeare 1599]\n",
      "\n",
      "\n",
      "actus primus. scoena prima.\n",
      "\n",
      "enter flauius, murellus, and certaine commoners ouer the stage.\n",
      "\n",
      "  flauius. hence: home you idle creatures, get you home:\n",
      "is this a holiday? what, know you not\n",
      "(being mechanicall) you ought not walke\n",
      "vpon a labouring day, without the signe\n",
      "of your profession? speake, what trade art thou?\n",
      "  car. why sir, a carpenter\n",
      "\n",
      "   mur. where is thy leather apron, and thy rule?\n",
      "what dost thou with thy best apparrell on\n"
     ]
    }
   ],
   "source": [
    "print(text[:500])"
   ],
   "metadata": {
    "collapsed": false
   }
  },
  {
   "cell_type": "code",
   "execution_count": 4,
   "outputs": [
    {
     "name": "stdout",
     "output_type": "stream",
     "text": [
      "nb sequences: 125168\n"
     ]
    }
   ],
   "source": [
    "maxlen = 40\n",
    "step = 3\n",
    "sentences = []\n",
    "next_chars = []\n",
    "\n",
    "for i in range(0, len(text) - maxlen, step):\n",
    "    sentences.append(text[i:i + maxlen])\n",
    "    next_chars.append(text[i + maxlen])\n",
    "\n",
    "print('nb sequences:', len(sentences))"
   ],
   "metadata": {
    "collapsed": false
   }
  },
  {
   "cell_type": "code",
   "execution_count": 5,
   "outputs": [],
   "source": [
    "import numpy as np\n",
    "\n",
    "X = np.zeros((len(sentences), maxlen, len(chars)), dtype=np.bool_)\n",
    "y = np.zeros((len(sentences), len(chars)), dtype=np.bool_)\n",
    "\n",
    "for i, sentence in enumerate(sentences):\n",
    "    for t, char in enumerate(sentence):\n",
    "        X[i, t, char_indices[char]] = 1\n",
    "    y[i, char_indices[next_chars[i]]] = 1"
   ],
   "metadata": {
    "collapsed": false
   }
  },
  {
   "cell_type": "markdown",
   "source": [
    "## Assemble a char-based LSTM model for generating text"
   ],
   "metadata": {
    "collapsed": false
   }
  },
  {
   "cell_type": "code",
   "execution_count": 6,
   "outputs": [
    {
     "name": "stdout",
     "output_type": "stream",
     "text": [
      "Model: \"sequential\"\n",
      "_________________________________________________________________\n",
      " Layer (type)                Output Shape              Param #   \n",
      "=================================================================\n",
      " lstm (LSTM)                 (None, 128)               91648     \n",
      "                                                                 \n",
      " dense (Dense)               (None, 50)                6450      \n",
      "                                                                 \n",
      " activation (Activation)     (None, 50)                0         \n",
      "                                                                 \n",
      "=================================================================\n",
      "Total params: 98,098\n",
      "Trainable params: 98,098\n",
      "Non-trainable params: 0\n",
      "_________________________________________________________________\n"
     ]
    }
   ],
   "source": [
    "from keras.models import Sequential\n",
    "from keras.layers import Dense, Activation, LSTM\n",
    "from keras.optimizers import RMSprop\n",
    "\n",
    "\n",
    "model = Sequential()\n",
    "model.add(LSTM(units=128, input_shape=(maxlen, len(chars))))\n",
    "model.add(Dense(units=len(chars)))\n",
    "model.add(Activation(activation='softmax'))\n",
    "\n",
    "optimizer = RMSprop(learning_rate=.01)\n",
    "model.compile(loss='categorical_crossentropy', optimizer=optimizer)\n",
    "model.summary()"
   ],
   "metadata": {
    "collapsed": false
   }
  },
  {
   "cell_type": "code",
   "execution_count": 9,
   "outputs": [
    {
     "name": "stdout",
     "output_type": "stream",
     "text": [
      "Epoch 1/10\n",
      "978/978 [==============================] - 11s 6ms/step - loss: 2.0586\n",
      "Epoch 2/10\n",
      "978/978 [==============================] - 6s 6ms/step - loss: 1.6914\n",
      "Epoch 3/10\n",
      "978/978 [==============================] - 6s 6ms/step - loss: 1.5832\n",
      "Epoch 4/10\n",
      "978/978 [==============================] - 6s 6ms/step - loss: 1.5202\n",
      "Epoch 5/10\n",
      "978/978 [==============================] - 6s 6ms/step - loss: 1.4775\n",
      "Epoch 6/10\n",
      "978/978 [==============================] - 6s 6ms/step - loss: 1.4451\n",
      "Epoch 7/10\n",
      "978/978 [==============================] - 6s 7ms/step - loss: 1.4218\n",
      "Epoch 8/10\n",
      "978/978 [==============================] - 6s 6ms/step - loss: 1.3981\n",
      "Epoch 9/10\n",
      "978/978 [==============================] - 6s 6ms/step - loss: 1.3808\n",
      "Epoch 10/10\n",
      "978/978 [==============================] - 6s 6ms/step - loss: 1.3665\n",
      "Epoch 1/10\n",
      "978/978 [==============================] - 6s 6ms/step - loss: 1.3551\n",
      "Epoch 2/10\n",
      "978/978 [==============================] - 6s 6ms/step - loss: 1.3446\n",
      "Epoch 3/10\n",
      "978/978 [==============================] - 6s 6ms/step - loss: 1.3343\n",
      "Epoch 4/10\n",
      "978/978 [==============================] - 6s 6ms/step - loss: 1.3278\n",
      "Epoch 5/10\n",
      "978/978 [==============================] - 6s 6ms/step - loss: 1.3227\n",
      "Epoch 6/10\n",
      "978/978 [==============================] - 6s 6ms/step - loss: 1.3146\n",
      "Epoch 7/10\n",
      "978/978 [==============================] - 6s 6ms/step - loss: 1.3083\n",
      "Epoch 8/10\n",
      "978/978 [==============================] - 6s 6ms/step - loss: 1.3028\n",
      "Epoch 9/10\n",
      "978/978 [==============================] - 6s 6ms/step - loss: 1.3002\n",
      "Epoch 10/10\n",
      "978/978 [==============================] - 6s 6ms/step - loss: 1.2951\n",
      "Epoch 1/10\n",
      "978/978 [==============================] - 6s 6ms/step - loss: 1.2896\n",
      "Epoch 2/10\n",
      "978/978 [==============================] - 6s 6ms/step - loss: 1.2866\n",
      "Epoch 3/10\n",
      "978/978 [==============================] - 6s 6ms/step - loss: 1.2792\n",
      "Epoch 4/10\n",
      "978/978 [==============================] - 6s 6ms/step - loss: 1.2781\n",
      "Epoch 5/10\n",
      "978/978 [==============================] - 6s 6ms/step - loss: 1.2727\n",
      "Epoch 6/10\n",
      "978/978 [==============================] - 6s 6ms/step - loss: 1.2689\n",
      "Epoch 7/10\n",
      "978/978 [==============================] - 6s 6ms/step - loss: 1.2673\n",
      "Epoch 8/10\n",
      "978/978 [==============================] - 6s 6ms/step - loss: 1.2612\n",
      "Epoch 9/10\n",
      "978/978 [==============================] - 6s 6ms/step - loss: 1.2591\n",
      "Epoch 10/10\n",
      "978/978 [==============================] - 6s 6ms/step - loss: 1.2550\n",
      "Epoch 1/10\n",
      "978/978 [==============================] - 6s 6ms/step - loss: 1.2536\n",
      "Epoch 2/10\n",
      "978/978 [==============================] - 6s 6ms/step - loss: 1.2483\n",
      "Epoch 3/10\n",
      "978/978 [==============================] - 6s 6ms/step - loss: 1.2414\n",
      "Epoch 4/10\n",
      "978/978 [==============================] - 6s 6ms/step - loss: 1.2397\n",
      "Epoch 5/10\n",
      "978/978 [==============================] - 6s 6ms/step - loss: 1.2399\n",
      "Epoch 6/10\n",
      "978/978 [==============================] - 6s 6ms/step - loss: 1.2366\n",
      "Epoch 7/10\n",
      "978/978 [==============================] - 6s 6ms/step - loss: 1.2328\n",
      "Epoch 8/10\n",
      "978/978 [==============================] - 6s 6ms/step - loss: 1.2310\n",
      "Epoch 9/10\n",
      "978/978 [==============================] - 6s 6ms/step - loss: 1.2258\n",
      "Epoch 10/10\n",
      "978/978 [==============================] - 6s 6ms/step - loss: 1.2213\n",
      "Epoch 1/10\n",
      "978/978 [==============================] - 6s 6ms/step - loss: 1.2232\n",
      "Epoch 2/10\n",
      "978/978 [==============================] - 6s 6ms/step - loss: 1.2192\n",
      "Epoch 3/10\n",
      "978/978 [==============================] - 6s 6ms/step - loss: 1.2174\n",
      "Epoch 4/10\n",
      "978/978 [==============================] - 6s 6ms/step - loss: 1.2145\n",
      "Epoch 5/10\n",
      "978/978 [==============================] - 6s 6ms/step - loss: 1.2115\n",
      "Epoch 6/10\n",
      "978/978 [==============================] - 5s 6ms/step - loss: 1.2096\n",
      "Epoch 7/10\n",
      "978/978 [==============================] - 6s 6ms/step - loss: 1.2046\n",
      "Epoch 8/10\n",
      "978/978 [==============================] - 6s 6ms/step - loss: 1.2065\n",
      "Epoch 9/10\n",
      "978/978 [==============================] - 6s 6ms/step - loss: 1.2045\n",
      "Epoch 10/10\n",
      "978/978 [==============================] - 6s 6ms/step - loss: 1.2017\n"
     ]
    }
   ],
   "source": [
    "epochs = 10\n",
    "batch_size = 128\n",
    "\n",
    "model_structure = model.to_json()\n",
    "with open(\"../src/part_8/char_gen_lstm/shakes_lstm_model.json\", 'w') as json_file:\n",
    "    json_file.write(model_structure)\n",
    "\n",
    "for i in range(5):\n",
    "    model.fit(X, y,\n",
    "              batch_size=batch_size,\n",
    "              epochs=epochs)\n",
    "    model.save_weights('../src/part_8/char_gen_lstm/shakes_lstm_weights_{}.h5'.format(i + 1))"
   ],
   "metadata": {
    "collapsed": false
   }
  },
  {
   "cell_type": "code",
   "execution_count": 10,
   "outputs": [],
   "source": [
    "import random\n",
    "\n",
    "\n",
    "def sample(preds, temperature=1.):\n",
    "    preds = np.asarray(preds).astype('float64')\n",
    "    preds = np.log(preds) / temperature\n",
    "    exp_preds = np.exp(preds)\n",
    "    preds = exp_preds / np.sum(exp_preds)\n",
    "    probas = np.random.multinomial(1, preds, 1)\n",
    "    return np.argmax(probas)"
   ],
   "metadata": {
    "collapsed": false
   }
  },
  {
   "cell_type": "code",
   "execution_count": 12,
   "outputs": [
    {
     "name": "stdout",
     "output_type": "stream",
     "text": [
      "\n",
      "----- diversity: 0.2\n",
      "----- Generaring with seed: \"stance and course of thought\n",
      "'tis heauie\"\n",
      "stance and course of thought\n",
      "'tis heauie and euen the selfe and caesar,\n",
      "and that i would not made of the treasons,\n",
      "there is not the expraties the street: i will bee for a shout?\n",
      "  ham. thou hast macbeth\n",
      "\n",
      "   ham. the comes the world the selfe,\n",
      "and the selfe the companie of me the matter?\n",
      " "
     ]
    },
    {
     "name": "stderr",
     "output_type": "stream",
     "text": [
      "C:\\Users\\voldo\\AppData\\Local\\Temp\\ipykernel_8016\\451222529.py:6: RuntimeWarning: divide by zero encountered in log\n",
      "  preds = np.log(preds) / temperature\n"
     ]
    },
    {
     "name": "stdout",
     "output_type": "stream",
     "text": [
      " ham. the comes the street they made in the compacke,\n",
      "and the world the companie of her father\n",
      "\n",
      "   ham. now so but our selues the matter, or marke\n",
      "with\n",
      "\n",
      "----- diversity: 0.5\n",
      "----- Generaring with seed: \"stance and course of thought\n",
      "'tis heauie\"\n",
      "stance and course of thought\n",
      "'tis heauie and god backe of his true to his say.\n",
      "enter macbeth\n",
      "\n",
      "   ham. what are a man like reason'd stands\n",
      "of marrie seene the remembrance of vs\n",
      "\n",
      "   ham. i seene the street: now he hath beyent finde,\n",
      "more the beart and dead, and i see these coniurg'd:\n",
      "and answer\n",
      "\n",
      "   ham. how shall be so macbe that shall know new\n",
      "\n",
      "   hor. i will know these excele his princestis of men,\n",
      "the seruice like a man be made of the \n",
      "\n",
      "----- diversity: 1.0\n",
      "----- Generaring with seed: \"stance and course of thought\n",
      "'tis heauie\"\n",
      "stance and course of thought\n",
      "'tis heauie most conuirition. my lord, woe,\n",
      "drooble this our great strikes?\n",
      "  bru. thou, as he wood\n",
      "\n",
      "   3 hamlethy a mendures: thereading beare he forkes, for it holay heauen you marrisight?\n",
      "i what hap vppose, o heauensse, i heere\n",
      "he comes against sleepe: to liue and there: i, do not keepe\n",
      "\n",
      "   dect. good immose he is stree,\n",
      "but come thenfilbrest, hast hellith,\n",
      "and her durts. but the pold, oo'st tright\n",
      "in it \n",
      "\n",
      "----- diversity: 1.2\n",
      "----- Generaring with seed: \"stance and course of thought\n",
      "'tis heauie\"\n",
      "stance and course of thought\n",
      "'tis heauie not me to the comfuile\n",
      "\n",
      "   fam. let vs sena\n",
      "\n",
      "  , acknesse,\n",
      "lest i do not lord. terch a repbround,\n",
      "iecl cornelyolop'd wy his play. ans what, vnderlight'ds queate aduance.\n",
      "\n",
      "caesar.\n",
      "\n",
      "   laer. i\n",
      "gard me't his letters there.\n",
      "all much deach raiail'd not man\n",
      "\n",
      "   cat bet, appedees, unde,\n",
      ", caesar akeouer buriedwy bugge,\n",
      "on dessengesse touchall a are:\n",
      "you credcy on my bosidence: brutum, his ayappe\n",
      "of enem\n"
     ]
    }
   ],
   "source": [
    "import sys\n",
    "\n",
    "start_index = random.randint(0, len(text) - maxlen - 1)\n",
    "for diversity in [.2, .5, 1., 1.2]:\n",
    "    print('\\n----- diversity:', diversity)\n",
    "    generated = ''\n",
    "    sentence = text[start_index: start_index + maxlen]\n",
    "    generated += sentence\n",
    "    print('----- Generaring with seed: \"' + sentence + '\"')\n",
    "    sys.stdout.write(generated)\n",
    "\n",
    "    for i in range(400):\n",
    "        x = np.zeros((1, maxlen, len(chars)))\n",
    "        for t, char  in enumerate(sentence):\n",
    "            x[0, t, char_indices[char]] = 1.\n",
    "        preds = model.predict(x, verbose=0)[0]\n",
    "        next_index = sample(preds, diversity)\n",
    "        next_char = indices_char[next_index]\n",
    "        generated += next_char\n",
    "        sentence = sentence[1:] + next_char\n",
    "        sys.stdout.write(next_char)\n",
    "        sys.stdout.flush()\n",
    "    print()"
   ],
   "metadata": {
    "collapsed": false
   }
  }
 ],
 "metadata": {
  "kernelspec": {
   "display_name": "Python 3",
   "language": "python",
   "name": "python3"
  },
  "language_info": {
   "codemirror_mode": {
    "name": "ipython",
    "version": 2
   },
   "file_extension": ".py",
   "mimetype": "text/x-python",
   "name": "python",
   "nbconvert_exporter": "python",
   "pygments_lexer": "ipython2",
   "version": "2.7.6"
  }
 },
 "nbformat": 4,
 "nbformat_minor": 0
}
