{
 "cells": [
  {
   "cell_type": "code",
   "execution_count": 1,
   "metadata": {
    "collapsed": true
   },
   "outputs": [
    {
     "name": "stderr",
     "output_type": "stream",
     "text": [
      "C:\\Users\\voldo\\AppData\\Local\\Programs\\Python\\Python39\\lib\\site-packages\\pugnlp\\constants.py:136: FutureWarning: The pandas.datetime class is deprecated and will be removed from pandas in a future version. Import from datetime module instead.\n",
      "  [datetime.datetime, pd.datetime, pd.Timestamp])\n",
      "C:\\Users\\voldo\\AppData\\Local\\Programs\\Python\\Python39\\lib\\site-packages\\pugnlp\\constants.py:158: FutureWarning: The pandas.datetime class is deprecated and will be removed from pandas in a future version. Import from datetime module instead.\n",
      "  MIN_TIMESTAMP = pd.Timestamp(pd.datetime(1677, 9, 22, 0, 12, 44), tz='utc')\n",
      "C:\\Users\\voldo\\AppData\\Local\\Programs\\Python\\Python39\\lib\\site-packages\\pugnlp\\tutil.py:100: FutureWarning: The pandas.np module is deprecated and will be removed from pandas in a future version. Import numpy directly instead.\n",
      "  np = pd.np\n",
      "C:\\Users\\voldo\\AppData\\Local\\Programs\\Python\\Python39\\lib\\site-packages\\pugnlp\\util.py:80: FutureWarning: The pandas.np module is deprecated and will be removed from pandas in a future version. Import numpy directly instead.\n",
      "  np = pd.np\n",
      "INFO:nlpia.constants:Starting logger in nlpia.constants...\n",
      "C:\\Users\\voldo\\AppData\\Local\\Programs\\Python\\Python39\\lib\\site-packages\\nlpia\\futil.py:30: FutureWarning: The pandas.np module is deprecated and will be removed from pandas in a future version. Import numpy directly instead.\n",
      "  np = pd.np\n",
      "C:\\Users\\voldo\\AppData\\Local\\Programs\\Python\\Python39\\lib\\site-packages\\nlpia\\loaders.py:78: FutureWarning: The pandas.np module is deprecated and will be removed from pandas in a future version. Import numpy directly instead.\n",
      "  np = pd.np\n",
      "INFO:nlpia.loaders:No BIGDATA index found in C:\\Users\\voldo\\AppData\\Local\\Programs\\Python\\Python39\\lib\\site-packages\\nlpia\\data\\bigdata_info.csv so copy C:\\Users\\voldo\\AppData\\Local\\Programs\\Python\\Python39\\lib\\site-packages\\nlpia\\data\\bigdata_info.latest.csv to C:\\Users\\voldo\\AppData\\Local\\Programs\\Python\\Python39\\lib\\site-packages\\nlpia\\data\\bigdata_info.csv if you want to \"freeze\" it.\n",
      "INFO:nlpia.futil:Reading CSV with `read_csv(*('C:\\\\Users\\\\voldo\\\\AppData\\\\Local\\\\Programs\\\\Python\\\\Python39\\\\lib\\\\site-packages\\\\nlpia\\\\data\\\\mavis-batey-greetings.csv',), **{'low_memory': False})`...\n",
      "INFO:nlpia.futil:Reading CSV with `read_csv(*('C:\\\\Users\\\\voldo\\\\AppData\\\\Local\\\\Programs\\\\Python\\\\Python39\\\\lib\\\\site-packages\\\\nlpia\\\\data\\\\sms-spam.csv',), **{'low_memory': False})`...\n"
     ]
    }
   ],
   "source": [
    "import numpy as np\n",
    "\n",
    "from tqdm import tqdm\n",
    "from nlpia.loaders import get_data\n",
    "\n",
    "from keras.models import Model\n",
    "from keras.layers import Input, LSTM, Dense"
   ]
  },
  {
   "cell_type": "markdown",
   "source": [
    "## Build char seq-to-seq training set"
   ],
   "metadata": {
    "collapsed": false
   }
  },
  {
   "cell_type": "code",
   "execution_count": 2,
   "outputs": [
    {
     "name": "stderr",
     "output_type": "stream",
     "text": [
      "INFO:nlpia.futil:Reading CSV with `read_csv(*('C:\\\\Users\\\\voldo\\\\AppData\\\\Local\\\\Programs\\\\Python\\\\Python39\\\\lib\\\\site-packages\\\\nlpia\\\\data\\\\moviedialog.csv',), **{'nrows': None, 'low_memory': False})`...\n"
     ]
    }
   ],
   "source": [
    "df = get_data('moviedialog')\n",
    "\n",
    "input_texts, target_texts = [], []\n",
    "input_vocabulary = set()\n",
    "output_vocabulary = set()\n",
    "start_token = '\\t'\n",
    "stop_token = '\\n'\n",
    "max_training_samples = min(25_000, len(df) - 1)\n",
    "\n",
    "for input_text, target_text in zip(df.statement, df.reply):\n",
    "    target_text = start_token + target_text + stop_token\n",
    "    input_texts.append(input_text)\n",
    "    target_texts.append(target_text)\n",
    "    for char in input_text:\n",
    "        if char not in input_vocabulary:\n",
    "            input_vocabulary.add(char)\n",
    "    for char in target_text:\n",
    "        if char not in output_vocabulary:\n",
    "            output_vocabulary.add(char)\n",
    "\n",
    "del df\n",
    "\n",
    "# I haven't enough RAM, so I cut training sets\n",
    "input_texts = input_texts[:int(len(input_texts) * .95)]\n",
    "target_texts = target_texts[:int(len(target_texts) * .95)]"
   ],
   "metadata": {
    "collapsed": false
   }
  },
  {
   "cell_type": "code",
   "execution_count": 3,
   "outputs": [
    {
     "name": "stdout",
     "output_type": "stream",
     "text": [
      "{'k', 'f', 'h', 'q', 'p', '9', '8', 'y', 'i', 'b', '7', 'n', 'j', 'a', 'c', '!', ',', 'l', 's', 'z', 'm', 'o', ' ', '0', 'r', ';', 'g', 'u', 'e', '?', '2', 'x', \"'\", 'w', 't', '.', 'v', '1', ':', 'd', '6', '4', '5', '3'}\n"
     ]
    }
   ],
   "source": [
    "print(input_vocabulary)"
   ],
   "metadata": {
    "collapsed": false
   }
  },
  {
   "cell_type": "markdown",
   "source": [
    "## Char seq-to-seq model parameters"
   ],
   "metadata": {
    "collapsed": false
   }
  },
  {
   "cell_type": "code",
   "execution_count": 4,
   "outputs": [],
   "source": [
    "input_vocabulary = sorted(input_vocabulary)\n",
    "output_vocabulary = sorted(output_vocabulary)\n",
    "\n",
    "input_vocab_size = len(input_vocabulary)\n",
    "output_vocab_size = len(output_vocabulary)\n",
    "\n",
    "max_encoder_seq_length = max([len(txt) for txt in input_texts])\n",
    "max_decoder_seq_length = max([len(txt) for txt in target_texts])\n",
    "\n",
    "input_token_index = dict([(char, i) for i, char in enumerate(input_vocabulary)])\n",
    "target_token_index = dict([(char, i) for i, char in enumerate(output_vocabulary)])\n",
    "\n",
    "reverse_input_char_index = dict((i, char) for char, i in input_token_index.items())\n",
    "reverse_target_char_index = dict((i, char) for char, i in target_token_index.items())"
   ],
   "metadata": {
    "collapsed": false
   }
  },
  {
   "cell_type": "code",
   "execution_count": 5,
   "outputs": [
    {
     "name": "stdout",
     "output_type": "stream",
     "text": [
      "44\n",
      "46\n"
     ]
    }
   ],
   "source": [
    "print(input_vocab_size)\n",
    "print(output_vocab_size)"
   ],
   "metadata": {
    "collapsed": false
   }
  },
  {
   "cell_type": "markdown",
   "source": [
    "## Construct character sequence encoder-decoder training set"
   ],
   "metadata": {
    "collapsed": false
   }
  },
  {
   "cell_type": "code",
   "execution_count": 6,
   "outputs": [
    {
     "name": "stderr",
     "output_type": "stream",
     "text": [
      "61132it [00:01, 32977.94it/s]\n"
     ]
    }
   ],
   "source": [
    "encoder_input_data = np.zeros((len(input_texts),\n",
    "    max_encoder_seq_length, input_vocab_size),\n",
    "    dtype='float32')\n",
    "decoder_input_data = np.zeros((len(input_texts),\n",
    "    max_decoder_seq_length, output_vocab_size),\n",
    "    dtype='float32')\n",
    "decoder_target_data = np.zeros((len(input_texts),\n",
    "    max_decoder_seq_length, output_vocab_size),\n",
    "    dtype='float32')\n",
    "\n",
    "for i, (input_text, target_text) in tqdm(enumerate(\n",
    "            zip(input_texts, target_texts))):\n",
    "    for t, char in enumerate(input_text):\n",
    "        encoder_input_data[i, t, input_token_index[char]] = 1.\n",
    "    for t, char in enumerate(target_text):\n",
    "        decoder_input_data[i, t, target_token_index[char]] = 1.\n",
    "        if t > 0:\n",
    "            decoder_target_data[i, t-1, target_token_index[char]] = 1."
   ],
   "metadata": {
    "collapsed": false
   }
  },
  {
   "cell_type": "code",
   "execution_count": 7,
   "outputs": [],
   "source": [
    "del input_texts\n",
    "del target_texts"
   ],
   "metadata": {
    "collapsed": false
   }
  },
  {
   "cell_type": "markdown",
   "source": [
    "## Construct seq enc-dec network"
   ],
   "metadata": {
    "collapsed": false
   }
  },
  {
   "cell_type": "code",
   "execution_count": 8,
   "outputs": [],
   "source": [
    "batch_size = 60\n",
    "epochs = 120\n",
    "num_neurons = 256"
   ],
   "metadata": {
    "collapsed": false
   }
  },
  {
   "cell_type": "code",
   "execution_count": 9,
   "outputs": [],
   "source": [
    "encoder_inputs = Input(shape=(None, input_vocab_size))\n",
    "encoder = LSTM(units=num_neurons, return_state=True)\n",
    "encoder_outputs, state_h, state_c = encoder(encoder_inputs)\n",
    "encoder_states = [state_h, state_c]"
   ],
   "metadata": {
    "collapsed": false
   }
  },
  {
   "cell_type": "code",
   "execution_count": 10,
   "outputs": [],
   "source": [
    "decoder_inputs = Input(shape=(None, output_vocab_size))\n",
    "decoder_lstm = LSTM(units=num_neurons, return_state=True,\n",
    "                    return_sequences=True)\n",
    "decoder_outputs, _, _ = decoder_lstm(decoder_inputs,\n",
    "                            initial_state=encoder_states)\n",
    "decoder_dense = Dense(units=output_vocab_size, activation='softmax')\n",
    "decoder_outputs = decoder_dense(decoder_outputs)"
   ],
   "metadata": {
    "collapsed": false
   }
  },
  {
   "cell_type": "code",
   "execution_count": 11,
   "outputs": [
    {
     "name": "stdout",
     "output_type": "stream",
     "text": [
      "Model: \"model\"\n",
      "__________________________________________________________________________________________________\n",
      " Layer (type)                   Output Shape         Param #     Connected to                     \n",
      "==================================================================================================\n",
      " input_1 (InputLayer)           [(None, None, 44)]   0           []                               \n",
      "                                                                                                  \n",
      " input_2 (InputLayer)           [(None, None, 46)]   0           []                               \n",
      "                                                                                                  \n",
      " lstm (LSTM)                    [(None, 256),        308224      ['input_1[0][0]']                \n",
      "                                 (None, 256),                                                     \n",
      "                                 (None, 256)]                                                     \n",
      "                                                                                                  \n",
      " lstm_1 (LSTM)                  [(None, None, 256),  310272      ['input_2[0][0]',                \n",
      "                                 (None, 256),                     'lstm[0][1]',                   \n",
      "                                 (None, 256)]                     'lstm[0][2]']                   \n",
      "                                                                                                  \n",
      " dense (Dense)                  (None, None, 46)     11822       ['lstm_1[0][0]']                 \n",
      "                                                                                                  \n",
      "==================================================================================================\n",
      "Total params: 630,318\n",
      "Trainable params: 630,318\n",
      "Non-trainable params: 0\n",
      "__________________________________________________________________________________________________\n"
     ]
    }
   ],
   "source": [
    "model = Model([encoder_inputs, decoder_inputs], decoder_outputs)\n",
    "model.compile(optimizer='rmsprop', loss='categorical_crossentropy',\n",
    "              metrics=['acc'])\n",
    "model.summary()"
   ],
   "metadata": {
    "collapsed": false
   }
  },
  {
   "cell_type": "markdown",
   "source": [
    "## Train the model"
   ],
   "metadata": {
    "collapsed": false
   }
  },
  {
   "cell_type": "code",
   "execution_count": 12,
   "outputs": [
    {
     "name": "stdout",
     "output_type": "stream",
     "text": [
      "Epoch 1/120\n",
      "968/968 [==============================] - 22s 17ms/step - loss: 1.0631 - acc: 0.0641 - val_loss: 1.0373 - val_acc: 0.0715\n",
      "Epoch 2/120\n",
      "968/968 [==============================] - 15s 16ms/step - loss: 0.9941 - acc: 0.0765 - val_loss: 0.9452 - val_acc: 0.0895\n",
      "Epoch 3/120\n",
      "968/968 [==============================] - 15s 16ms/step - loss: 0.9476 - acc: 0.0863 - val_loss: 0.9686 - val_acc: 0.0857\n",
      "Epoch 4/120\n",
      "968/968 [==============================] - 15s 16ms/step - loss: 0.8355 - acc: 0.1119 - val_loss: 0.8250 - val_acc: 0.1191\n",
      "Epoch 5/120\n",
      "968/968 [==============================] - 16s 16ms/step - loss: 0.7633 - acc: 0.1279 - val_loss: 0.7542 - val_acc: 0.1328\n",
      "Epoch 6/120\n",
      "968/968 [==============================] - 15s 16ms/step - loss: 0.7221 - acc: 0.1370 - val_loss: 0.7059 - val_acc: 0.1446\n",
      "Epoch 7/120\n",
      "968/968 [==============================] - 15s 16ms/step - loss: 0.6943 - acc: 0.1454 - val_loss: 0.6919 - val_acc: 0.1499\n",
      "Epoch 8/120\n",
      "968/968 [==============================] - 15s 16ms/step - loss: 0.6744 - acc: 0.1503 - val_loss: 0.6692 - val_acc: 0.1548\n",
      "Epoch 9/120\n",
      "968/968 [==============================] - 15s 16ms/step - loss: 0.6607 - acc: 0.1534 - val_loss: 0.6636 - val_acc: 0.1560\n",
      "Epoch 10/120\n",
      "968/968 [==============================] - 15s 16ms/step - loss: 0.6508 - acc: 0.1558 - val_loss: 0.6485 - val_acc: 0.1598\n",
      "Epoch 11/120\n",
      "968/968 [==============================] - 15s 16ms/step - loss: 0.6410 - acc: 0.1580 - val_loss: 0.6399 - val_acc: 0.1618\n",
      "Epoch 12/120\n",
      "968/968 [==============================] - 15s 16ms/step - loss: 0.6314 - acc: 0.1606 - val_loss: 0.6429 - val_acc: 0.1619\n",
      "Epoch 13/120\n",
      "968/968 [==============================] - 15s 16ms/step - loss: 0.6241 - acc: 0.1620 - val_loss: 0.6262 - val_acc: 0.1642\n",
      "Epoch 14/120\n",
      "968/968 [==============================] - 16s 16ms/step - loss: 0.6176 - acc: 0.1630 - val_loss: 0.6210 - val_acc: 0.1652\n",
      "Epoch 15/120\n",
      "968/968 [==============================] - 16s 16ms/step - loss: 0.6121 - acc: 0.1639 - val_loss: 0.6277 - val_acc: 0.1639\n",
      "Epoch 16/120\n",
      "968/968 [==============================] - 16s 16ms/step - loss: 0.6073 - acc: 0.1648 - val_loss: 0.6116 - val_acc: 0.1672\n",
      "Epoch 17/120\n",
      "968/968 [==============================] - 16s 16ms/step - loss: 0.6035 - acc: 0.1655 - val_loss: 0.6094 - val_acc: 0.1676\n",
      "Epoch 18/120\n",
      "968/968 [==============================] - 16s 16ms/step - loss: 0.6012 - acc: 0.1661 - val_loss: 0.6102 - val_acc: 0.1672\n",
      "Epoch 19/120\n",
      "968/968 [==============================] - 16s 16ms/step - loss: 0.5974 - acc: 0.1669 - val_loss: 0.6037 - val_acc: 0.1683\n",
      "Epoch 20/120\n",
      "968/968 [==============================] - 16s 16ms/step - loss: 0.5958 - acc: 0.1673 - val_loss: 0.6277 - val_acc: 0.1641\n",
      "Epoch 21/120\n",
      "968/968 [==============================] - 15s 16ms/step - loss: 0.5928 - acc: 0.1679 - val_loss: 0.5965 - val_acc: 0.1707\n",
      "Epoch 22/120\n",
      "968/968 [==============================] - 16s 16ms/step - loss: 0.5899 - acc: 0.1685 - val_loss: 0.5961 - val_acc: 0.1700\n",
      "Epoch 23/120\n",
      "968/968 [==============================] - 15s 16ms/step - loss: 0.5873 - acc: 0.1690 - val_loss: 0.5948 - val_acc: 0.1709\n",
      "Epoch 24/120\n",
      "968/968 [==============================] - 16s 16ms/step - loss: 0.5851 - acc: 0.1692 - val_loss: 0.5966 - val_acc: 0.1702\n",
      "Epoch 25/120\n",
      "968/968 [==============================] - 16s 16ms/step - loss: 0.5827 - acc: 0.1698 - val_loss: 0.5966 - val_acc: 0.1699\n",
      "Epoch 26/120\n",
      "968/968 [==============================] - 16s 16ms/step - loss: 0.5804 - acc: 0.1703 - val_loss: 0.5974 - val_acc: 0.1703\n",
      "Epoch 27/120\n",
      "968/968 [==============================] - 16s 16ms/step - loss: 0.5783 - acc: 0.1709 - val_loss: 0.5859 - val_acc: 0.1721\n",
      "Epoch 28/120\n",
      "968/968 [==============================] - 16s 16ms/step - loss: 0.5763 - acc: 0.1714 - val_loss: 0.5851 - val_acc: 0.1725\n",
      "Epoch 29/120\n",
      "968/968 [==============================] - 16s 16ms/step - loss: 0.5746 - acc: 0.1717 - val_loss: 0.5793 - val_acc: 0.1736\n",
      "Epoch 30/120\n",
      "968/968 [==============================] - 15s 16ms/step - loss: 0.5726 - acc: 0.1720 - val_loss: 0.5784 - val_acc: 0.1741\n",
      "Epoch 31/120\n",
      "968/968 [==============================] - 16s 16ms/step - loss: 0.5707 - acc: 0.1724 - val_loss: 0.5791 - val_acc: 0.1741\n",
      "Epoch 32/120\n",
      "968/968 [==============================] - 15s 16ms/step - loss: 0.5689 - acc: 0.1727 - val_loss: 0.5754 - val_acc: 0.1741\n",
      "Epoch 33/120\n",
      "968/968 [==============================] - 16s 16ms/step - loss: 0.5673 - acc: 0.1731 - val_loss: 0.5845 - val_acc: 0.1726\n",
      "Epoch 34/120\n",
      "968/968 [==============================] - 15s 16ms/step - loss: 0.5662 - acc: 0.1734 - val_loss: 0.5743 - val_acc: 0.1749\n",
      "Epoch 35/120\n",
      "968/968 [==============================] - 15s 16ms/step - loss: 0.5646 - acc: 0.1737 - val_loss: 0.5728 - val_acc: 0.1756\n",
      "Epoch 36/120\n",
      "968/968 [==============================] - 15s 16ms/step - loss: 0.5634 - acc: 0.1738 - val_loss: 0.5729 - val_acc: 0.1757\n",
      "Epoch 37/120\n",
      "968/968 [==============================] - 16s 16ms/step - loss: 0.5617 - acc: 0.1743 - val_loss: 0.5690 - val_acc: 0.1756\n",
      "Epoch 38/120\n",
      "968/968 [==============================] - 15s 16ms/step - loss: 0.5611 - acc: 0.1743 - val_loss: 0.5670 - val_acc: 0.1762\n",
      "Epoch 39/120\n",
      "968/968 [==============================] - 15s 16ms/step - loss: 0.5608 - acc: 0.1743 - val_loss: 0.5720 - val_acc: 0.1758\n",
      "Epoch 40/120\n",
      "968/968 [==============================] - 17s 17ms/step - loss: 0.5602 - acc: 0.1743 - val_loss: 0.5691 - val_acc: 0.1754\n",
      "Epoch 41/120\n",
      "968/968 [==============================] - 17s 17ms/step - loss: 0.5595 - acc: 0.1745 - val_loss: 0.5724 - val_acc: 0.1754\n",
      "Epoch 42/120\n",
      "968/968 [==============================] - 16s 17ms/step - loss: 0.5580 - acc: 0.1748 - val_loss: 0.5660 - val_acc: 0.1765\n",
      "Epoch 43/120\n",
      "968/968 [==============================] - 16s 16ms/step - loss: 0.5565 - acc: 0.1749 - val_loss: 0.5661 - val_acc: 0.1766\n",
      "Epoch 44/120\n",
      "968/968 [==============================] - 16s 17ms/step - loss: 0.5558 - acc: 0.1748 - val_loss: 0.5621 - val_acc: 0.1766\n",
      "Epoch 45/120\n",
      "968/968 [==============================] - 16s 17ms/step - loss: 0.5552 - acc: 0.1748 - val_loss: 0.5648 - val_acc: 0.1768\n",
      "Epoch 46/120\n",
      "968/968 [==============================] - 16s 17ms/step - loss: 0.5549 - acc: 0.1749 - val_loss: 0.5720 - val_acc: 0.1744\n",
      "Epoch 47/120\n",
      "968/968 [==============================] - 17s 17ms/step - loss: 0.5551 - acc: 0.1750 - val_loss: 0.5653 - val_acc: 0.1769\n",
      "Epoch 48/120\n",
      "968/968 [==============================] - 17s 17ms/step - loss: 0.5551 - acc: 0.1751 - val_loss: 0.5678 - val_acc: 0.1758\n",
      "Epoch 49/120\n",
      "968/968 [==============================] - 16s 17ms/step - loss: 0.5542 - acc: 0.1751 - val_loss: 0.5755 - val_acc: 0.1732\n",
      "Epoch 50/120\n",
      "968/968 [==============================] - 16s 17ms/step - loss: 0.5524 - acc: 0.1754 - val_loss: 0.5626 - val_acc: 0.1772\n",
      "Epoch 51/120\n",
      "968/968 [==============================] - 16s 17ms/step - loss: 0.5515 - acc: 0.1754 - val_loss: 0.5593 - val_acc: 0.1780\n",
      "Epoch 52/120\n",
      "968/968 [==============================] - 16s 17ms/step - loss: 0.5508 - acc: 0.1758 - val_loss: 0.5605 - val_acc: 0.1777\n",
      "Epoch 53/120\n",
      "968/968 [==============================] - 16s 16ms/step - loss: 0.5496 - acc: 0.1762 - val_loss: 0.5643 - val_acc: 0.1764\n",
      "Epoch 54/120\n",
      "968/968 [==============================] - 16s 16ms/step - loss: 0.5514 - acc: 0.1757 - val_loss: 0.5632 - val_acc: 0.1766\n",
      "Epoch 55/120\n",
      "968/968 [==============================] - 16s 17ms/step - loss: 0.5514 - acc: 0.1755 - val_loss: 0.5638 - val_acc: 0.1763\n",
      "Epoch 56/120\n",
      "968/968 [==============================] - 17s 17ms/step - loss: 0.5508 - acc: 0.1756 - val_loss: 0.5600 - val_acc: 0.1773\n",
      "Epoch 57/120\n",
      "968/968 [==============================] - 16s 16ms/step - loss: 0.5508 - acc: 0.1757 - val_loss: 0.5561 - val_acc: 0.1783\n",
      "Epoch 58/120\n",
      "968/968 [==============================] - 16s 16ms/step - loss: 0.5495 - acc: 0.1759 - val_loss: 0.5633 - val_acc: 0.1757\n",
      "Epoch 59/120\n",
      "968/968 [==============================] - 16s 16ms/step - loss: 0.5494 - acc: 0.1758 - val_loss: 0.5607 - val_acc: 0.1771\n",
      "Epoch 60/120\n",
      "968/968 [==============================] - 17s 17ms/step - loss: 0.5486 - acc: 0.1758 - val_loss: 0.5541 - val_acc: 0.1783\n",
      "Epoch 61/120\n",
      "968/968 [==============================] - 17s 17ms/step - loss: 0.5480 - acc: 0.1759 - val_loss: 0.5649 - val_acc: 0.1755\n",
      "Epoch 62/120\n",
      "968/968 [==============================] - 16s 17ms/step - loss: 0.5480 - acc: 0.1760 - val_loss: 0.5568 - val_acc: 0.1778\n",
      "Epoch 63/120\n",
      "968/968 [==============================] - 16s 17ms/step - loss: 0.5476 - acc: 0.1761 - val_loss: 0.5559 - val_acc: 0.1781\n",
      "Epoch 64/120\n",
      "968/968 [==============================] - 16s 17ms/step - loss: 0.5478 - acc: 0.1763 - val_loss: 0.5600 - val_acc: 0.1771\n",
      "Epoch 65/120\n",
      "968/968 [==============================] - 16s 17ms/step - loss: 0.5479 - acc: 0.1761 - val_loss: 0.5571 - val_acc: 0.1779\n",
      "Epoch 66/120\n",
      "968/968 [==============================] - 16s 17ms/step - loss: 0.5486 - acc: 0.1759 - val_loss: 0.5603 - val_acc: 0.1767\n",
      "Epoch 67/120\n",
      "968/968 [==============================] - 16s 17ms/step - loss: 0.5492 - acc: 0.1757 - val_loss: 0.5628 - val_acc: 0.1765\n",
      "Epoch 68/120\n",
      "968/968 [==============================] - 16s 17ms/step - loss: 0.5494 - acc: 0.1756 - val_loss: 0.5637 - val_acc: 0.1761\n",
      "Epoch 69/120\n",
      "968/968 [==============================] - 16s 17ms/step - loss: 0.5490 - acc: 0.1757 - val_loss: 0.5604 - val_acc: 0.1766\n",
      "Epoch 70/120\n",
      "968/968 [==============================] - 16s 17ms/step - loss: 0.5498 - acc: 0.1753 - val_loss: 0.5636 - val_acc: 0.1759\n",
      "Epoch 71/120\n",
      "968/968 [==============================] - 16s 17ms/step - loss: 0.5508 - acc: 0.1751 - val_loss: 0.5618 - val_acc: 0.1764\n",
      "Epoch 72/120\n",
      "968/968 [==============================] - 16s 17ms/step - loss: 0.5495 - acc: 0.1756 - val_loss: 0.5622 - val_acc: 0.1759\n",
      "Epoch 73/120\n",
      "968/968 [==============================] - 16s 17ms/step - loss: 0.5477 - acc: 0.1761 - val_loss: 0.5586 - val_acc: 0.1774\n",
      "Epoch 74/120\n",
      "968/968 [==============================] - 16s 16ms/step - loss: 0.5467 - acc: 0.1763 - val_loss: 0.5544 - val_acc: 0.1786\n",
      "Epoch 75/120\n",
      "968/968 [==============================] - 16s 17ms/step - loss: 0.5453 - acc: 0.1767 - val_loss: 0.5593 - val_acc: 0.1775\n",
      "Epoch 76/120\n",
      "968/968 [==============================] - 16s 17ms/step - loss: 0.5444 - acc: 0.1769 - val_loss: 0.5549 - val_acc: 0.1783\n",
      "Epoch 77/120\n",
      "968/968 [==============================] - 16s 17ms/step - loss: 0.5432 - acc: 0.1771 - val_loss: 0.5523 - val_acc: 0.1790\n",
      "Epoch 78/120\n",
      "968/968 [==============================] - 16s 16ms/step - loss: 0.5424 - acc: 0.1775 - val_loss: 0.5515 - val_acc: 0.1788\n",
      "Epoch 79/120\n",
      "968/968 [==============================] - 16s 16ms/step - loss: 0.5419 - acc: 0.1777 - val_loss: 0.5533 - val_acc: 0.1789\n",
      "Epoch 80/120\n",
      "968/968 [==============================] - 16s 16ms/step - loss: 0.5421 - acc: 0.1775 - val_loss: 0.5582 - val_acc: 0.1775\n",
      "Epoch 81/120\n",
      "968/968 [==============================] - 16s 16ms/step - loss: 0.5424 - acc: 0.1773 - val_loss: 0.5515 - val_acc: 0.1796\n",
      "Epoch 82/120\n",
      "968/968 [==============================] - 16s 16ms/step - loss: 0.5419 - acc: 0.1774 - val_loss: 0.5554 - val_acc: 0.1787\n",
      "Epoch 83/120\n",
      "968/968 [==============================] - 16s 17ms/step - loss: 0.5416 - acc: 0.1776 - val_loss: 0.5552 - val_acc: 0.1782\n",
      "Epoch 84/120\n",
      "968/968 [==============================] - 16s 17ms/step - loss: 0.5422 - acc: 0.1773 - val_loss: 0.5530 - val_acc: 0.1784\n",
      "Epoch 85/120\n",
      "968/968 [==============================] - 16s 16ms/step - loss: 0.5411 - acc: 0.1776 - val_loss: 0.5500 - val_acc: 0.1790\n",
      "Epoch 86/120\n",
      "968/968 [==============================] - 16s 16ms/step - loss: 0.5410 - acc: 0.1777 - val_loss: 0.5558 - val_acc: 0.1775\n",
      "Epoch 87/120\n",
      "968/968 [==============================] - 16s 16ms/step - loss: 0.5416 - acc: 0.1776 - val_loss: 0.5552 - val_acc: 0.1777\n",
      "Epoch 88/120\n",
      "968/968 [==============================] - 16s 16ms/step - loss: 0.5418 - acc: 0.1775 - val_loss: 0.5528 - val_acc: 0.1785\n",
      "Epoch 89/120\n",
      "968/968 [==============================] - 16s 17ms/step - loss: 0.5412 - acc: 0.1777 - val_loss: 0.5541 - val_acc: 0.1787\n",
      "Epoch 90/120\n",
      "968/968 [==============================] - 16s 17ms/step - loss: 0.5409 - acc: 0.1777 - val_loss: 0.5495 - val_acc: 0.1802\n",
      "Epoch 91/120\n",
      "968/968 [==============================] - 16s 16ms/step - loss: 0.5412 - acc: 0.1777 - val_loss: 0.5522 - val_acc: 0.1789\n",
      "Epoch 92/120\n",
      "968/968 [==============================] - 16s 16ms/step - loss: 0.5413 - acc: 0.1776 - val_loss: 0.5546 - val_acc: 0.1780\n",
      "Epoch 93/120\n",
      "968/968 [==============================] - 16s 16ms/step - loss: 0.5407 - acc: 0.1778 - val_loss: 0.5533 - val_acc: 0.1784\n",
      "Epoch 94/120\n",
      "968/968 [==============================] - 16s 16ms/step - loss: 0.5389 - acc: 0.1782 - val_loss: 0.5502 - val_acc: 0.1789\n",
      "Epoch 95/120\n",
      "968/968 [==============================] - 16s 16ms/step - loss: 0.5382 - acc: 0.1784 - val_loss: 0.5474 - val_acc: 0.1796\n",
      "Epoch 96/120\n",
      "968/968 [==============================] - 16s 16ms/step - loss: 0.5377 - acc: 0.1785 - val_loss: 0.5487 - val_acc: 0.1798\n",
      "Epoch 97/120\n",
      "968/968 [==============================] - 17s 17ms/step - loss: 0.5371 - acc: 0.1786 - val_loss: 0.5517 - val_acc: 0.1789\n",
      "Epoch 98/120\n",
      "968/968 [==============================] - 17s 17ms/step - loss: 0.5369 - acc: 0.1788 - val_loss: 0.5511 - val_acc: 0.1790\n",
      "Epoch 99/120\n",
      "968/968 [==============================] - 16s 17ms/step - loss: 0.5369 - acc: 0.1787 - val_loss: 0.5500 - val_acc: 0.1794\n",
      "Epoch 100/120\n",
      "968/968 [==============================] - 16s 17ms/step - loss: 0.5368 - acc: 0.1789 - val_loss: 0.5574 - val_acc: 0.1767\n",
      "Epoch 101/120\n",
      "968/968 [==============================] - 16s 17ms/step - loss: 0.5360 - acc: 0.1791 - val_loss: 0.5498 - val_acc: 0.1797\n",
      "Epoch 102/120\n",
      "968/968 [==============================] - 16s 17ms/step - loss: 0.5358 - acc: 0.1793 - val_loss: 0.5471 - val_acc: 0.1807\n",
      "Epoch 103/120\n",
      "968/968 [==============================] - 16s 17ms/step - loss: 0.5364 - acc: 0.1790 - val_loss: 0.5508 - val_acc: 0.1791\n",
      "Epoch 104/120\n",
      "968/968 [==============================] - 16s 17ms/step - loss: 0.5359 - acc: 0.1791 - val_loss: 0.5549 - val_acc: 0.1784\n",
      "Epoch 105/120\n",
      "968/968 [==============================] - 16s 17ms/step - loss: 0.5355 - acc: 0.1791 - val_loss: 0.5493 - val_acc: 0.1798\n",
      "Epoch 106/120\n",
      "968/968 [==============================] - 16s 16ms/step - loss: 0.5354 - acc: 0.1792 - val_loss: 0.5478 - val_acc: 0.1806\n",
      "Epoch 107/120\n",
      "968/968 [==============================] - 16s 16ms/step - loss: 0.5350 - acc: 0.1794 - val_loss: 0.5537 - val_acc: 0.1780\n",
      "Epoch 108/120\n",
      "968/968 [==============================] - 17s 18ms/step - loss: 0.5351 - acc: 0.1793 - val_loss: 0.5512 - val_acc: 0.1798\n",
      "Epoch 109/120\n",
      "968/968 [==============================] - 18s 18ms/step - loss: 0.5346 - acc: 0.1795 - val_loss: 0.5509 - val_acc: 0.1796\n",
      "Epoch 110/120\n",
      "968/968 [==============================] - 16s 17ms/step - loss: 0.5347 - acc: 0.1798 - val_loss: 0.5519 - val_acc: 0.1793\n",
      "Epoch 111/120\n",
      "968/968 [==============================] - 16s 16ms/step - loss: 0.5343 - acc: 0.1798 - val_loss: 0.5516 - val_acc: 0.1797\n",
      "Epoch 112/120\n",
      "968/968 [==============================] - 16s 17ms/step - loss: 0.5348 - acc: 0.1796 - val_loss: 0.5514 - val_acc: 0.1796\n",
      "Epoch 113/120\n",
      "968/968 [==============================] - 16s 17ms/step - loss: 0.5346 - acc: 0.1797 - val_loss: 0.5516 - val_acc: 0.1789\n",
      "Epoch 114/120\n",
      "968/968 [==============================] - 16s 17ms/step - loss: 0.5354 - acc: 0.1796 - val_loss: 0.5495 - val_acc: 0.1798\n",
      "Epoch 115/120\n",
      "968/968 [==============================] - 16s 16ms/step - loss: 0.5362 - acc: 0.1794 - val_loss: 0.5513 - val_acc: 0.1798\n",
      "Epoch 116/120\n",
      "968/968 [==============================] - 16s 17ms/step - loss: 0.5360 - acc: 0.1794 - val_loss: 0.5514 - val_acc: 0.1795\n",
      "Epoch 117/120\n",
      "968/968 [==============================] - 16s 17ms/step - loss: 0.5350 - acc: 0.1797 - val_loss: 0.5546 - val_acc: 0.1791\n",
      "Epoch 118/120\n",
      "968/968 [==============================] - 16s 17ms/step - loss: 0.5344 - acc: 0.1801 - val_loss: 0.5526 - val_acc: 0.1792\n",
      "Epoch 119/120\n",
      "968/968 [==============================] - 16s 17ms/step - loss: 0.5346 - acc: 0.1801 - val_loss: 0.5571 - val_acc: 0.1775\n",
      "Epoch 120/120\n",
      "968/968 [==============================] - 16s 16ms/step - loss: 0.5338 - acc: 0.1802 - val_loss: 0.5478 - val_acc: 0.1808\n"
     ]
    },
    {
     "data": {
      "text/plain": "<keras.callbacks.History at 0x25b1f70dc40>"
     },
     "execution_count": 12,
     "metadata": {},
     "output_type": "execute_result"
    }
   ],
   "source": [
    "model.fit([encoder_input_data, decoder_input_data], decoder_target_data,\n",
    "          batch_size=batch_size, epochs=epochs, validation_split=0.05)"
   ],
   "metadata": {
    "collapsed": false
   }
  },
  {
   "cell_type": "code",
   "execution_count": 13,
   "outputs": [],
   "source": [
    "history = _ # doesn't work???"
   ],
   "metadata": {
    "collapsed": false
   }
  },
  {
   "cell_type": "code",
   "execution_count": 19,
   "outputs": [],
   "source": [
    "import gc\n",
    "\n",
    "def objects_by_id(id_):\n",
    "    for obj in gc.get_objects():\n",
    "        if id(obj) == id_:\n",
    "            return obj\n",
    "    raise Exception(\"No found\")"
   ],
   "metadata": {
    "collapsed": false
   }
  },
  {
   "cell_type": "code",
   "execution_count": 20,
   "outputs": [],
   "source": [
    "history = objects_by_id(0x25b1f70dc40)"
   ],
   "metadata": {
    "collapsed": false
   }
  },
  {
   "cell_type": "code",
   "execution_count": 24,
   "outputs": [
    {
     "data": {
      "text/plain": "<Figure size 640x480 with 1 Axes>",
      "image/png": "[encoded data removed]"
     },
     "metadata": {},
     "output_type": "display_data"
    },
    {
     "data": {
      "text/plain": "<Figure size 640x480 with 1 Axes>",
      "image/png": "[encoded data removed]"
     },
     "metadata": {},
     "output_type": "display_data"
    }
   ],
   "source": [
    "import matplotlib.pyplot as plt\n",
    "\n",
    "plt.plot(history.history['acc'], label='train acc')\n",
    "plt.plot(history.history['val_acc'], label='test acc')\n",
    "plt.legend()\n",
    "plt.show()\n",
    "\n",
    "plt.plot(history.history['loss'], label='train loss')\n",
    "plt.plot(history.history['val_loss'], label='test loss')\n",
    "plt.legend()\n",
    "plt.show()"
   ],
   "metadata": {
    "collapsed": false
   }
  },
  {
   "cell_type": "markdown",
   "source": [
    "## Assemble the model for sequence generation"
   ],
   "metadata": {
    "collapsed": false
   }
  },
  {
   "cell_type": "code",
   "execution_count": 25,
   "outputs": [],
   "source": [
    "encoder_model = Model(encoder_inputs, encoder_states)\n",
    "thought_input = [Input(shape=(num_neurons,)), Input(shape=(num_neurons,))]\n",
    "\n",
    "decoder_outputs, state_h, state_c = decoder_lstm(decoder_inputs,\n",
    "                                initial_state=thought_input)\n",
    "decoder_states = [state_h, state_c]\n",
    "decoder_outputs = decoder_dense(decoder_outputs)\n",
    "\n",
    "decoder_model = Model(inputs=[decoder_inputs] + thought_input,\n",
    "                      outputs=[decoder_outputs] + decoder_states)"
   ],
   "metadata": {
    "collapsed": false
   }
  },
  {
   "cell_type": "markdown",
   "source": [
    "## Save the models"
   ],
   "metadata": {
    "collapsed": false
   }
  },
  {
   "cell_type": "code",
   "execution_count": 26,
   "outputs": [],
   "source": [
    "with open(\"../src/part_9/chatbot_model/encoder_model.json\", 'w') as json_file:\n",
    "    json_file.write(encoder_model.to_json())\n",
    "\n",
    "encoder_model.save_weights('../src/part_9/chatbot_model/encoder_model.h5')\n",
    "\n",
    "\n",
    "with open(\"../src/part_9/chatbot_model/decoder_model.json\", 'w') as json_file:\n",
    "    json_file.write(decoder_model.to_json())\n",
    "\n",
    "decoder_model.save_weights('../src/part_9/chatbot_model/decoder_model.h5')"
   ],
   "metadata": {
    "collapsed": false
   }
  },
  {
   "cell_type": "code",
   "execution_count": 27,
   "outputs": [
    {
     "name": "stdout",
     "output_type": "stream",
     "text": [
      "{0: '\\t', 1: '\\n', 2: ' ', 3: '!', 4: \"'\", 5: ',', 6: '.', 7: '0', 8: '1', 9: '2', 10: '3', 11: '4', 12: '5', 13: '6', 14: '7', 15: '8', 16: '9', 17: ':', 18: ';', 19: '?', 20: 'a', 21: 'b', 22: 'c', 23: 'd', 24: 'e', 25: 'f', 26: 'g', 27: 'h', 28: 'i', 29: 'j', 30: 'k', 31: 'l', 32: 'm', 33: 'n', 34: 'o', 35: 'p', 36: 'q', 37: 'r', 38: 's', 39: 't', 40: 'u', 41: 'v', 42: 'w', 43: 'x', 44: 'y', 45: 'z'}\n"
     ]
    }
   ],
   "source": [
    "print(reverse_target_char_index)"
   ],
   "metadata": {
    "collapsed": false
   }
  },
  {
   "cell_type": "code",
   "execution_count": 28,
   "outputs": [
    {
     "name": "stdout",
     "output_type": "stream",
     "text": [
      "{' ': 0, '!': 1, \"'\": 2, ',': 3, '.': 4, '0': 5, '1': 6, '2': 7, '3': 8, '4': 9, '5': 10, '6': 11, '7': 12, '8': 13, '9': 14, ':': 15, ';': 16, '?': 17, 'a': 18, 'b': 19, 'c': 20, 'd': 21, 'e': 22, 'f': 23, 'g': 24, 'h': 25, 'i': 26, 'j': 27, 'k': 28, 'l': 29, 'm': 30, 'n': 31, 'o': 32, 'p': 33, 'q': 34, 'r': 35, 's': 36, 't': 37, 'u': 38, 'v': 39, 'w': 40, 'x': 41, 'y': 42, 'z': 43}\n"
     ]
    }
   ],
   "source": [
    "print(input_token_index)"
   ],
   "metadata": {
    "collapsed": false
   }
  },
  {
   "cell_type": "code",
   "execution_count": 29,
   "outputs": [
    {
     "name": "stdout",
     "output_type": "stream",
     "text": [
      "100\n"
     ]
    }
   ],
   "source": [
    "print(max_encoder_seq_length)"
   ],
   "metadata": {
    "collapsed": false
   }
  },
  {
   "cell_type": "code",
   "execution_count": 30,
   "outputs": [
    {
     "name": "stdout",
     "output_type": "stream",
     "text": [
      "102\n"
     ]
    }
   ],
   "source": [
    "print(max_decoder_seq_length)"
   ],
   "metadata": {
    "collapsed": false
   }
  },
  {
   "cell_type": "markdown",
   "source": [
    "## Build a char-based translator"
   ],
   "metadata": {
    "collapsed": false
   }
  },
  {
   "cell_type": "code",
   "execution_count": 31,
   "outputs": [],
   "source": [
    "def decode_sequence(input_seq):\n",
    "    thought = encoder_model.predict(input_seq)\n",
    "\n",
    "    target_seq = np.zeros((1, 1, output_vocab_size))\n",
    "    target_seq[0, 0, target_token_index[stop_token]] = 1.\n",
    "    stop_condition = False\n",
    "    generated_sequence = ''\n",
    "\n",
    "    while not stop_condition:\n",
    "        output_tokens, h, c = decoder_model.predict([target_seq] + thought)\n",
    "\n",
    "        generated_toked_idx = np.argmax(output_tokens[0, -1, :])\n",
    "        generated_char = reverse_target_char_index[generated_toked_idx]\n",
    "        generated_sequence += generated_char\n",
    "        if (generated_char == stop_token) \\\n",
    "                or (len(generated_sequence) > max_decoder_seq_length):\n",
    "            stop_condition = True\n",
    "\n",
    "        target_seq = np.zeros((1, 1, output_vocab_size))\n",
    "        target_seq[0, 0, generated_toked_idx] = 1.\n",
    "        thought = [h, c]\n",
    "\n",
    "    return generated_sequence"
   ],
   "metadata": {
    "collapsed": false
   }
  },
  {
   "cell_type": "markdown",
   "source": [
    "## Generate a response"
   ],
   "metadata": {
    "collapsed": false
   }
  },
  {
   "cell_type": "code",
   "execution_count": 32,
   "outputs": [],
   "source": [
    "def response(input_sentence):\n",
    "    input_seq = np.zeros((1, max_encoder_seq_length, input_vocab_size),\n",
    "                         dtype='float32')\n",
    "    for t, char in enumerate(input_sentence):\n",
    "        input_seq[0, t, input_token_index[char]] = 1.\n",
    "    decoded_sentence = decode_sequence(input_seq)\n",
    "    print('Bot Reply (Decoded sentence):', decoded_sentence)"
   ],
   "metadata": {
    "collapsed": false
   }
  },
  {
   "cell_type": "code",
   "execution_count": 33,
   "outputs": [
    {
     "name": "stdout",
     "output_type": "stream",
     "text": [
      "1/1 [==============================] - 0s 282ms/step\n",
      "1/1 [==============================] - 0s 259ms/step\n",
      "1/1 [==============================] - 0s 23ms/step\n",
      "1/1 [==============================] - 0s 43ms/step\n",
      "1/1 [==============================] - 0s 20ms/step\n",
      "1/1 [==============================] - 0s 20ms/step\n",
      "1/1 [==============================] - 0s 26ms/step\n",
      "1/1 [==============================] - 0s 22ms/step\n",
      "1/1 [==============================] - 0s 21ms/step\n",
      "1/1 [==============================] - 0s 45ms/step\n",
      "1/1 [==============================] - 0s 25ms/step\n",
      "1/1 [==============================] - 0s 19ms/step\n",
      "1/1 [==============================] - 0s 20ms/step\n",
      "1/1 [==============================] - 0s 19ms/step\n",
      "1/1 [==============================] - 0s 19ms/step\n",
      "1/1 [==============================] - 0s 28ms/step\n",
      "1/1 [==============================] - 0s 21ms/step\n",
      "Bot Reply (Decoded sentence): it's the world.\n",
      "\n"
     ]
    }
   ],
   "source": [
    "response(\"what is the internet?\")"
   ],
   "metadata": {
    "collapsed": false
   }
  },
  {
   "cell_type": "code",
   "execution_count": 34,
   "outputs": [
    {
     "name": "stdout",
     "output_type": "stream",
     "text": [
      "1/1 [==============================] - 0s 17ms/step\n",
      "1/1 [==============================] - 0s 19ms/step\n",
      "1/1 [==============================] - 0s 18ms/step\n",
      "1/1 [==============================] - 0s 19ms/step\n",
      "1/1 [==============================] - 0s 20ms/step\n",
      "1/1 [==============================] - 0s 18ms/step\n",
      "1/1 [==============================] - 0s 21ms/step\n",
      "1/1 [==============================] - 0s 18ms/step\n",
      "1/1 [==============================] - 0s 18ms/step\n",
      "1/1 [==============================] - 0s 18ms/step\n",
      "1/1 [==============================] - 0s 20ms/step\n",
      "1/1 [==============================] - 0s 20ms/step\n",
      "1/1 [==============================] - 0s 20ms/step\n",
      "1/1 [==============================] - 0s 18ms/step\n",
      "1/1 [==============================] - 0s 18ms/step\n",
      "1/1 [==============================] - 0s 20ms/step\n",
      "1/1 [==============================] - 0s 19ms/step\n",
      "1/1 [==============================] - 0s 20ms/step\n",
      "1/1 [==============================] - 0s 21ms/step\n",
      "1/1 [==============================] - 0s 20ms/step\n",
      "1/1 [==============================] - 0s 18ms/step\n",
      "1/1 [==============================] - 0s 18ms/step\n",
      "1/1 [==============================] - 0s 19ms/step\n",
      "1/1 [==============================] - 0s 20ms/step\n",
      "1/1 [==============================] - 0s 18ms/step\n",
      "1/1 [==============================] - 0s 19ms/step\n",
      "1/1 [==============================] - 0s 20ms/step\n",
      "1/1 [==============================] - 0s 19ms/step\n",
      "1/1 [==============================] - 0s 21ms/step\n",
      "1/1 [==============================] - 0s 19ms/step\n",
      "1/1 [==============================] - 0s 19ms/step\n",
      "1/1 [==============================] - 0s 19ms/step\n",
      "1/1 [==============================] - 0s 21ms/step\n",
      "1/1 [==============================] - 0s 20ms/step\n",
      "1/1 [==============================] - 0s 21ms/step\n",
      "1/1 [==============================] - 0s 19ms/step\n",
      "1/1 [==============================] - 0s 21ms/step\n",
      "1/1 [==============================] - 0s 23ms/step\n",
      "Bot Reply (Decoded sentence): if there are you to take the trouse.\n",
      "\n"
     ]
    }
   ],
   "source": [
    "response(\"why?\")"
   ],
   "metadata": {
    "collapsed": false
   }
  },
  {
   "cell_type": "code",
   "execution_count": 35,
   "outputs": [
    {
     "name": "stdout",
     "output_type": "stream",
     "text": [
      "1/1 [==============================] - 0s 18ms/step\n",
      "1/1 [==============================] - 0s 19ms/step\n",
      "1/1 [==============================] - 0s 22ms/step\n",
      "1/1 [==============================] - 0s 28ms/step\n",
      "1/1 [==============================] - 0s 20ms/step\n",
      "1/1 [==============================] - 0s 34ms/step\n",
      "1/1 [==============================] - 0s 31ms/step\n",
      "1/1 [==============================] - 0s 21ms/step\n",
      "1/1 [==============================] - 0s 28ms/step\n",
      "1/1 [==============================] - 0s 27ms/step\n",
      "1/1 [==============================] - 0s 50ms/step\n",
      "1/1 [==============================] - 0s 24ms/step\n",
      "Bot Reply (Decoded sentence): if really.\n",
      "\n"
     ]
    }
   ],
   "source": [
    "response(\"do you like coffee?\")"
   ],
   "metadata": {
    "collapsed": false
   }
  },
  {
   "cell_type": "code",
   "execution_count": 36,
   "outputs": [
    {
     "name": "stdout",
     "output_type": "stream",
     "text": [
      "1/1 [==============================] - 0s 17ms/step\n",
      "1/1 [==============================] - 0s 17ms/step\n",
      "1/1 [==============================] - 0s 26ms/step\n",
      "1/1 [==============================] - 0s 21ms/step\n",
      "1/1 [==============================] - 0s 21ms/step\n",
      "1/1 [==============================] - 0s 20ms/step\n",
      "1/1 [==============================] - 0s 21ms/step\n",
      "1/1 [==============================] - 0s 23ms/step\n",
      "1/1 [==============================] - 0s 21ms/step\n",
      "1/1 [==============================] - 0s 21ms/step\n",
      "1/1 [==============================] - 0s 19ms/step\n",
      "1/1 [==============================] - 0s 25ms/step\n",
      "Bot Reply (Decoded sentence): if really.\n",
      "\n"
     ]
    }
   ],
   "source": [
    "response(\"do you like football?\")"
   ],
   "metadata": {
    "collapsed": false
   }
  },
  {
   "cell_type": "code",
   "execution_count": 39,
   "outputs": [
    {
     "name": "stdout",
     "output_type": "stream",
     "text": [
      "1/1 [==============================] - 0s 17ms/step\n",
      "1/1 [==============================] - 0s 21ms/step\n",
      "1/1 [==============================] - 0s 20ms/step\n",
      "1/1 [==============================] - 0s 20ms/step\n",
      "1/1 [==============================] - 0s 20ms/step\n",
      "1/1 [==============================] - 0s 19ms/step\n",
      "1/1 [==============================] - 0s 20ms/step\n",
      "1/1 [==============================] - 0s 21ms/step\n",
      "1/1 [==============================] - 0s 19ms/step\n",
      "1/1 [==============================] - 0s 20ms/step\n",
      "1/1 [==============================] - 0s 24ms/step\n",
      "1/1 [==============================] - 0s 20ms/step\n",
      "1/1 [==============================] - 0s 30ms/step\n",
      "1/1 [==============================] - 0s 35ms/step\n",
      "1/1 [==============================] - 0s 19ms/step\n",
      "1/1 [==============================] - 0s 27ms/step\n",
      "1/1 [==============================] - 0s 21ms/step\n",
      "1/1 [==============================] - 0s 22ms/step\n",
      "1/1 [==============================] - 0s 19ms/step\n",
      "1/1 [==============================] - 0s 19ms/step\n",
      "1/1 [==============================] - 0s 20ms/step\n",
      "1/1 [==============================] - 0s 20ms/step\n",
      "1/1 [==============================] - 0s 25ms/step\n",
      "1/1 [==============================] - 0s 20ms/step\n",
      "1/1 [==============================] - 0s 24ms/step\n",
      "1/1 [==============================] - 0s 19ms/step\n",
      "1/1 [==============================] - 0s 31ms/step\n",
      "1/1 [==============================] - 0s 20ms/step\n",
      "1/1 [==============================] - 0s 25ms/step\n",
      "1/1 [==============================] - 0s 23ms/step\n",
      "1/1 [==============================] - 0s 28ms/step\n",
      "1/1 [==============================] - 0s 23ms/step\n",
      "1/1 [==============================] - 0s 20ms/step\n",
      "Bot Reply (Decoded sentence): if what the hell is the traked.\n",
      "\n"
     ]
    }
   ],
   "source": [
    "response('do you know, who am i')"
   ],
   "metadata": {
    "collapsed": false
   }
  },
  {
   "cell_type": "code",
   "execution_count": 40,
   "outputs": [
    {
     "name": "stdout",
     "output_type": "stream",
     "text": [
      "1/1 [==============================] - 0s 17ms/step\n",
      "1/1 [==============================] - 0s 20ms/step\n",
      "1/1 [==============================] - 0s 19ms/step\n",
      "1/1 [==============================] - 0s 20ms/step\n",
      "1/1 [==============================] - 0s 19ms/step\n",
      "1/1 [==============================] - 0s 24ms/step\n",
      "1/1 [==============================] - 0s 23ms/step\n",
      "1/1 [==============================] - 0s 19ms/step\n",
      "1/1 [==============================] - 0s 22ms/step\n",
      "1/1 [==============================] - 0s 19ms/step\n",
      "1/1 [==============================] - 0s 20ms/step\n",
      "1/1 [==============================] - 0s 21ms/step\n",
      "1/1 [==============================] - 0s 21ms/step\n",
      "1/1 [==============================] - 0s 27ms/step\n",
      "1/1 [==============================] - 0s 22ms/step\n",
      "1/1 [==============================] - 0s 24ms/step\n",
      "Bot Reply (Decoded sentence): if what is it.\n",
      "\n"
     ]
    }
   ],
   "source": [
    "response('what do you know about rb night chaos?')"
   ],
   "metadata": {
    "collapsed": false
   }
  },
  {
   "cell_type": "code",
   "execution_count": 41,
   "outputs": [
    {
     "name": "stdout",
     "output_type": "stream",
     "text": [
      "1/1 [==============================] - 0s 17ms/step\n",
      "1/1 [==============================] - 0s 20ms/step\n",
      "1/1 [==============================] - 0s 20ms/step\n",
      "1/1 [==============================] - 0s 24ms/step\n",
      "1/1 [==============================] - 0s 21ms/step\n",
      "1/1 [==============================] - 0s 27ms/step\n",
      "1/1 [==============================] - 0s 22ms/step\n",
      "1/1 [==============================] - 0s 20ms/step\n",
      "1/1 [==============================] - 0s 20ms/step\n",
      "1/1 [==============================] - 0s 19ms/step\n",
      "1/1 [==============================] - 0s 19ms/step\n",
      "1/1 [==============================] - 0s 21ms/step\n",
      "1/1 [==============================] - 0s 20ms/step\n",
      "1/1 [==============================] - 0s 32ms/step\n",
      "1/1 [==============================] - 0s 20ms/step\n",
      "1/1 [==============================] - 0s 20ms/step\n",
      "1/1 [==============================] - 0s 30ms/step\n",
      "1/1 [==============================] - 0s 23ms/step\n",
      "1/1 [==============================] - 0s 24ms/step\n",
      "Bot Reply (Decoded sentence): if there are you.\n",
      "\n"
     ]
    }
   ],
   "source": [
    "response('say hello')"
   ],
   "metadata": {
    "collapsed": false
   }
  },
  {
   "cell_type": "code",
   "execution_count": 42,
   "outputs": [
    {
     "name": "stdout",
     "output_type": "stream",
     "text": [
      "1/1 [==============================] - 0s 18ms/step\n",
      "1/1 [==============================] - 0s 20ms/step\n",
      "1/1 [==============================] - 0s 28ms/step\n",
      "1/1 [==============================] - 0s 29ms/step\n",
      "1/1 [==============================] - 0s 21ms/step\n",
      "1/1 [==============================] - 0s 24ms/step\n",
      "1/1 [==============================] - 0s 21ms/step\n",
      "1/1 [==============================] - 0s 26ms/step\n",
      "1/1 [==============================] - 0s 20ms/step\n",
      "1/1 [==============================] - 0s 27ms/step\n",
      "1/1 [==============================] - 0s 29ms/step\n",
      "1/1 [==============================] - 0s 32ms/step\n",
      "1/1 [==============================] - 0s 33ms/step\n",
      "1/1 [==============================] - 0s 85ms/step\n",
      "1/1 [==============================] - 0s 20ms/step\n",
      "1/1 [==============================] - 0s 20ms/step\n",
      "Bot Reply (Decoded sentence): it'me worried.\n",
      "\n"
     ]
    }
   ],
   "source": [
    "response('hi, bot!')"
   ],
   "metadata": {
    "collapsed": false
   }
  },
  {
   "cell_type": "code",
   "execution_count": 43,
   "outputs": [
    {
     "name": "stdout",
     "output_type": "stream",
     "text": [
      "1/1 [==============================] - 0s 20ms/step\n",
      "1/1 [==============================] - 0s 20ms/step\n",
      "1/1 [==============================] - 0s 20ms/step\n",
      "1/1 [==============================] - 0s 21ms/step\n",
      "1/1 [==============================] - 0s 20ms/step\n",
      "1/1 [==============================] - 0s 23ms/step\n",
      "1/1 [==============================] - 0s 20ms/step\n",
      "1/1 [==============================] - 0s 19ms/step\n",
      "1/1 [==============================] - 0s 21ms/step\n",
      "1/1 [==============================] - 0s 21ms/step\n",
      "1/1 [==============================] - 0s 25ms/step\n",
      "Bot Reply (Decoded sentence): if there.\n",
      "\n"
     ]
    }
   ],
   "source": [
    "response('so what are you doing?')"
   ],
   "metadata": {
    "collapsed": false
   }
  },
  {
   "cell_type": "code",
   "execution_count": 44,
   "outputs": [
    {
     "name": "stdout",
     "output_type": "stream",
     "text": [
      "1/1 [==============================] - 0s 17ms/step\n",
      "1/1 [==============================] - 0s 27ms/step\n",
      "1/1 [==============================] - 0s 27ms/step\n",
      "1/1 [==============================] - 0s 28ms/step\n",
      "1/1 [==============================] - 0s 22ms/step\n",
      "1/1 [==============================] - 0s 24ms/step\n",
      "1/1 [==============================] - 0s 20ms/step\n",
      "1/1 [==============================] - 0s 21ms/step\n",
      "1/1 [==============================] - 0s 20ms/step\n",
      "1/1 [==============================] - 0s 48ms/step\n",
      "1/1 [==============================] - 0s 22ms/step\n",
      "1/1 [==============================] - 0s 20ms/step\n",
      "1/1 [==============================] - 0s 22ms/step\n",
      "1/1 [==============================] - 0s 22ms/step\n",
      "1/1 [==============================] - 0s 47ms/step\n",
      "1/1 [==============================] - 0s 20ms/step\n",
      "1/1 [==============================] - 0s 21ms/step\n",
      "1/1 [==============================] - 0s 22ms/step\n",
      "1/1 [==============================] - 0s 25ms/step\n",
      "1/1 [==============================] - 0s 32ms/step\n",
      "1/1 [==============================] - 0s 37ms/step\n",
      "Bot Reply (Decoded sentence): it's and the start.\n",
      "\n"
     ]
    }
   ],
   "source": [
    "response('what are you doing?')"
   ],
   "metadata": {
    "collapsed": false
   }
  },
  {
   "cell_type": "code",
   "execution_count": 45,
   "outputs": [
    {
     "name": "stdout",
     "output_type": "stream",
     "text": [
      "1/1 [==============================] - 0s 17ms/step\n",
      "1/1 [==============================] - 0s 19ms/step\n",
      "1/1 [==============================] - 0s 19ms/step\n",
      "1/1 [==============================] - 0s 19ms/step\n",
      "1/1 [==============================] - 0s 21ms/step\n",
      "1/1 [==============================] - 0s 23ms/step\n",
      "1/1 [==============================] - 0s 24ms/step\n",
      "1/1 [==============================] - 0s 19ms/step\n",
      "1/1 [==============================] - 0s 21ms/step\n",
      "1/1 [==============================] - 0s 19ms/step\n",
      "1/1 [==============================] - 0s 19ms/step\n",
      "1/1 [==============================] - 0s 28ms/step\n",
      "1/1 [==============================] - 0s 20ms/step\n",
      "1/1 [==============================] - 0s 23ms/step\n",
      "1/1 [==============================] - 0s 18ms/step\n",
      "1/1 [==============================] - 0s 19ms/step\n",
      "1/1 [==============================] - 0s 19ms/step\n",
      "1/1 [==============================] - 0s 19ms/step\n",
      "1/1 [==============================] - 0s 22ms/step\n",
      "1/1 [==============================] - 0s 19ms/step\n",
      "1/1 [==============================] - 0s 21ms/step\n",
      "1/1 [==============================] - 0s 23ms/step\n",
      "Bot Reply (Decoded sentence): if why we're torred.\n",
      "\n"
     ]
    }
   ],
   "source": [
    "response('show your dick')"
   ],
   "metadata": {
    "collapsed": false
   }
  },
  {
   "cell_type": "code",
   "execution_count": 46,
   "outputs": [
    {
     "name": "stdout",
     "output_type": "stream",
     "text": [
      "1/1 [==============================] - 0s 18ms/step\n",
      "1/1 [==============================] - 0s 24ms/step\n",
      "1/1 [==============================] - 0s 19ms/step\n",
      "1/1 [==============================] - 0s 19ms/step\n",
      "1/1 [==============================] - 0s 20ms/step\n",
      "1/1 [==============================] - 0s 21ms/step\n",
      "1/1 [==============================] - 0s 24ms/step\n",
      "1/1 [==============================] - 0s 23ms/step\n",
      "1/1 [==============================] - 0s 19ms/step\n",
      "1/1 [==============================] - 0s 21ms/step\n",
      "1/1 [==============================] - 0s 23ms/step\n",
      "1/1 [==============================] - 0s 22ms/step\n",
      "1/1 [==============================] - 0s 23ms/step\n",
      "1/1 [==============================] - 0s 24ms/step\n",
      "1/1 [==============================] - 0s 20ms/step\n",
      "1/1 [==============================] - 0s 21ms/step\n",
      "1/1 [==============================] - 0s 20ms/step\n",
      "1/1 [==============================] - 0s 19ms/step\n",
      "1/1 [==============================] - 0s 19ms/step\n",
      "1/1 [==============================] - 0s 19ms/step\n",
      "1/1 [==============================] - 0s 26ms/step\n",
      "1/1 [==============================] - 0s 18ms/step\n",
      "Bot Reply (Decoded sentence): if what do you mean.\n",
      "\n"
     ]
    }
   ],
   "source": [
    "response('say something funny')"
   ],
   "metadata": {
    "collapsed": false
   }
  },
  {
   "cell_type": "code",
   "execution_count": 47,
   "outputs": [
    {
     "name": "stdout",
     "output_type": "stream",
     "text": [
      "1/1 [==============================] - 0s 16ms/step\n",
      "1/1 [==============================] - 0s 19ms/step\n",
      "1/1 [==============================] - 0s 19ms/step\n",
      "1/1 [==============================] - 0s 32ms/step\n",
      "1/1 [==============================] - 0s 23ms/step\n",
      "1/1 [==============================] - 0s 21ms/step\n",
      "1/1 [==============================] - 0s 25ms/step\n",
      "1/1 [==============================] - 0s 19ms/step\n",
      "1/1 [==============================] - 0s 20ms/step\n",
      "1/1 [==============================] - 0s 20ms/step\n",
      "1/1 [==============================] - 0s 24ms/step\n",
      "Bot Reply (Decoded sentence): if there.\n",
      "\n"
     ]
    }
   ],
   "source": [
    "response('random code to you dear')"
   ],
   "metadata": {
    "collapsed": false
   }
  },
  {
   "cell_type": "code",
   "execution_count": 48,
   "outputs": [
    {
     "name": "stdout",
     "output_type": "stream",
     "text": [
      "1/1 [==============================] - 0s 18ms/step\n",
      "1/1 [==============================] - 0s 19ms/step\n",
      "1/1 [==============================] - 0s 26ms/step\n",
      "1/1 [==============================] - 0s 19ms/step\n",
      "1/1 [==============================] - 0s 20ms/step\n",
      "1/1 [==============================] - 0s 21ms/step\n",
      "1/1 [==============================] - 0s 19ms/step\n",
      "1/1 [==============================] - 0s 19ms/step\n",
      "1/1 [==============================] - 0s 20ms/step\n",
      "1/1 [==============================] - 0s 24ms/step\n",
      "1/1 [==============================] - 0s 19ms/step\n",
      "Bot Reply (Decoded sentence): if there.\n",
      "\n"
     ]
    }
   ],
   "source": [
    "response('something new')"
   ],
   "metadata": {
    "collapsed": false
   }
  },
  {
   "cell_type": "code",
   "execution_count": 50,
   "outputs": [
    {
     "name": "stdout",
     "output_type": "stream",
     "text": [
      "1/1 [==============================] - 0s 17ms/step\n",
      "1/1 [==============================] - 0s 20ms/step\n",
      "1/1 [==============================] - 0s 24ms/step\n",
      "1/1 [==============================] - 0s 20ms/step\n",
      "1/1 [==============================] - 0s 25ms/step\n",
      "1/1 [==============================] - 0s 20ms/step\n",
      "1/1 [==============================] - 0s 24ms/step\n",
      "1/1 [==============================] - 0s 20ms/step\n",
      "1/1 [==============================] - 0s 25ms/step\n",
      "1/1 [==============================] - 0s 19ms/step\n",
      "1/1 [==============================] - 0s 25ms/step\n",
      "Bot Reply (Decoded sentence): if there.\n",
      "\n"
     ]
    }
   ],
   "source": [
    "response('something else')"
   ],
   "metadata": {
    "collapsed": false
   }
  }
 ],
 "metadata": {
  "kernelspec": {
   "display_name": "Python 3",
   "language": "python",
   "name": "python3"
  },
  "language_info": {
   "codemirror_mode": {
    "name": "ipython",
    "version": 2
   },
   "file_extension": ".py",
   "mimetype": "text/x-python",
   "name": "python",
   "nbconvert_exporter": "python",
   "pygments_lexer": "ipython2",
   "version": "2.7.6"
  }
 },
 "nbformat": 4,
 "nbformat_minor": 0
}
