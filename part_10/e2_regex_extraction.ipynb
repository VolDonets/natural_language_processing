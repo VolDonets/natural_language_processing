{
 "cells": [
  {
   "cell_type": "code",
   "execution_count": 13,
   "metadata": {
    "collapsed": true
   },
   "outputs": [],
   "source": [
    "import re\n",
    "\n",
    "from datetime import date"
   ]
  },
  {
   "cell_type": "markdown",
   "source": [
    "## Extracting GPS location"
   ],
   "metadata": {
    "collapsed": false
   }
  },
  {
   "cell_type": "code",
   "execution_count": 6,
   "outputs": [],
   "source": [
    "lat = r'([-]?[0-9]?[0-9][.][0-9]{2,10})'\n",
    "lon = r'([-]?1?[0-9]?[0-9][.][0-9]{2,10})'\n",
    "sep = r'[,/ ]{1,3}'\n",
    "re_gps = re.compile(lat + sep + lon)"
   ],
   "metadata": {
    "collapsed": false
   }
  },
  {
   "cell_type": "code",
   "execution_count": 7,
   "outputs": [
    {
     "data": {
      "text/plain": "[('34.0551066', '-118.2496763')]"
     },
     "execution_count": 7,
     "metadata": {},
     "output_type": "execute_result"
    }
   ],
   "source": [
    "re_gps.findall('http://...maps/@34.0551066,-118.2496763...')"
   ],
   "metadata": {
    "collapsed": false
   }
  },
  {
   "cell_type": "code",
   "execution_count": 8,
   "outputs": [
    {
     "data": {
      "text/plain": "[('5.9666', '116.0566')]"
     },
     "execution_count": 8,
     "metadata": {},
     "output_type": "execute_result"
    }
   ],
   "source": [
    "re_gps.findall(\"https://www.openstreetmap.org/#map=10/5.9666/116.0566\")"
   ],
   "metadata": {
    "collapsed": false
   }
  },
  {
   "cell_type": "code",
   "execution_count": 9,
   "outputs": [
    {
     "data": {
      "text/plain": "[('45.344', '-121.9431')]"
     },
     "execution_count": 9,
     "metadata": {},
     "output_type": "execute_result"
    }
   ],
   "source": [
    "re_gps.findall(\"Zig Zag Cafe is at 45.344, -121.9431 on my GPS.\")"
   ],
   "metadata": {
    "collapsed": false
   }
  },
  {
   "cell_type": "markdown",
   "source": [
    "## Extracting dates"
   ],
   "metadata": {
    "collapsed": false
   }
  },
  {
   "cell_type": "code",
   "execution_count": 10,
   "outputs": [
    {
     "data": {
      "text/plain": "[('12/25/2017', '12/25', '12', '25', '/2017', '20'),\n ('12/12', '12/12', '12', '12', '', '')]"
     },
     "execution_count": 10,
     "metadata": {},
     "output_type": "execute_result"
    }
   ],
   "source": [
    "us = r'((([01]?\\d)[-/]([0123]?\\d))([-/]([0123]\\d)\\d\\d)?)'\n",
    "mdy = re.findall(us, 'Santa came 12/25/2017. An elf appeared 12/12.')\n",
    "mdy"
   ],
   "metadata": {
    "collapsed": false
   }
  },
  {
   "cell_type": "code",
   "execution_count": 11,
   "outputs": [
    {
     "data": {
      "text/plain": "[{'mdy': '12/25/2017', 'my': '12/25', 'm': 12, 'd': 25, 'y': 2017, 'c': 20},\n {'mdy': '12/12', 'my': '12/12', 'm': 12, 'd': 12, 'y': 0, 'c': 0}]"
     },
     "execution_count": 11,
     "metadata": {},
     "output_type": "execute_result"
    }
   ],
   "source": [
    "dates = [{'mdy': x[0], 'my': x[1], 'm': int(x[2]), 'd': int(x[3]),\n",
    "          'y': int(x[4].lstrip('/') or 0), 'c': int(x[5] or 0)} for x in mdy]\n",
    "dates"
   ],
   "metadata": {
    "collapsed": false
   }
  },
  {
   "cell_type": "code",
   "execution_count": 12,
   "outputs": [
    {
     "data": {
      "text/plain": "[{'mdy': '12/25/2017', 'my': '12/25', 'm': 12, 'd': 25, 'y': 2017, 'c': 20},\n {'mdy': '12/12', 'my': '12/12', 'm': 12, 'd': 12, 'y': 2017, 'c': 20}]"
     },
     "execution_count": 12,
     "metadata": {},
     "output_type": "execute_result"
    }
   ],
   "source": [
    "for i, d in enumerate(dates):\n",
    "    for k, v in d.items():\n",
    "        if not v:\n",
    "            d[k] = dates[max(i - 1, 0)][k]\n",
    "dates"
   ],
   "metadata": {
    "collapsed": false
   }
  },
  {
   "cell_type": "code",
   "execution_count": 14,
   "outputs": [
    {
     "data": {
      "text/plain": "[datetime.date(2017, 12, 25), datetime.date(2017, 12, 12)]"
     },
     "execution_count": 14,
     "metadata": {},
     "output_type": "execute_result"
    }
   ],
   "source": [
    "datetimes = [date(d['y'], d['m'], d['d']) for d in dates]\n",
    "datetimes"
   ],
   "metadata": {
    "collapsed": false
   }
  },
  {
   "cell_type": "code",
   "execution_count": 15,
   "outputs": [
    {
     "data": {
      "text/plain": "[('23/6/1912', '23/6', '23', '6', '/1912', '19'),\n ('7/6/1954', '7/6', '7', '6', '/1954', '19')]"
     },
     "execution_count": 15,
     "metadata": {},
     "output_type": "execute_result"
    }
   ],
   "source": [
    "eu = r'((([0123]?\\d)[-/]([01]?\\d))([-/]([0123]\\d)?\\d\\d)?)'\n",
    "dmy = re.findall(eu, 'Alan Mathison Turing OBE FRS (23/6/1912-7/6/1954) was an English computer scientist.')\n",
    "dmy"
   ],
   "metadata": {
    "collapsed": false
   }
  },
  {
   "cell_type": "code",
   "execution_count": 16,
   "outputs": [
    {
     "data": {
      "text/plain": "[('23/6/12', '23/6', '23', '6', '/12', ''),\n ('7/6/54', '7/6', '7', '6', '/54', '')]"
     },
     "execution_count": 16,
     "metadata": {},
     "output_type": "execute_result"
    }
   ],
   "source": [
    "dmy = re.findall(eu, 'Alan Mathison Turing OBE FRS (23/6/12-7/6/54) was an English computer scientist.')\n",
    "dmy"
   ],
   "metadata": {
    "collapsed": false
   }
  },
  {
   "cell_type": "code",
   "execution_count": 17,
   "outputs": [
    {
     "data": {
      "text/plain": "['2000', '01', '08', '99', '1984', '2030', '1970', '85', '47', '66']"
     },
     "execution_count": 17,
     "metadata": {},
     "output_type": "execute_result"
    }
   ],
   "source": [
    "yr_19xx = (r'\\b(?P<yr_19xx>' + '|'.join('{}'.format(i) for i in range(30, 100)) + r')\\b')\n",
    "yr_20xx = (r'\\b(?P<yr_20xx>' + '|'.join('{:02d}'.format(i) for i in range(10)) + '|' +\n",
    "           '|'.join('{}'.format(i) for i in range(10, 30)) + r')\\b')\n",
    "yr_cent = r'\\b(?P<yr_cent>' + '|'.join('{}'.format(i) for i in range(1, 40)) + r')'\n",
    "yr_ccxx = r'(?P<yr_ccxx>' + '|'.join('{:02d}'.format(i) for i in range(0, 100)) + r')\\b'\n",
    "yr_xxxx = r'\\b(?P<yr_xxxx>(' + yr_cent + ')(' + yr_ccxx + r'))\\b'\n",
    "yr = (r'\\b(?P<yr>' + yr_19xx + '|' + yr_20xx + '|' + yr_xxxx + r')\\b')\n",
    "groups = list(re.finditer(yr, \"0, 2000, 01, '08, 99, 1984, 2030/1970 85 47 `66\"))\n",
    "full_years = [g['yr'] for g in groups]\n",
    "full_years"
   ],
   "metadata": {
    "collapsed": false
   }
  },
  {
   "cell_type": "code",
   "execution_count": 18,
   "outputs": [
    {
     "data": {
      "text/plain": "'\\\\b(?P<yr_19xx>30|31|32|33|34|35|36|37|38|39|40|41|42|43|44|45|46|47|48|49|50|51|52|53|54|55|56|57|58|59|60|61|62|63|64|65|66|67|68|69|70|71|72|73|74|75|76|77|78|79|80|81|82|83|84|85|86|87|88|89|90|91|92|93|94|95|96|97|98|99)\\\\b'"
     },
     "execution_count": 18,
     "metadata": {},
     "output_type": "execute_result"
    }
   ],
   "source": [
    "yr_19xx"
   ],
   "metadata": {
    "collapsed": false
   }
  },
  {
   "cell_type": "code",
   "execution_count": 19,
   "outputs": [],
   "source": [
    "mon_words = 'January February March April May June July August September October November December'\n",
    "mon = (r'\\b(' + '|'.join('{}|{}|{}|{}|{:02d}'.format(m, m[:4], m[:3], i + 1, i + 1) for i, m in enumerate(mon_words.split())) + r')\\b')"
   ],
   "metadata": {
    "collapsed": false
   }
  },
  {
   "cell_type": "code",
   "execution_count": 20,
   "outputs": [
    {
     "data": {
      "text/plain": "['January', 'February', '12']"
     },
     "execution_count": 20,
     "metadata": {},
     "output_type": "execute_result"
    }
   ],
   "source": [
    "re.findall(mon, 'January has 31 days, February the 2nd month of 12, has 28, except in a Leap Year.')"
   ],
   "metadata": {
    "collapsed": false
   }
  },
  {
   "cell_type": "markdown",
   "source": [
    "### Combining information extraction regular expressions"
   ],
   "metadata": {
    "collapsed": false
   }
  },
  {
   "cell_type": "code",
   "execution_count": 21,
   "outputs": [
    {
     "data": {
      "text/plain": "[<re.Match object; span=(0, 12), match='31 Oct, 1970'>,\n <re.Match object; span=(13, 23), match='25/12/2017'>]"
     },
     "execution_count": 21,
     "metadata": {},
     "output_type": "execute_result"
    }
   ],
   "source": [
    "day = r'|'.join('{:02d}|{}'.format(i, i) for i in range(1, 32))\n",
    "eu = (r'\\b(' + day + r')\\b[-,/ ]{0,2}\\b(' + mon + r')\\b[-,/ ]{0,2}\\b(' + yr.replace('<yr', '<eu_yr') + r')\\b')\n",
    "us = (r'\\b(' + mon + r')\\b[-,/ ]{0,2}\\b(' + day + r')\\b[-,/ ]{0,2}\\b(' + yr.replace('<yr', '<us_yr') + r')\\b')\n",
    "\n",
    "date_pattern = r'\\b(' + eu + '|' + us + r')\\b'\n",
    "list(re.finditer(date_pattern, '31 Oct, 1970 25/12/2017'))"
   ],
   "metadata": {
    "collapsed": false
   }
  },
  {
   "cell_type": "code",
   "execution_count": 22,
   "outputs": [
    {
     "ename": "IndexError",
     "evalue": "no such group",
     "output_type": "error",
     "traceback": [
      "\u001B[1;31m---------------------------------------------------------------------------\u001B[0m",
      "\u001B[1;31mIndexError\u001B[0m                                Traceback (most recent call last)",
      "Cell \u001B[1;32mIn [22], line 5\u001B[0m\n\u001B[0;32m      3\u001B[0m dates \u001B[38;5;241m=\u001B[39m []\n\u001B[0;32m      4\u001B[0m \u001B[38;5;28;01mfor\u001B[39;00m g \u001B[38;5;129;01min\u001B[39;00m groups:\n\u001B[1;32m----> 5\u001B[0m     month_num \u001B[38;5;241m=\u001B[39m (\u001B[43mg\u001B[49m\u001B[43m[\u001B[49m\u001B[38;5;124;43m'\u001B[39;49m\u001B[38;5;124;43mus_mon\u001B[39;49m\u001B[38;5;124;43m'\u001B[39;49m\u001B[43m]\u001B[49m \u001B[38;5;129;01mor\u001B[39;00m g[\u001B[38;5;124m'\u001B[39m\u001B[38;5;124meu_mon\u001B[39m\u001B[38;5;124m'\u001B[39m])\u001B[38;5;241m.\u001B[39mstrip()\n\u001B[0;32m      6\u001B[0m     \u001B[38;5;28;01mtry\u001B[39;00m:\n\u001B[0;32m      7\u001B[0m         month_num \u001B[38;5;241m=\u001B[39m \u001B[38;5;28mint\u001B[39m(month_num)\n",
      "\u001B[1;31mIndexError\u001B[0m: no such group"
     ]
    }
   ],
   "source": [
    "import datetime\n",
    "\n",
    "dates = []\n",
    "for g in groups:\n",
    "    month_num = (g['us_mon'] or g['eu_mon']).strip()\n",
    "    try:\n",
    "        month_num = int(month_num)\n",
    "    except ValueError:\n",
    "        month_num = [w[:len(month_num)] for w in mon_words].index(month_num) + 1\n",
    "    date = datetime.date(int(g['us_yr'] or g['eu_yr']), month_num, int(g['us_day'] or g['eu_day']))\n",
    "    dates.append(date)\n",
    "dates"
   ],
   "metadata": {
    "collapsed": false
   }
  }
 ],
 "metadata": {
  "kernelspec": {
   "display_name": "Python 3",
   "language": "python",
   "name": "python3"
  },
  "language_info": {
   "codemirror_mode": {
    "name": "ipython",
    "version": 2
   },
   "file_extension": ".py",
   "mimetype": "text/x-python",
   "name": "python",
   "nbconvert_exporter": "python",
   "pygments_lexer": "ipython2",
   "version": "2.7.6"
  }
 },
 "nbformat": 4,
 "nbformat_minor": 0
}
