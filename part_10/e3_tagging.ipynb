{
 "cells": [
  {
   "cell_type": "code",
   "execution_count": 1,
   "metadata": {
    "collapsed": true
   },
   "outputs": [],
   "source": [
    "import spacy\n",
    "from spacy.displacy import render\n",
    "from spacy.matcher import Matcher\n",
    "import pandas as pd\n",
    "from collections import OrderedDict"
   ]
  },
  {
   "cell_type": "code",
   "execution_count": 2,
   "outputs": [
    {
     "data": {
      "text/plain": "(1541, Desoto, Pascagoula, Chickasawhay, 30.4)"
     },
     "execution_count": 2,
     "metadata": {},
     "output_type": "execute_result"
    }
   ],
   "source": [
    "en_model = spacy.load('en_core_web_md')\n",
    "sentence = (\"In 1541 Desoto wrote in his journal that the Pascagoula \"\n",
    "            \"people ranged as far north as the confluence \"\n",
    "            \"of the Leaf and Chickasawhay rivers at 30.4, -88.5.\")\n",
    "\n",
    "parsed_sent = en_model(sentence)\n",
    "parsed_sent.ents"
   ],
   "metadata": {
    "collapsed": false
   }
  },
  {
   "cell_type": "code",
   "execution_count": 3,
   "outputs": [
    {
     "data": {
      "text/plain": "'In_IN 1541_CD Desoto_NN wrote_VBD in_IN his_PRP$ journal_NN that_IN the_DT Pascagoula_NNP people_NNS ranged_VBD as_RB far_RB north_RB as_IN the_DT confluence_NN of_IN the_DT Leaf_NNP and_CC Chickasawhay_NNP rivers_NNS at_IN 30.4_CD ,_, -88.5_NN ._.'"
     },
     "execution_count": 3,
     "metadata": {},
     "output_type": "execute_result"
    }
   ],
   "source": [
    "' '.join(['{}_{}'.format(tok, tok.tag_) for tok in parsed_sent])\n",
    "# spaCy used the 'Onto Notes 5\" POS tags."
   ],
   "metadata": {
    "collapsed": false
   }
  },
  {
   "cell_type": "code",
   "execution_count": 4,
   "outputs": [
    {
     "data": {
      "text/plain": "<IPython.core.display.HTML object>",
      "text/html": "<span class=\"tex2jax_ignore\"><!DOCTYPE html>\n<html lang=\"en\">\n    <head>\n        <title>displaCy</title>\n    </head>\n\n    <body style=\"font-size: 16px; font-family: -apple-system, BlinkMacSystemFont, 'Segoe UI', Helvetica, Arial, sans-serif, 'Apple Color Emoji', 'Segoe UI Emoji', 'Segoe UI Symbol'; padding: 4rem 2rem; direction: ltr\">\n<figure style=\"margin-bottom: 6rem\">\n<svg xmlns=\"http://www.w3.org/2000/svg\" xmlns:xlink=\"http://www.w3.org/1999/xlink\" xml:lang=\"en\" id=\"6c4360d8682e4878827ec2c1488f166f-0\" class=\"displacy\" width=\"1550\" height=\"287.0\" direction=\"ltr\" style=\"max-width: none; height: 287.0px; color: #000000; background: #ffffff; font-family: Arial; direction: ltr\">\n<text class=\"displacy-token\" fill=\"currentColor\" text-anchor=\"middle\" y=\"197.0\">\n    <tspan class=\"displacy-word\" fill=\"currentColor\" x=\"50\">In</tspan>\n    <tspan class=\"displacy-tag\" dy=\"2em\" fill=\"currentColor\" x=\"50\">ADP</tspan>\n</text>\n\n<text class=\"displacy-token\" fill=\"currentColor\" text-anchor=\"middle\" y=\"197.0\">\n    <tspan class=\"displacy-word\" fill=\"currentColor\" x=\"200\">1541</tspan>\n    <tspan class=\"displacy-tag\" dy=\"2em\" fill=\"currentColor\" x=\"200\">NUM</tspan>\n</text>\n\n<text class=\"displacy-token\" fill=\"currentColor\" text-anchor=\"middle\" y=\"197.0\">\n    <tspan class=\"displacy-word\" fill=\"currentColor\" x=\"350\">Desoto</tspan>\n    <tspan class=\"displacy-tag\" dy=\"2em\" fill=\"currentColor\" x=\"350\">NOUN</tspan>\n</text>\n\n<text class=\"displacy-token\" fill=\"currentColor\" text-anchor=\"middle\" y=\"197.0\">\n    <tspan class=\"displacy-word\" fill=\"currentColor\" x=\"500\">wrote</tspan>\n    <tspan class=\"displacy-tag\" dy=\"2em\" fill=\"currentColor\" x=\"500\">VERB</tspan>\n</text>\n\n<text class=\"displacy-token\" fill=\"currentColor\" text-anchor=\"middle\" y=\"197.0\">\n    <tspan class=\"displacy-word\" fill=\"currentColor\" x=\"650\">in</tspan>\n    <tspan class=\"displacy-tag\" dy=\"2em\" fill=\"currentColor\" x=\"650\">ADP</tspan>\n</text>\n\n<text class=\"displacy-token\" fill=\"currentColor\" text-anchor=\"middle\" y=\"197.0\">\n    <tspan class=\"displacy-word\" fill=\"currentColor\" x=\"800\">his</tspan>\n    <tspan class=\"displacy-tag\" dy=\"2em\" fill=\"currentColor\" x=\"800\">PRON</tspan>\n</text>\n\n<text class=\"displacy-token\" fill=\"currentColor\" text-anchor=\"middle\" y=\"197.0\">\n    <tspan class=\"displacy-word\" fill=\"currentColor\" x=\"950\">journal</tspan>\n    <tspan class=\"displacy-tag\" dy=\"2em\" fill=\"currentColor\" x=\"950\">NOUN</tspan>\n</text>\n\n<text class=\"displacy-token\" fill=\"currentColor\" text-anchor=\"middle\" y=\"197.0\">\n    <tspan class=\"displacy-word\" fill=\"currentColor\" x=\"1100\">about</tspan>\n    <tspan class=\"displacy-tag\" dy=\"2em\" fill=\"currentColor\" x=\"1100\">ADP</tspan>\n</text>\n\n<text class=\"displacy-token\" fill=\"currentColor\" text-anchor=\"middle\" y=\"197.0\">\n    <tspan class=\"displacy-word\" fill=\"currentColor\" x=\"1250\">the</tspan>\n    <tspan class=\"displacy-tag\" dy=\"2em\" fill=\"currentColor\" x=\"1250\">DET</tspan>\n</text>\n\n<text class=\"displacy-token\" fill=\"currentColor\" text-anchor=\"middle\" y=\"197.0\">\n    <tspan class=\"displacy-word\" fill=\"currentColor\" x=\"1400\">Pascagoula.</tspan>\n    <tspan class=\"displacy-tag\" dy=\"2em\" fill=\"currentColor\" x=\"1400\">PROPN</tspan>\n</text>\n\n<g class=\"displacy-arrow\">\n    <path class=\"displacy-arc\" id=\"arrow-6c4360d8682e4878827ec2c1488f166f-0-0\" stroke-width=\"2px\" d=\"M62,152.0 62,102.0 500.0,102.0 500.0,152.0\" fill=\"none\" stroke=\"currentColor\"/>\n    <text dy=\"1.25em\" style=\"font-size: 0.8em; letter-spacing: 1px\">\n        <textPath xlink:href=\"#arrow-6c4360d8682e4878827ec2c1488f166f-0-0\" class=\"displacy-label\" startOffset=\"50%\" side=\"left\" fill=\"currentColor\" text-anchor=\"middle\">prep</textPath>\n    </text>\n    <path class=\"displacy-arrowhead\" d=\"M62,154.0 L58,146.0 66,146.0\" fill=\"currentColor\"/>\n</g>\n\n<g class=\"displacy-arrow\">\n    <path class=\"displacy-arc\" id=\"arrow-6c4360d8682e4878827ec2c1488f166f-0-1\" stroke-width=\"2px\" d=\"M62,152.0 62,127.0 197.0,127.0 197.0,152.0\" fill=\"none\" stroke=\"currentColor\"/>\n    <text dy=\"1.25em\" style=\"font-size: 0.8em; letter-spacing: 1px\">\n        <textPath xlink:href=\"#arrow-6c4360d8682e4878827ec2c1488f166f-0-1\" class=\"displacy-label\" startOffset=\"50%\" side=\"left\" fill=\"currentColor\" text-anchor=\"middle\">pobj</textPath>\n    </text>\n    <path class=\"displacy-arrowhead\" d=\"M197.0,154.0 L201.0,146.0 193.0,146.0\" fill=\"currentColor\"/>\n</g>\n\n<g class=\"displacy-arrow\">\n    <path class=\"displacy-arc\" id=\"arrow-6c4360d8682e4878827ec2c1488f166f-0-2\" stroke-width=\"2px\" d=\"M362,152.0 362,127.0 497.0,127.0 497.0,152.0\" fill=\"none\" stroke=\"currentColor\"/>\n    <text dy=\"1.25em\" style=\"font-size: 0.8em; letter-spacing: 1px\">\n        <textPath xlink:href=\"#arrow-6c4360d8682e4878827ec2c1488f166f-0-2\" class=\"displacy-label\" startOffset=\"50%\" side=\"left\" fill=\"currentColor\" text-anchor=\"middle\">nsubj</textPath>\n    </text>\n    <path class=\"displacy-arrowhead\" d=\"M362,154.0 L358,146.0 366,146.0\" fill=\"currentColor\"/>\n</g>\n\n<g class=\"displacy-arrow\">\n    <path class=\"displacy-arc\" id=\"arrow-6c4360d8682e4878827ec2c1488f166f-0-3\" stroke-width=\"2px\" d=\"M512,152.0 512,127.0 647.0,127.0 647.0,152.0\" fill=\"none\" stroke=\"currentColor\"/>\n    <text dy=\"1.25em\" style=\"font-size: 0.8em; letter-spacing: 1px\">\n        <textPath xlink:href=\"#arrow-6c4360d8682e4878827ec2c1488f166f-0-3\" class=\"displacy-label\" startOffset=\"50%\" side=\"left\" fill=\"currentColor\" text-anchor=\"middle\">prep</textPath>\n    </text>\n    <path class=\"displacy-arrowhead\" d=\"M647.0,154.0 L651.0,146.0 643.0,146.0\" fill=\"currentColor\"/>\n</g>\n\n<g class=\"displacy-arrow\">\n    <path class=\"displacy-arc\" id=\"arrow-6c4360d8682e4878827ec2c1488f166f-0-4\" stroke-width=\"2px\" d=\"M812,152.0 812,127.0 947.0,127.0 947.0,152.0\" fill=\"none\" stroke=\"currentColor\"/>\n    <text dy=\"1.25em\" style=\"font-size: 0.8em; letter-spacing: 1px\">\n        <textPath xlink:href=\"#arrow-6c4360d8682e4878827ec2c1488f166f-0-4\" class=\"displacy-label\" startOffset=\"50%\" side=\"left\" fill=\"currentColor\" text-anchor=\"middle\">poss</textPath>\n    </text>\n    <path class=\"displacy-arrowhead\" d=\"M812,154.0 L808,146.0 816,146.0\" fill=\"currentColor\"/>\n</g>\n\n<g class=\"displacy-arrow\">\n    <path class=\"displacy-arc\" id=\"arrow-6c4360d8682e4878827ec2c1488f166f-0-5\" stroke-width=\"2px\" d=\"M662,152.0 662,102.0 950.0,102.0 950.0,152.0\" fill=\"none\" stroke=\"currentColor\"/>\n    <text dy=\"1.25em\" style=\"font-size: 0.8em; letter-spacing: 1px\">\n        <textPath xlink:href=\"#arrow-6c4360d8682e4878827ec2c1488f166f-0-5\" class=\"displacy-label\" startOffset=\"50%\" side=\"left\" fill=\"currentColor\" text-anchor=\"middle\">pobj</textPath>\n    </text>\n    <path class=\"displacy-arrowhead\" d=\"M950.0,154.0 L954.0,146.0 946.0,146.0\" fill=\"currentColor\"/>\n</g>\n\n<g class=\"displacy-arrow\">\n    <path class=\"displacy-arc\" id=\"arrow-6c4360d8682e4878827ec2c1488f166f-0-6\" stroke-width=\"2px\" d=\"M962,152.0 962,127.0 1097.0,127.0 1097.0,152.0\" fill=\"none\" stroke=\"currentColor\"/>\n    <text dy=\"1.25em\" style=\"font-size: 0.8em; letter-spacing: 1px\">\n        <textPath xlink:href=\"#arrow-6c4360d8682e4878827ec2c1488f166f-0-6\" class=\"displacy-label\" startOffset=\"50%\" side=\"left\" fill=\"currentColor\" text-anchor=\"middle\">prep</textPath>\n    </text>\n    <path class=\"displacy-arrowhead\" d=\"M1097.0,154.0 L1101.0,146.0 1093.0,146.0\" fill=\"currentColor\"/>\n</g>\n\n<g class=\"displacy-arrow\">\n    <path class=\"displacy-arc\" id=\"arrow-6c4360d8682e4878827ec2c1488f166f-0-7\" stroke-width=\"2px\" d=\"M1262,152.0 1262,127.0 1397.0,127.0 1397.0,152.0\" fill=\"none\" stroke=\"currentColor\"/>\n    <text dy=\"1.25em\" style=\"font-size: 0.8em; letter-spacing: 1px\">\n        <textPath xlink:href=\"#arrow-6c4360d8682e4878827ec2c1488f166f-0-7\" class=\"displacy-label\" startOffset=\"50%\" side=\"left\" fill=\"currentColor\" text-anchor=\"middle\">det</textPath>\n    </text>\n    <path class=\"displacy-arrowhead\" d=\"M1262,154.0 L1258,146.0 1266,146.0\" fill=\"currentColor\"/>\n</g>\n\n<g class=\"displacy-arrow\">\n    <path class=\"displacy-arc\" id=\"arrow-6c4360d8682e4878827ec2c1488f166f-0-8\" stroke-width=\"2px\" d=\"M1112,152.0 1112,102.0 1400.0,102.0 1400.0,152.0\" fill=\"none\" stroke=\"currentColor\"/>\n    <text dy=\"1.25em\" style=\"font-size: 0.8em; letter-spacing: 1px\">\n        <textPath xlink:href=\"#arrow-6c4360d8682e4878827ec2c1488f166f-0-8\" class=\"displacy-label\" startOffset=\"50%\" side=\"left\" fill=\"currentColor\" text-anchor=\"middle\">pobj</textPath>\n    </text>\n    <path class=\"displacy-arrowhead\" d=\"M1400.0,154.0 L1404.0,146.0 1396.0,146.0\" fill=\"currentColor\"/>\n</g>\n</svg>\n</figure>\n</body>\n</html></span>"
     },
     "metadata": {},
     "output_type": "display_data"
    }
   ],
   "source": [
    "sentence = \"In 1541 Desoto wrote in his journal about the Pascagoula.\"\n",
    "parsed_sent = en_model(sentence)\n",
    "\n",
    "render(docs=parsed_sent, page=True, options=dict(compact=True))"
   ],
   "metadata": {
    "collapsed": false
   }
  },
  {
   "cell_type": "code",
   "execution_count": 5,
   "outputs": [],
   "source": [
    "def token_dict(token):\n",
    "    return OrderedDict(ORTH=token.orth_, LEMMA=token.lemma_, POS=token.pos_,\n",
    "                       TAG=token.tag_, DEP=token.dep_)\n",
    "\n",
    "\n",
    "def doc_dataframe(doc):\n",
    "    return pd.DataFrame([token_dict(tok) for tok in doc])"
   ],
   "metadata": {
    "collapsed": false
   }
  },
  {
   "cell_type": "code",
   "execution_count": 6,
   "outputs": [
    {
     "data": {
      "text/plain": "         ORTH       LEMMA    POS  TAG    DEP\n0          In          in    ADP   IN   prep\n1        1541        1541    NUM   CD   pobj\n2      Desoto      desoto   NOUN   NN  nsubj\n3         met        meet   VERB  VBD   ROOT\n4         the         the    DET   DT    det\n5  Pascagoula  Pascagoula  PROPN  NNP   dobj\n6           .           .  PUNCT    .  punct",
      "text/html": "<div>\n<style scoped>\n    .dataframe tbody tr th:only-of-type {\n        vertical-align: middle;\n    }\n\n    .dataframe tbody tr th {\n        vertical-align: top;\n    }\n\n    .dataframe thead th {\n        text-align: right;\n    }\n</style>\n<table border=\"1\" class=\"dataframe\">\n  <thead>\n    <tr style=\"text-align: right;\">\n      <th></th>\n      <th>ORTH</th>\n      <th>LEMMA</th>\n      <th>POS</th>\n      <th>TAG</th>\n      <th>DEP</th>\n    </tr>\n  </thead>\n  <tbody>\n    <tr>\n      <th>0</th>\n      <td>In</td>\n      <td>in</td>\n      <td>ADP</td>\n      <td>IN</td>\n      <td>prep</td>\n    </tr>\n    <tr>\n      <th>1</th>\n      <td>1541</td>\n      <td>1541</td>\n      <td>NUM</td>\n      <td>CD</td>\n      <td>pobj</td>\n    </tr>\n    <tr>\n      <th>2</th>\n      <td>Desoto</td>\n      <td>desoto</td>\n      <td>NOUN</td>\n      <td>NN</td>\n      <td>nsubj</td>\n    </tr>\n    <tr>\n      <th>3</th>\n      <td>met</td>\n      <td>meet</td>\n      <td>VERB</td>\n      <td>VBD</td>\n      <td>ROOT</td>\n    </tr>\n    <tr>\n      <th>4</th>\n      <td>the</td>\n      <td>the</td>\n      <td>DET</td>\n      <td>DT</td>\n      <td>det</td>\n    </tr>\n    <tr>\n      <th>5</th>\n      <td>Pascagoula</td>\n      <td>Pascagoula</td>\n      <td>PROPN</td>\n      <td>NNP</td>\n      <td>dobj</td>\n    </tr>\n    <tr>\n      <th>6</th>\n      <td>.</td>\n      <td>.</td>\n      <td>PUNCT</td>\n      <td>.</td>\n      <td>punct</td>\n    </tr>\n  </tbody>\n</table>\n</div>"
     },
     "execution_count": 6,
     "metadata": {},
     "output_type": "execute_result"
    }
   ],
   "source": [
    "doc_dataframe(en_model(\"In 1541 Desoto met the Pascagoula.\"))"
   ],
   "metadata": {
    "collapsed": false
   }
  },
  {
   "cell_type": "code",
   "execution_count": 19,
   "outputs": [],
   "source": [
    "pattern = [\n",
    "    # [{'TAG': 'NNP', 'OP': '+'}, {'IS_ALPHA': True, 'OP': '*'}],\n",
    "    # [{'LEMMA': 'meet'}],\n",
    "    [{'IS_ALPHA': True, 'OP': '*'}, {'TAG': 'NNP', 'OP': '+'}]\n",
    "]"
   ],
   "metadata": {
    "collapsed": false
   }
  },
  {
   "cell_type": "code",
   "execution_count": 20,
   "outputs": [
    {
     "data": {
      "text/plain": "[(14332210279624491740, 2, 6),\n (14332210279624491740, 3, 6),\n (14332210279624491740, 4, 6),\n (14332210279624491740, 5, 6)]"
     },
     "execution_count": 20,
     "metadata": {},
     "output_type": "execute_result"
    }
   ],
   "source": [
    "doc = en_model(\"In 1541 Desoto met the Pascagoula.\")\n",
    "matcher = Matcher(en_model.vocab)\n",
    "matcher.add('met', pattern)\n",
    "m = matcher(doc)\n",
    "m\n",
    "# expected out: [(12280034159272152371, 2, 6)]"
   ],
   "metadata": {
    "collapsed": false
   }
  },
  {
   "cell_type": "code",
   "execution_count": 21,
   "outputs": [
    {
     "name": "stdout",
     "output_type": "stream",
     "text": [
      "0 Desoto met the Pascagoula\n",
      "1 met the Pascagoula\n",
      "2 the Pascagoula\n",
      "3 Pascagoula\n"
     ]
    }
   ],
   "source": [
    "for i in range(len(m)):\n",
    "    print('{}'.format(i), doc[m[i][1]:m[i][2]])\n",
    "# expected out: Desoto met the Pascagoula"
   ],
   "metadata": {
    "collapsed": false
   }
  },
  {
   "cell_type": "code",
   "execution_count": 10,
   "outputs": [
    {
     "data": {
      "text/plain": "[(14332210279624491740, 0, 1),\n (14332210279624491740, 3, 4),\n (14332210279624491740, 3, 5),\n (14332210279624491740, 3, 6),\n (14332210279624491740, 4, 6),\n (14332210279624491740, 5, 6),\n (14332210279624491740, 6, 7),\n (14332210279624491740, 3, 7),\n (14332210279624491740, 5, 7),\n (14332210279624491740, 3, 8),\n (14332210279624491740, 5, 8),\n (14332210279624491740, 3, 9),\n (14332210279624491740, 5, 9),\n (14332210279624491740, 3, 10),\n (14332210279624491740, 5, 10),\n (14332210279624491740, 4, 10),\n (14332210279624491740, 6, 10),\n (14332210279624491740, 7, 10),\n (14332210279624491740, 8, 10),\n (14332210279624491740, 9, 10),\n (14332210279624491740, 3, 11),\n (14332210279624491740, 5, 11),\n (14332210279624491740, 4, 11),\n (14332210279624491740, 6, 11),\n (14332210279624491740, 7, 11),\n (14332210279624491740, 8, 11),\n (14332210279624491740, 9, 11),\n (14332210279624491740, 10, 11),\n (14332210279624491740, 12, 13),\n (14332210279624491740, 12, 14),\n (14332210279624491740, 13, 14)]"
     },
     "execution_count": 10,
     "metadata": {},
     "output_type": "execute_result"
    }
   ],
   "source": [
    "doc = en_model(\"October 24: Lewis and Clark met their first Mandan Chief, Big White.\")\n",
    "m = matcher(doc)\n",
    "m"
   ],
   "metadata": {
    "collapsed": false
   }
  },
  {
   "cell_type": "code",
   "execution_count": 11,
   "outputs": [
    {
     "name": "stdout",
     "output_type": "stream",
     "text": [
      "0 October\n",
      "1 Lewis\n",
      "2 Lewis and\n",
      "3 Lewis and Clark\n",
      "4 and Clark\n",
      "5 Clark\n",
      "6 met\n",
      "7 Lewis and Clark met\n",
      "8 Clark met\n",
      "9 Lewis and Clark met their\n",
      "10 Clark met their\n",
      "11 Lewis and Clark met their first\n",
      "12 Clark met their first\n",
      "13 Lewis and Clark met their first Mandan\n",
      "14 Clark met their first Mandan\n",
      "15 and Clark met their first Mandan\n",
      "16 met their first Mandan\n",
      "17 their first Mandan\n",
      "18 first Mandan\n",
      "19 Mandan\n",
      "20 Lewis and Clark met their first Mandan Chief\n",
      "21 Clark met their first Mandan Chief\n",
      "22 and Clark met their first Mandan Chief\n",
      "23 met their first Mandan Chief\n",
      "24 their first Mandan Chief\n",
      "25 first Mandan Chief\n",
      "26 Mandan Chief\n",
      "27 Chief\n",
      "28 Big\n",
      "29 Big White\n",
      "30 White\n"
     ]
    }
   ],
   "source": [
    "for i in range(len(m)):\n",
    "    print('{}'.format(i), doc[m[i][1]:m[i][2]])"
   ],
   "metadata": {
    "collapsed": false
   }
  },
  {
   "cell_type": "code",
   "execution_count": 12,
   "outputs": [],
   "source": [
    "doc = en_model(\"On 11 October 1986, Gorbachev and Reagan met at a house\")\n",
    "m = matcher(doc)\n",
    "# expected: []"
   ],
   "metadata": {
    "collapsed": false
   }
  },
  {
   "cell_type": "code",
   "execution_count": 13,
   "outputs": [
    {
     "name": "stdout",
     "output_type": "stream",
     "text": [
      "0 October\n",
      "1 Gorbachev\n",
      "2 Gorbachev and\n",
      "3 Gorbachev and Reagan\n",
      "4 and Reagan\n",
      "5 Reagan\n",
      "6 met\n",
      "7 Gorbachev and Reagan met\n",
      "8 Reagan met\n",
      "9 Gorbachev and Reagan met at\n",
      "10 Reagan met at\n",
      "11 Gorbachev and Reagan met at a\n",
      "12 Reagan met at a\n",
      "13 Gorbachev and Reagan met at a house\n",
      "14 Reagan met at a house\n"
     ]
    }
   ],
   "source": [
    "for i in range(len(m)):\n",
    "    print('{}'.format(i), doc[m[i][1]:m[i][2]])"
   ],
   "metadata": {
    "collapsed": false
   }
  },
  {
   "cell_type": "code",
   "execution_count": 14,
   "outputs": [],
   "source": [
    "doc = en_model(\"On 11 October 1986, Gorbachev and Reagan met at a house\")"
   ],
   "metadata": {
    "collapsed": false
   }
  },
  {
   "cell_type": "code",
   "execution_count": 15,
   "outputs": [],
   "source": [
    "pattern = [\n",
    "    [{'TAG': 'NNP', 'OP': '+'}, {'LEMMA': 'and'}, {'TAG': 'NNP', 'OP': '+'},\n",
    "     {'IS_ALPHA': True, 'OP': '*'}, {'LEMMA': 'meet'}]\n",
    "]"
   ],
   "metadata": {
    "collapsed": false
   }
  },
  {
   "cell_type": "code",
   "execution_count": 16,
   "outputs": [
    {
     "data": {
      "text/plain": "[(14332210279624491740, 2, 3),\n (14332210279624491740, 5, 6),\n (14332210279624491740, 5, 7),\n (14332210279624491740, 5, 8),\n (14332210279624491740, 5, 9),\n (14332210279624491740, 6, 8),\n (14332210279624491740, 7, 8),\n (14332210279624491740, 8, 9),\n (14332210279624491740, 7, 9),\n (14332210279624491740, 5, 10),\n (14332210279624491740, 7, 10),\n (14332210279624491740, 5, 11),\n (14332210279624491740, 7, 11),\n (14332210279624491740, 5, 12),\n (14332210279624491740, 7, 12)]"
     },
     "execution_count": 16,
     "metadata": {},
     "output_type": "execute_result"
    }
   ],
   "source": [
    "matcher.add('met', pattern)\n",
    "m = matcher(doc)\n",
    "m"
   ],
   "metadata": {
    "collapsed": false
   }
  },
  {
   "cell_type": "code",
   "execution_count": 17,
   "outputs": [
    {
     "name": "stdout",
     "output_type": "stream",
     "text": [
      "0 October\n",
      "1 Gorbachev\n",
      "2 Gorbachev and\n",
      "3 Gorbachev and Reagan\n",
      "4 Gorbachev and Reagan met\n",
      "5 and Reagan\n",
      "6 Reagan\n",
      "7 met\n",
      "8 Reagan met\n",
      "9 Gorbachev and Reagan met at\n",
      "10 Reagan met at\n",
      "11 Gorbachev and Reagan met at a\n",
      "12 Reagan met at a\n",
      "13 Gorbachev and Reagan met at a house\n",
      "14 Reagan met at a house\n"
     ]
    }
   ],
   "source": [
    "for i in range(len(m)):\n",
    "    print('{}'.format(i), doc[m[i][1]:m[i][2]])"
   ],
   "metadata": {
    "collapsed": false
   }
  }
 ],
 "metadata": {
  "kernelspec": {
   "display_name": "Python 3",
   "language": "python",
   "name": "python3"
  },
  "language_info": {
   "codemirror_mode": {
    "name": "ipython",
    "version": 2
   },
   "file_extension": ".py",
   "mimetype": "text/x-python",
   "name": "python",
   "nbconvert_exporter": "python",
   "pygments_lexer": "ipython2",
   "version": "2.7.6"
  }
 },
 "nbformat": 4,
 "nbformat_minor": 0
}
